{
  "cells": [
    {
      "cell_type": "markdown",
      "metadata": {
        "id": "view-in-github",
        "colab_type": "text"
      },
      "source": [
        "<a href=\"https://colab.research.google.com/github/2uanDM/FDC105_final/blob/Trang's-code/FDC105_final.ipynb\" target=\"_parent\"><img src=\"https://colab.research.google.com/assets/colab-badge.svg\" alt=\"Open In Colab\"/></a>"
      ]
    },
    {
      "cell_type": "markdown",
      "metadata": {
        "id": "EIo2KZc807EE"
      },
      "source": [
        "# FDC105 Final project"
      ]
    },
    {
      "cell_type": "markdown",
      "metadata": {
        "id": "2yFIDy6G1Azg"
      },
      "source": [
        "## I. Dataset description"
      ]
    },
    {
      "cell_type": "markdown",
      "metadata": {
        "id": "mF41AMStvwvJ"
      },
      "source": [
        "**Định nghĩa Customer churn** \n",
        "\n",
        "Customer churn là thuật ngữ trong kinh doanh, được hiểu là sự rời đi của khách hàng. Customer churn rate có nghĩa là tỷ lệ khách hàng rời đi trong một khoảng thời gian nhất định.\n",
        "Trong kinh doanh, nếu khách hàng cảm thấy không hài lòng, thỏa mãn với dịch vụ và sản phẩm mà bạn cung cấp, họ sẽ rời đi, hay nói cách khác, họ sẽ ngừng kết nối hoặc hợp tác với doanh nghiệp của bạn. \n",
        "\n",
        "**Tầm quan trọng của Customer churn đối với doanh nghiệp**\n",
        "\n",
        "*Thứ nhất*, vấn đề mất hụt tài chính. Rõ ràng, số lượng khách hàng rời đi càng nhiều, doanh thu và lợi nhuận của doanh nghiệp sẽ giảm, thậm chí là giảm ở con số lớn. Bên cạnh đó, theo trang Forrester, chi phí để sở hữu được một khách hàng mới nhiều gấp 5 lần chi phí để giữ một khách hàng cũ. Đặc biệt, chi phí để sở hữu một khách hàng trung thành mới nhiều gấp 16 lần chi phí cho khách hàng trung thành hiện tại. Như vậy, nếu mất khách hàng hiện tại, doanh nghiệp của bạn vừa mất một khoản doanh thu khá lớn cũng như tốn nhiều chi phí để kêu gọi, thu hút khách hàng mới.\n",
        "\n",
        "*Thứ hai*, doanh thu sẽ tăng nếu customer churn rate thấp. Doanh nghiệp càng giữ được nhiều khách hàng, lợi nhuận càng cao. Theo báo cáo của trường đại học Harvard, trung bình, cứ 5% khách hàng được giữ lại, thì lợi nhuận thu vào sẽ dao động từ 25% đến 95%, những con số mà chúng ta chưa từng nghĩ tới. \n",
        "Vì vậy, việc quan tâm, chú ý đến Churn customer rate là cấp thiết để duy trì và phát triển doanh nghiệp.\n",
        "\n"
      ]
    },
    {
      "cell_type": "markdown",
      "metadata": {
        "id": "hm65P0zXu-Ca"
      },
      "source": [
        ">Đối với dịch vụ **\"Heo số\"**, nhóm định nghĩa **churn customer** là:\n",
        ">*   Những khách hàng đã sử dụng dịch vụ \"Heo số\" - **Tổng số lần gửi tiết kiệm 'totalSavings2021_heoSo' không bị NULL**\n",
        ">*   Không ghi nhận số dư tiết kiệm trong tối thiểu 3 tháng - **Số dư trong tài khoản tiết kiệm tại tháng 03 và 06 bị NULL hoặc bằng 0.**\n"
      ]
    },
    {
      "cell_type": "markdown",
      "metadata": {
        "id": "YFn0bRWCO-FP"
      },
      "source": [
        "> Sau khi đã xác định được churn customer, nhóm sẽ sử dụng dữ liệu về **thông tin cá nhân của khách hàng** cùng với những **hành vi** của khách hàng được ghi nhận **trong tháng 3** (các trường có chứa mar2021 hoặc Mar2021) để xây dựng mô hình dự đoán khách hàng churn.<br>\n",
        "> Tiếp theo, nhóm sử dụng **mô hình đã xây dựng được** cùng với dữ liệu về **hành vi** của khách hàng **trong tháng 6** để dự đoán khách hàng có **xu hướng churn trong tương lai**.\n",
        "\n"
      ]
    },
    {
      "cell_type": "markdown",
      "metadata": {
        "id": "t753wg-02GyQ"
      },
      "source": [
        "## II. Load and preview the dataset "
      ]
    },
    {
      "cell_type": "markdown",
      "metadata": {
        "id": "ZbHrboMLGADX"
      },
      "source": [
        "### Import the modules"
      ]
    },
    {
      "cell_type": "code",
      "execution_count": 2,
      "metadata": {
        "id": "4NFq7F9cEIqW"
      },
      "outputs": [],
      "source": [
        "import pandas as pd\n",
        "import numpy as np\n",
        "import matplotlib.pyplot as plt\n",
        "import numpy as np\n",
        "from scipy import stats\n",
        "%matplotlib inline\n",
        "import seaborn as sns\n",
        "import datetime\n",
        "from plotly.subplots import make_subplots\n",
        "import plotly.graph_objects as go\n",
        "\n",
        "\n",
        "from sklearn.linear_model import LinearRegression\n",
        "from sklearn.linear_model import Ridge\n",
        "from sklearn.ensemble import RandomForestRegressor\n",
        "from sklearn.ensemble import AdaBoostClassifier\n",
        "from xgboost import XGBClassifier\n",
        "from sklearn.tree import DecisionTreeClassifier\n",
        "from sklearn.datasets import make_classification\n",
        "from sklearn.model_selection import train_test_split, cross_val_score\n",
        "\n",
        "from sklearn import metrics\n",
        "from sklearn.metrics import r2_score\n",
        "from sklearn.metrics import mean_squared_error\n",
        "from sklearn.metrics import accuracy_score\n",
        "from sklearn.metrics import mean_absolute_error\n",
        "from sklearn.metrics import precision_score, recall_score"
      ]
    },
    {
      "cell_type": "markdown",
      "metadata": {
        "id": "Mo0RSnC9ANmJ"
      },
      "source": [
        "### Pandas display options"
      ]
    },
    {
      "cell_type": "code",
      "execution_count": 33,
      "metadata": {
        "id": "dUwjQR_XAQbN"
      },
      "outputs": [],
      "source": [
        "pd.set_option('display.max_columns',50)\n",
        "pd.set_option('display.max_rows',50)"
      ]
    },
    {
      "cell_type": "markdown",
      "metadata": {
        "id": "Msbq4s-IGP9S"
      },
      "source": [
        "### Load dataset"
      ]
    },
    {
      "cell_type": "code",
      "execution_count": 34,
      "metadata": {
        "id": "L8bVXZpLDul4"
      },
      "outputs": [],
      "source": [
        "df = pd.read_csv('https://raw.githubusercontent.com/2uanDM/DataProcessing/main/dataset.csv')"
      ]
    },
    {
      "cell_type": "markdown",
      "metadata": {
        "id": "3oGOB8gRGjix"
      },
      "source": [
        "### Preview dataset"
      ]
    },
    {
      "cell_type": "markdown",
      "source": [
        "#### Data information"
      ],
      "metadata": {
        "id": "xsHVhs2qNdL2"
      }
    },
    {
      "cell_type": "code",
      "execution_count": null,
      "metadata": {
        "colab": {
          "base_uri": "https://localhost:8080/",
          "height": 319
        },
        "id": "817enkqpGtMg",
        "outputId": "f4bcd409-e465-4fc0-cda5-07fb4b26a267"
      },
      "outputs": [
        {
          "output_type": "execute_result",
          "data": {
            "text/plain": [
              "  local_ref_1 vn_marital_status  resid_province  resid_district  resid_wards  \\\n",
              "0        MALE           Married            27.0           262.0       9436.0   \n",
              "1        MALE            Single            79.0           769.0      27097.0   \n",
              "2        MALE           Married             1.0           250.0       8989.0   \n",
              "3        MALE            Single            40.0           431.0      18055.0   \n",
              "4        MALE           Married            49.0           512.0      20758.0   \n",
              "\n",
              "   birth_incorp_date   amount_week   max_amount_week  min_amount_week  \\\n",
              "0             1992.0            NaN              NaN              NaN   \n",
              "1             1986.0            NaN              NaN              NaN   \n",
              "2             1980.0            NaN              NaN              NaN   \n",
              "3             2001.0            NaN              NaN              NaN   \n",
              "4             1989.0            0.0         0.000114         0.000636   \n",
              "\n",
              "   distinct_payment_code_week  count_payment_code_week  \\\n",
              "0                         0.0                      0.0   \n",
              "1                         NaN                      NaN   \n",
              "2                         NaN                      NaN   \n",
              "3                         NaN                      NaN   \n",
              "4                         0.0                      0.0   \n",
              "\n",
              "   distinct_trans_group_week  distinct_ref_no_week  amount_month  \\\n",
              "0                        1.0                   1.0      0.000056   \n",
              "1                        NaN                   NaN      0.000019   \n",
              "2                        NaN                   NaN      0.000030   \n",
              "3                        NaN                   NaN           NaN   \n",
              "4                        1.0                   1.0      0.000097   \n",
              "\n",
              "   max_amount_month  min_amount_month  distinct_payment_code_month  \\\n",
              "0          0.000204          0.000008                          0.0   \n",
              "1          0.000140          0.000203                          0.0   \n",
              "2          0.000122          0.000143                          0.0   \n",
              "3               NaN               NaN                          NaN   \n",
              "4          0.000247          0.000001                          1.0   \n",
              "\n",
              "   count_payment_code_month  distinct_trans_group_month  \\\n",
              "0                       0.0                         2.0   \n",
              "1                       0.0                         1.0   \n",
              "2                       0.0                         1.0   \n",
              "3                       NaN                         NaN   \n",
              "4                       5.0                         3.0   \n",
              "\n",
              "   distinct_ref_no_month  amount_3month  max_amount_3month  min_amount_3month  \\\n",
              "0                   12.0       0.000073           0.000400       5.920000e-06   \n",
              "1                    1.0       0.000014           0.000068       1.103180e-04   \n",
              "2                    2.0       0.000016           0.000060       2.100000e-05   \n",
              "3                    NaN            NaN                NaN                NaN   \n",
              "4                   12.0       0.000074           0.000380       5.920000e-07   \n",
              "\n",
              "   distinct_payment_code_3month  count_payment_code_3month  \\\n",
              "0                             0                          0   \n",
              "1                             0                          0   \n",
              "2                             2                          3   \n",
              "3                             0                          0   \n",
              "4                             1                         11   \n",
              "\n",
              "   distinct_trans_group_3month  distinct_ref_no_3month  \\\n",
              "0                            2                      33   \n",
              "1                            2                       5   \n",
              "2                            2                       7   \n",
              "3                            1                       1   \n",
              "4                            3                      24   \n",
              "\n",
              "   most_act_mar2021_count        most_act_mar2021  total_act_mar2021  \\\n",
              "0                     5.0  Giao dich chuyen khoan                5.0   \n",
              "1                     NaN                     NaN                NaN   \n",
              "2                     4.0  Giao dich chuyen khoan                6.0   \n",
              "3                     NaN                     NaN                NaN   \n",
              "4                     9.0  Giao dich chuyen khoan               10.0   \n",
              "\n",
              "    total_amt_mar2021   most_act_juin2021_count       most_act_juin2021  \\\n",
              "0             0.000016                     14.0  Giao dich chuyen khoan   \n",
              "1                  NaN                      1.0    Giao dich thanh toan   \n",
              "2             0.000046                      1.0  Giao dich chuyen khoan   \n",
              "3                  NaN                      NaN                     NaN   \n",
              "4             0.000170                     17.0  Giao dich chuyen khoan   \n",
              "\n",
              "   total_act_juin2021  total_amt_juin2021       rd_id  \\\n",
              "0                17.0            0.006543  1542621943   \n",
              "1                 1.0            0.000062  1570544787   \n",
              "2                 2.0            0.000071   636921018   \n",
              "3                 NaN                 NaN   642516181   \n",
              "4                19.0            0.000575  1308443119   \n",
              "\n",
              "   savingValueMar2021_heoSo  savingValueJuin2021_heoSo  \\\n",
              "0                       NaN                        NaN   \n",
              "1                       NaN                        NaN   \n",
              "2                       NaN                        NaN   \n",
              "3                       NaN                        NaN   \n",
              "4                       NaN                        NaN   \n",
              "\n",
              "   totalLoginMar2021_heoSo  totalLoginJuin2021_heoSo  totalSavings2021_heoSo  \\\n",
              "0                      NaN                       NaN                     NaN   \n",
              "1                      NaN                       NaN                     NaN   \n",
              "2                      NaN                       NaN                     NaN   \n",
              "3                      NaN                       NaN                     NaN   \n",
              "4                      NaN                       NaN                     NaN   \n",
              "\n",
              "   balanceJuin2021  nominal_interestJuin2021  real_interestJuin2021  \\\n",
              "0              NaN                       NaN                    NaN   \n",
              "1         0.003666                  0.006953               0.004128   \n",
              "2              NaN                       NaN                    NaN   \n",
              "3              NaN                       NaN                    NaN   \n",
              "4              NaN                       NaN                    NaN   \n",
              "\n",
              "   nhomno_xhtdJuin2021  categoryJuin2021  sub_productJuin2021  \\\n",
              "0                  NaN               NaN                  NaN   \n",
              "1                  1.0           21061.0                365.0   \n",
              "2                  NaN               NaN                  NaN   \n",
              "3                  NaN               NaN                  NaN   \n",
              "4                  NaN               NaN                  NaN   \n",
              "\n",
              "  loaikyhanJuin2021  sectorJuin2021  product_codeJuin2021  \n",
              "0               NaN             NaN                   NaN  \n",
              "1                DH          1890.0               22321.0  \n",
              "2               NaN             NaN                   NaN  \n",
              "3               NaN             NaN                   NaN  \n",
              "4               NaN             NaN                   NaN  "
            ],
            "text/html": [
              "\n",
              "  <div id=\"df-d0b02e3f-9597-4520-9a3a-3de7007de589\">\n",
              "    <div class=\"colab-df-container\">\n",
              "      <div>\n",
              "<style scoped>\n",
              "    .dataframe tbody tr th:only-of-type {\n",
              "        vertical-align: middle;\n",
              "    }\n",
              "\n",
              "    .dataframe tbody tr th {\n",
              "        vertical-align: top;\n",
              "    }\n",
              "\n",
              "    .dataframe thead th {\n",
              "        text-align: right;\n",
              "    }\n",
              "</style>\n",
              "<table border=\"1\" class=\"dataframe\">\n",
              "  <thead>\n",
              "    <tr style=\"text-align: right;\">\n",
              "      <th></th>\n",
              "      <th>local_ref_1</th>\n",
              "      <th>vn_marital_status</th>\n",
              "      <th>resid_province</th>\n",
              "      <th>resid_district</th>\n",
              "      <th>resid_wards</th>\n",
              "      <th>birth_incorp_date</th>\n",
              "      <th>amount_week</th>\n",
              "      <th>max_amount_week</th>\n",
              "      <th>min_amount_week</th>\n",
              "      <th>distinct_payment_code_week</th>\n",
              "      <th>count_payment_code_week</th>\n",
              "      <th>distinct_trans_group_week</th>\n",
              "      <th>distinct_ref_no_week</th>\n",
              "      <th>amount_month</th>\n",
              "      <th>max_amount_month</th>\n",
              "      <th>min_amount_month</th>\n",
              "      <th>distinct_payment_code_month</th>\n",
              "      <th>count_payment_code_month</th>\n",
              "      <th>distinct_trans_group_month</th>\n",
              "      <th>distinct_ref_no_month</th>\n",
              "      <th>amount_3month</th>\n",
              "      <th>max_amount_3month</th>\n",
              "      <th>min_amount_3month</th>\n",
              "      <th>distinct_payment_code_3month</th>\n",
              "      <th>count_payment_code_3month</th>\n",
              "      <th>distinct_trans_group_3month</th>\n",
              "      <th>distinct_ref_no_3month</th>\n",
              "      <th>most_act_mar2021_count</th>\n",
              "      <th>most_act_mar2021</th>\n",
              "      <th>total_act_mar2021</th>\n",
              "      <th>total_amt_mar2021</th>\n",
              "      <th>most_act_juin2021_count</th>\n",
              "      <th>most_act_juin2021</th>\n",
              "      <th>total_act_juin2021</th>\n",
              "      <th>total_amt_juin2021</th>\n",
              "      <th>rd_id</th>\n",
              "      <th>savingValueMar2021_heoSo</th>\n",
              "      <th>savingValueJuin2021_heoSo</th>\n",
              "      <th>totalLoginMar2021_heoSo</th>\n",
              "      <th>totalLoginJuin2021_heoSo</th>\n",
              "      <th>totalSavings2021_heoSo</th>\n",
              "      <th>balanceJuin2021</th>\n",
              "      <th>nominal_interestJuin2021</th>\n",
              "      <th>real_interestJuin2021</th>\n",
              "      <th>nhomno_xhtdJuin2021</th>\n",
              "      <th>categoryJuin2021</th>\n",
              "      <th>sub_productJuin2021</th>\n",
              "      <th>loaikyhanJuin2021</th>\n",
              "      <th>sectorJuin2021</th>\n",
              "      <th>product_codeJuin2021</th>\n",
              "    </tr>\n",
              "  </thead>\n",
              "  <tbody>\n",
              "    <tr>\n",
              "      <th>0</th>\n",
              "      <td>MALE</td>\n",
              "      <td>Married</td>\n",
              "      <td>27.0</td>\n",
              "      <td>262.0</td>\n",
              "      <td>9436.0</td>\n",
              "      <td>1992.0</td>\n",
              "      <td>NaN</td>\n",
              "      <td>NaN</td>\n",
              "      <td>NaN</td>\n",
              "      <td>0.0</td>\n",
              "      <td>0.0</td>\n",
              "      <td>1.0</td>\n",
              "      <td>1.0</td>\n",
              "      <td>0.000056</td>\n",
              "      <td>0.000204</td>\n",
              "      <td>0.000008</td>\n",
              "      <td>0.0</td>\n",
              "      <td>0.0</td>\n",
              "      <td>2.0</td>\n",
              "      <td>12.0</td>\n",
              "      <td>0.000073</td>\n",
              "      <td>0.000400</td>\n",
              "      <td>5.920000e-06</td>\n",
              "      <td>0</td>\n",
              "      <td>0</td>\n",
              "      <td>2</td>\n",
              "      <td>33</td>\n",
              "      <td>5.0</td>\n",
              "      <td>Giao dich chuyen khoan</td>\n",
              "      <td>5.0</td>\n",
              "      <td>0.000016</td>\n",
              "      <td>14.0</td>\n",
              "      <td>Giao dich chuyen khoan</td>\n",
              "      <td>17.0</td>\n",
              "      <td>0.006543</td>\n",
              "      <td>1542621943</td>\n",
              "      <td>NaN</td>\n",
              "      <td>NaN</td>\n",
              "      <td>NaN</td>\n",
              "      <td>NaN</td>\n",
              "      <td>NaN</td>\n",
              "      <td>NaN</td>\n",
              "      <td>NaN</td>\n",
              "      <td>NaN</td>\n",
              "      <td>NaN</td>\n",
              "      <td>NaN</td>\n",
              "      <td>NaN</td>\n",
              "      <td>NaN</td>\n",
              "      <td>NaN</td>\n",
              "      <td>NaN</td>\n",
              "    </tr>\n",
              "    <tr>\n",
              "      <th>1</th>\n",
              "      <td>MALE</td>\n",
              "      <td>Single</td>\n",
              "      <td>79.0</td>\n",
              "      <td>769.0</td>\n",
              "      <td>27097.0</td>\n",
              "      <td>1986.0</td>\n",
              "      <td>NaN</td>\n",
              "      <td>NaN</td>\n",
              "      <td>NaN</td>\n",
              "      <td>NaN</td>\n",
              "      <td>NaN</td>\n",
              "      <td>NaN</td>\n",
              "      <td>NaN</td>\n",
              "      <td>0.000019</td>\n",
              "      <td>0.000140</td>\n",
              "      <td>0.000203</td>\n",
              "      <td>0.0</td>\n",
              "      <td>0.0</td>\n",
              "      <td>1.0</td>\n",
              "      <td>1.0</td>\n",
              "      <td>0.000014</td>\n",
              "      <td>0.000068</td>\n",
              "      <td>1.103180e-04</td>\n",
              "      <td>0</td>\n",
              "      <td>0</td>\n",
              "      <td>2</td>\n",
              "      <td>5</td>\n",
              "      <td>NaN</td>\n",
              "      <td>NaN</td>\n",
              "      <td>NaN</td>\n",
              "      <td>NaN</td>\n",
              "      <td>1.0</td>\n",
              "      <td>Giao dich thanh toan</td>\n",
              "      <td>1.0</td>\n",
              "      <td>0.000062</td>\n",
              "      <td>1570544787</td>\n",
              "      <td>NaN</td>\n",
              "      <td>NaN</td>\n",
              "      <td>NaN</td>\n",
              "      <td>NaN</td>\n",
              "      <td>NaN</td>\n",
              "      <td>0.003666</td>\n",
              "      <td>0.006953</td>\n",
              "      <td>0.004128</td>\n",
              "      <td>1.0</td>\n",
              "      <td>21061.0</td>\n",
              "      <td>365.0</td>\n",
              "      <td>DH</td>\n",
              "      <td>1890.0</td>\n",
              "      <td>22321.0</td>\n",
              "    </tr>\n",
              "    <tr>\n",
              "      <th>2</th>\n",
              "      <td>MALE</td>\n",
              "      <td>Married</td>\n",
              "      <td>1.0</td>\n",
              "      <td>250.0</td>\n",
              "      <td>8989.0</td>\n",
              "      <td>1980.0</td>\n",
              "      <td>NaN</td>\n",
              "      <td>NaN</td>\n",
              "      <td>NaN</td>\n",
              "      <td>NaN</td>\n",
              "      <td>NaN</td>\n",
              "      <td>NaN</td>\n",
              "      <td>NaN</td>\n",
              "      <td>0.000030</td>\n",
              "      <td>0.000122</td>\n",
              "      <td>0.000143</td>\n",
              "      <td>0.0</td>\n",
              "      <td>0.0</td>\n",
              "      <td>1.0</td>\n",
              "      <td>2.0</td>\n",
              "      <td>0.000016</td>\n",
              "      <td>0.000060</td>\n",
              "      <td>2.100000e-05</td>\n",
              "      <td>2</td>\n",
              "      <td>3</td>\n",
              "      <td>2</td>\n",
              "      <td>7</td>\n",
              "      <td>4.0</td>\n",
              "      <td>Giao dich chuyen khoan</td>\n",
              "      <td>6.0</td>\n",
              "      <td>0.000046</td>\n",
              "      <td>1.0</td>\n",
              "      <td>Giao dich chuyen khoan</td>\n",
              "      <td>2.0</td>\n",
              "      <td>0.000071</td>\n",
              "      <td>636921018</td>\n",
              "      <td>NaN</td>\n",
              "      <td>NaN</td>\n",
              "      <td>NaN</td>\n",
              "      <td>NaN</td>\n",
              "      <td>NaN</td>\n",
              "      <td>NaN</td>\n",
              "      <td>NaN</td>\n",
              "      <td>NaN</td>\n",
              "      <td>NaN</td>\n",
              "      <td>NaN</td>\n",
              "      <td>NaN</td>\n",
              "      <td>NaN</td>\n",
              "      <td>NaN</td>\n",
              "      <td>NaN</td>\n",
              "    </tr>\n",
              "    <tr>\n",
              "      <th>3</th>\n",
              "      <td>MALE</td>\n",
              "      <td>Single</td>\n",
              "      <td>40.0</td>\n",
              "      <td>431.0</td>\n",
              "      <td>18055.0</td>\n",
              "      <td>2001.0</td>\n",
              "      <td>NaN</td>\n",
              "      <td>NaN</td>\n",
              "      <td>NaN</td>\n",
              "      <td>NaN</td>\n",
              "      <td>NaN</td>\n",
              "      <td>NaN</td>\n",
              "      <td>NaN</td>\n",
              "      <td>NaN</td>\n",
              "      <td>NaN</td>\n",
              "      <td>NaN</td>\n",
              "      <td>NaN</td>\n",
              "      <td>NaN</td>\n",
              "      <td>NaN</td>\n",
              "      <td>NaN</td>\n",
              "      <td>NaN</td>\n",
              "      <td>NaN</td>\n",
              "      <td>NaN</td>\n",
              "      <td>0</td>\n",
              "      <td>0</td>\n",
              "      <td>1</td>\n",
              "      <td>1</td>\n",
              "      <td>NaN</td>\n",
              "      <td>NaN</td>\n",
              "      <td>NaN</td>\n",
              "      <td>NaN</td>\n",
              "      <td>NaN</td>\n",
              "      <td>NaN</td>\n",
              "      <td>NaN</td>\n",
              "      <td>NaN</td>\n",
              "      <td>642516181</td>\n",
              "      <td>NaN</td>\n",
              "      <td>NaN</td>\n",
              "      <td>NaN</td>\n",
              "      <td>NaN</td>\n",
              "      <td>NaN</td>\n",
              "      <td>NaN</td>\n",
              "      <td>NaN</td>\n",
              "      <td>NaN</td>\n",
              "      <td>NaN</td>\n",
              "      <td>NaN</td>\n",
              "      <td>NaN</td>\n",
              "      <td>NaN</td>\n",
              "      <td>NaN</td>\n",
              "      <td>NaN</td>\n",
              "    </tr>\n",
              "    <tr>\n",
              "      <th>4</th>\n",
              "      <td>MALE</td>\n",
              "      <td>Married</td>\n",
              "      <td>49.0</td>\n",
              "      <td>512.0</td>\n",
              "      <td>20758.0</td>\n",
              "      <td>1989.0</td>\n",
              "      <td>0.0</td>\n",
              "      <td>0.000114</td>\n",
              "      <td>0.000636</td>\n",
              "      <td>0.0</td>\n",
              "      <td>0.0</td>\n",
              "      <td>1.0</td>\n",
              "      <td>1.0</td>\n",
              "      <td>0.000097</td>\n",
              "      <td>0.000247</td>\n",
              "      <td>0.000001</td>\n",
              "      <td>1.0</td>\n",
              "      <td>5.0</td>\n",
              "      <td>3.0</td>\n",
              "      <td>12.0</td>\n",
              "      <td>0.000074</td>\n",
              "      <td>0.000380</td>\n",
              "      <td>5.920000e-07</td>\n",
              "      <td>1</td>\n",
              "      <td>11</td>\n",
              "      <td>3</td>\n",
              "      <td>24</td>\n",
              "      <td>9.0</td>\n",
              "      <td>Giao dich chuyen khoan</td>\n",
              "      <td>10.0</td>\n",
              "      <td>0.000170</td>\n",
              "      <td>17.0</td>\n",
              "      <td>Giao dich chuyen khoan</td>\n",
              "      <td>19.0</td>\n",
              "      <td>0.000575</td>\n",
              "      <td>1308443119</td>\n",
              "      <td>NaN</td>\n",
              "      <td>NaN</td>\n",
              "      <td>NaN</td>\n",
              "      <td>NaN</td>\n",
              "      <td>NaN</td>\n",
              "      <td>NaN</td>\n",
              "      <td>NaN</td>\n",
              "      <td>NaN</td>\n",
              "      <td>NaN</td>\n",
              "      <td>NaN</td>\n",
              "      <td>NaN</td>\n",
              "      <td>NaN</td>\n",
              "      <td>NaN</td>\n",
              "      <td>NaN</td>\n",
              "    </tr>\n",
              "  </tbody>\n",
              "</table>\n",
              "</div>\n",
              "      <button class=\"colab-df-convert\" onclick=\"convertToInteractive('df-d0b02e3f-9597-4520-9a3a-3de7007de589')\"\n",
              "              title=\"Convert this dataframe to an interactive table.\"\n",
              "              style=\"display:none;\">\n",
              "        \n",
              "  <svg xmlns=\"http://www.w3.org/2000/svg\" height=\"24px\"viewBox=\"0 0 24 24\"\n",
              "       width=\"24px\">\n",
              "    <path d=\"M0 0h24v24H0V0z\" fill=\"none\"/>\n",
              "    <path d=\"M18.56 5.44l.94 2.06.94-2.06 2.06-.94-2.06-.94-.94-2.06-.94 2.06-2.06.94zm-11 1L8.5 8.5l.94-2.06 2.06-.94-2.06-.94L8.5 2.5l-.94 2.06-2.06.94zm10 10l.94 2.06.94-2.06 2.06-.94-2.06-.94-.94-2.06-.94 2.06-2.06.94z\"/><path d=\"M17.41 7.96l-1.37-1.37c-.4-.4-.92-.59-1.43-.59-.52 0-1.04.2-1.43.59L10.3 9.45l-7.72 7.72c-.78.78-.78 2.05 0 2.83L4 21.41c.39.39.9.59 1.41.59.51 0 1.02-.2 1.41-.59l7.78-7.78 2.81-2.81c.8-.78.8-2.07 0-2.86zM5.41 20L4 18.59l7.72-7.72 1.47 1.35L5.41 20z\"/>\n",
              "  </svg>\n",
              "      </button>\n",
              "      \n",
              "  <style>\n",
              "    .colab-df-container {\n",
              "      display:flex;\n",
              "      flex-wrap:wrap;\n",
              "      gap: 12px;\n",
              "    }\n",
              "\n",
              "    .colab-df-convert {\n",
              "      background-color: #E8F0FE;\n",
              "      border: none;\n",
              "      border-radius: 50%;\n",
              "      cursor: pointer;\n",
              "      display: none;\n",
              "      fill: #1967D2;\n",
              "      height: 32px;\n",
              "      padding: 0 0 0 0;\n",
              "      width: 32px;\n",
              "    }\n",
              "\n",
              "    .colab-df-convert:hover {\n",
              "      background-color: #E2EBFA;\n",
              "      box-shadow: 0px 1px 2px rgba(60, 64, 67, 0.3), 0px 1px 3px 1px rgba(60, 64, 67, 0.15);\n",
              "      fill: #174EA6;\n",
              "    }\n",
              "\n",
              "    [theme=dark] .colab-df-convert {\n",
              "      background-color: #3B4455;\n",
              "      fill: #D2E3FC;\n",
              "    }\n",
              "\n",
              "    [theme=dark] .colab-df-convert:hover {\n",
              "      background-color: #434B5C;\n",
              "      box-shadow: 0px 1px 3px 1px rgba(0, 0, 0, 0.15);\n",
              "      filter: drop-shadow(0px 1px 2px rgba(0, 0, 0, 0.3));\n",
              "      fill: #FFFFFF;\n",
              "    }\n",
              "  </style>\n",
              "\n",
              "      <script>\n",
              "        const buttonEl =\n",
              "          document.querySelector('#df-d0b02e3f-9597-4520-9a3a-3de7007de589 button.colab-df-convert');\n",
              "        buttonEl.style.display =\n",
              "          google.colab.kernel.accessAllowed ? 'block' : 'none';\n",
              "\n",
              "        async function convertToInteractive(key) {\n",
              "          const element = document.querySelector('#df-d0b02e3f-9597-4520-9a3a-3de7007de589');\n",
              "          const dataTable =\n",
              "            await google.colab.kernel.invokeFunction('convertToInteractive',\n",
              "                                                     [key], {});\n",
              "          if (!dataTable) return;\n",
              "\n",
              "          const docLinkHtml = 'Like what you see? Visit the ' +\n",
              "            '<a target=\"_blank\" href=https://colab.research.google.com/notebooks/data_table.ipynb>data table notebook</a>'\n",
              "            + ' to learn more about interactive tables.';\n",
              "          element.innerHTML = '';\n",
              "          dataTable['output_type'] = 'display_data';\n",
              "          await google.colab.output.renderOutput(dataTable, element);\n",
              "          const docLink = document.createElement('div');\n",
              "          docLink.innerHTML = docLinkHtml;\n",
              "          element.appendChild(docLink);\n",
              "        }\n",
              "      </script>\n",
              "    </div>\n",
              "  </div>\n",
              "  "
            ]
          },
          "metadata": {},
          "execution_count": 4
        }
      ],
      "source": [
        "#  Viewing the data of top 5 rows to take a glimps of the data\n",
        "df.head()"
      ]
    },
    {
      "cell_type": "code",
      "execution_count": null,
      "metadata": {
        "colab": {
          "base_uri": "https://localhost:8080/",
          "height": 357
        },
        "id": "6ad19it6GyAB",
        "outputId": "c825d6d6-ecc5-44d5-a0fa-c1fb4d68c272"
      },
      "outputs": [
        {
          "output_type": "execute_result",
          "data": {
            "text/plain": [
              "      local_ref_1 vn_marital_status  resid_province  resid_district  \\\n",
              "99995      FEMALE            Single             1.0             6.0   \n",
              "99996        MALE            Single            25.0           239.0   \n",
              "99997      FEMALE           Married            31.0           316.0   \n",
              "99998        MALE            Single             1.0           271.0   \n",
              "99999        MALE            Single            26.0           251.0   \n",
              "\n",
              "       resid_wards  birth_incorp_date   amount_week   max_amount_week  \\\n",
              "99995        178.0             1992.0            NaN              NaN   \n",
              "99996       8689.0             2001.0            NaN              NaN   \n",
              "99997      11842.0             1987.0            NaN              NaN   \n",
              "99998       9706.0             2002.0            NaN              NaN   \n",
              "99999       9070.0             2001.0            NaN              NaN   \n",
              "\n",
              "       min_amount_week  distinct_payment_code_week  count_payment_code_week  \\\n",
              "99995              NaN                         NaN                      NaN   \n",
              "99996              NaN                         0.0                      0.0   \n",
              "99997              NaN                         NaN                      NaN   \n",
              "99998              NaN                         NaN                      NaN   \n",
              "99999              NaN                         0.0                      0.0   \n",
              "\n",
              "       distinct_trans_group_week  distinct_ref_no_week  amount_month  \\\n",
              "99995                        NaN                   NaN           NaN   \n",
              "99996                        1.0                   1.0           NaN   \n",
              "99997                        NaN                   NaN      0.000046   \n",
              "99998                        NaN                   NaN           NaN   \n",
              "99999                        1.0                   1.0           NaN   \n",
              "\n",
              "       max_amount_month  min_amount_month  distinct_payment_code_month  \\\n",
              "99995               NaN               NaN                          NaN   \n",
              "99996               NaN               NaN                          0.0   \n",
              "99997          0.000333          0.000482                          0.0   \n",
              "99998               NaN               NaN                          NaN   \n",
              "99999               NaN               NaN                          0.0   \n",
              "\n",
              "       count_payment_code_month  distinct_trans_group_month  \\\n",
              "99995                       NaN                         NaN   \n",
              "99996                       0.0                         1.0   \n",
              "99997                       0.0                         2.0   \n",
              "99998                       NaN                         NaN   \n",
              "99999                       0.0                         1.0   \n",
              "\n",
              "       distinct_ref_no_month  amount_3month  max_amount_3month  \\\n",
              "99995                    NaN            NaN                NaN   \n",
              "99996                    1.0            NaN                NaN   \n",
              "99997                    2.0       0.000012           0.000163   \n",
              "99998                    NaN            NaN                NaN   \n",
              "99999                    1.0            NaN                NaN   \n",
              "\n",
              "       min_amount_3month  distinct_payment_code_3month  \\\n",
              "99995                NaN                             0   \n",
              "99996                NaN                             0   \n",
              "99997           0.000051                             0   \n",
              "99998                NaN                             0   \n",
              "99999                NaN                             0   \n",
              "\n",
              "       count_payment_code_3month  distinct_trans_group_3month  \\\n",
              "99995                          0                            1   \n",
              "99996                          0                            1   \n",
              "99997                          0                            2   \n",
              "99998                          0                            1   \n",
              "99999                          0                            1   \n",
              "\n",
              "       distinct_ref_no_3month  most_act_mar2021_count        most_act_mar2021  \\\n",
              "99995                       2                    16.0  Giao dich chuyen khoan   \n",
              "99996                       1                     NaN                     NaN   \n",
              "99997                       4                     5.0  Giao dich chuyen khoan   \n",
              "99998                       1                    29.0  Giao dich chuyen khoan   \n",
              "99999                       1                     6.0  Giao dich chuyen khoan   \n",
              "\n",
              "       total_act_mar2021   total_amt_mar2021   most_act_juin2021_count  \\\n",
              "99995               18.0             0.000108                     15.0   \n",
              "99996                NaN                  NaN                      8.0   \n",
              "99997                9.0             0.000436                      2.0   \n",
              "99998               36.0             0.000090                     12.0   \n",
              "99999                8.0             0.000019                     19.0   \n",
              "\n",
              "             most_act_juin2021  total_act_juin2021  total_amt_juin2021  \\\n",
              "99995   Giao dich chuyen khoan                16.0            0.000351   \n",
              "99996  GIAO DICH PHI TAI CHINH                15.0            0.000116   \n",
              "99997   Giao dich chuyen khoan                 3.0            0.000170   \n",
              "99998   Giao dich chuyen khoan                13.0            0.000143   \n",
              "99999   Giao dich chuyen khoan                22.0            0.000109   \n",
              "\n",
              "            rd_id  savingValueMar2021_heoSo  savingValueJuin2021_heoSo  \\\n",
              "99995   581545472                  0.000119                   0.000061   \n",
              "99996   561024968                       NaN                   0.000122   \n",
              "99997  1436724790                  0.064286                   0.032927   \n",
              "99998   685139231                       NaN                   0.000793   \n",
              "99999  1470216807                       NaN                   0.000366   \n",
              "\n",
              "       totalLoginMar2021_heoSo  totalLoginJuin2021_heoSo  \\\n",
              "99995                      3.0                       8.0   \n",
              "99996                      1.0                      13.0   \n",
              "99997                     14.0                      15.0   \n",
              "99998                     12.0                      38.0   \n",
              "99999                      8.0                      13.0   \n",
              "\n",
              "       totalSavings2021_heoSo  balanceJuin2021  nominal_interestJuin2021  \\\n",
              "99995                0.010638              NaN                       NaN   \n",
              "99996                0.010638              NaN                       NaN   \n",
              "99997                0.010638              NaN                       NaN   \n",
              "99998                0.010638              NaN                       NaN   \n",
              "99999                0.021277              NaN                       NaN   \n",
              "\n",
              "       real_interestJuin2021  nhomno_xhtdJuin2021  categoryJuin2021  \\\n",
              "99995                    NaN                  NaN               NaN   \n",
              "99996                    NaN                  NaN               NaN   \n",
              "99997                    NaN                  NaN               NaN   \n",
              "99998                    NaN                  NaN               NaN   \n",
              "99999                    NaN                  NaN               NaN   \n",
              "\n",
              "       sub_productJuin2021 loaikyhanJuin2021  sectorJuin2021  \\\n",
              "99995                  NaN               NaN             NaN   \n",
              "99996                  NaN               NaN             NaN   \n",
              "99997                  NaN               NaN             NaN   \n",
              "99998                  NaN               NaN             NaN   \n",
              "99999                  NaN               NaN             NaN   \n",
              "\n",
              "       product_codeJuin2021  \n",
              "99995                   NaN  \n",
              "99996                   NaN  \n",
              "99997                   NaN  \n",
              "99998                   NaN  \n",
              "99999                   NaN  "
            ],
            "text/html": [
              "\n",
              "  <div id=\"df-b52118a4-5d4e-4913-b1af-28fa2dede6b9\">\n",
              "    <div class=\"colab-df-container\">\n",
              "      <div>\n",
              "<style scoped>\n",
              "    .dataframe tbody tr th:only-of-type {\n",
              "        vertical-align: middle;\n",
              "    }\n",
              "\n",
              "    .dataframe tbody tr th {\n",
              "        vertical-align: top;\n",
              "    }\n",
              "\n",
              "    .dataframe thead th {\n",
              "        text-align: right;\n",
              "    }\n",
              "</style>\n",
              "<table border=\"1\" class=\"dataframe\">\n",
              "  <thead>\n",
              "    <tr style=\"text-align: right;\">\n",
              "      <th></th>\n",
              "      <th>local_ref_1</th>\n",
              "      <th>vn_marital_status</th>\n",
              "      <th>resid_province</th>\n",
              "      <th>resid_district</th>\n",
              "      <th>resid_wards</th>\n",
              "      <th>birth_incorp_date</th>\n",
              "      <th>amount_week</th>\n",
              "      <th>max_amount_week</th>\n",
              "      <th>min_amount_week</th>\n",
              "      <th>distinct_payment_code_week</th>\n",
              "      <th>count_payment_code_week</th>\n",
              "      <th>distinct_trans_group_week</th>\n",
              "      <th>distinct_ref_no_week</th>\n",
              "      <th>amount_month</th>\n",
              "      <th>max_amount_month</th>\n",
              "      <th>min_amount_month</th>\n",
              "      <th>distinct_payment_code_month</th>\n",
              "      <th>count_payment_code_month</th>\n",
              "      <th>distinct_trans_group_month</th>\n",
              "      <th>distinct_ref_no_month</th>\n",
              "      <th>amount_3month</th>\n",
              "      <th>max_amount_3month</th>\n",
              "      <th>min_amount_3month</th>\n",
              "      <th>distinct_payment_code_3month</th>\n",
              "      <th>count_payment_code_3month</th>\n",
              "      <th>distinct_trans_group_3month</th>\n",
              "      <th>distinct_ref_no_3month</th>\n",
              "      <th>most_act_mar2021_count</th>\n",
              "      <th>most_act_mar2021</th>\n",
              "      <th>total_act_mar2021</th>\n",
              "      <th>total_amt_mar2021</th>\n",
              "      <th>most_act_juin2021_count</th>\n",
              "      <th>most_act_juin2021</th>\n",
              "      <th>total_act_juin2021</th>\n",
              "      <th>total_amt_juin2021</th>\n",
              "      <th>rd_id</th>\n",
              "      <th>savingValueMar2021_heoSo</th>\n",
              "      <th>savingValueJuin2021_heoSo</th>\n",
              "      <th>totalLoginMar2021_heoSo</th>\n",
              "      <th>totalLoginJuin2021_heoSo</th>\n",
              "      <th>totalSavings2021_heoSo</th>\n",
              "      <th>balanceJuin2021</th>\n",
              "      <th>nominal_interestJuin2021</th>\n",
              "      <th>real_interestJuin2021</th>\n",
              "      <th>nhomno_xhtdJuin2021</th>\n",
              "      <th>categoryJuin2021</th>\n",
              "      <th>sub_productJuin2021</th>\n",
              "      <th>loaikyhanJuin2021</th>\n",
              "      <th>sectorJuin2021</th>\n",
              "      <th>product_codeJuin2021</th>\n",
              "    </tr>\n",
              "  </thead>\n",
              "  <tbody>\n",
              "    <tr>\n",
              "      <th>99995</th>\n",
              "      <td>FEMALE</td>\n",
              "      <td>Single</td>\n",
              "      <td>1.0</td>\n",
              "      <td>6.0</td>\n",
              "      <td>178.0</td>\n",
              "      <td>1992.0</td>\n",
              "      <td>NaN</td>\n",
              "      <td>NaN</td>\n",
              "      <td>NaN</td>\n",
              "      <td>NaN</td>\n",
              "      <td>NaN</td>\n",
              "      <td>NaN</td>\n",
              "      <td>NaN</td>\n",
              "      <td>NaN</td>\n",
              "      <td>NaN</td>\n",
              "      <td>NaN</td>\n",
              "      <td>NaN</td>\n",
              "      <td>NaN</td>\n",
              "      <td>NaN</td>\n",
              "      <td>NaN</td>\n",
              "      <td>NaN</td>\n",
              "      <td>NaN</td>\n",
              "      <td>NaN</td>\n",
              "      <td>0</td>\n",
              "      <td>0</td>\n",
              "      <td>1</td>\n",
              "      <td>2</td>\n",
              "      <td>16.0</td>\n",
              "      <td>Giao dich chuyen khoan</td>\n",
              "      <td>18.0</td>\n",
              "      <td>0.000108</td>\n",
              "      <td>15.0</td>\n",
              "      <td>Giao dich chuyen khoan</td>\n",
              "      <td>16.0</td>\n",
              "      <td>0.000351</td>\n",
              "      <td>581545472</td>\n",
              "      <td>0.000119</td>\n",
              "      <td>0.000061</td>\n",
              "      <td>3.0</td>\n",
              "      <td>8.0</td>\n",
              "      <td>0.010638</td>\n",
              "      <td>NaN</td>\n",
              "      <td>NaN</td>\n",
              "      <td>NaN</td>\n",
              "      <td>NaN</td>\n",
              "      <td>NaN</td>\n",
              "      <td>NaN</td>\n",
              "      <td>NaN</td>\n",
              "      <td>NaN</td>\n",
              "      <td>NaN</td>\n",
              "    </tr>\n",
              "    <tr>\n",
              "      <th>99996</th>\n",
              "      <td>MALE</td>\n",
              "      <td>Single</td>\n",
              "      <td>25.0</td>\n",
              "      <td>239.0</td>\n",
              "      <td>8689.0</td>\n",
              "      <td>2001.0</td>\n",
              "      <td>NaN</td>\n",
              "      <td>NaN</td>\n",
              "      <td>NaN</td>\n",
              "      <td>0.0</td>\n",
              "      <td>0.0</td>\n",
              "      <td>1.0</td>\n",
              "      <td>1.0</td>\n",
              "      <td>NaN</td>\n",
              "      <td>NaN</td>\n",
              "      <td>NaN</td>\n",
              "      <td>0.0</td>\n",
              "      <td>0.0</td>\n",
              "      <td>1.0</td>\n",
              "      <td>1.0</td>\n",
              "      <td>NaN</td>\n",
              "      <td>NaN</td>\n",
              "      <td>NaN</td>\n",
              "      <td>0</td>\n",
              "      <td>0</td>\n",
              "      <td>1</td>\n",
              "      <td>1</td>\n",
              "      <td>NaN</td>\n",
              "      <td>NaN</td>\n",
              "      <td>NaN</td>\n",
              "      <td>NaN</td>\n",
              "      <td>8.0</td>\n",
              "      <td>GIAO DICH PHI TAI CHINH</td>\n",
              "      <td>15.0</td>\n",
              "      <td>0.000116</td>\n",
              "      <td>561024968</td>\n",
              "      <td>NaN</td>\n",
              "      <td>0.000122</td>\n",
              "      <td>1.0</td>\n",
              "      <td>13.0</td>\n",
              "      <td>0.010638</td>\n",
              "      <td>NaN</td>\n",
              "      <td>NaN</td>\n",
              "      <td>NaN</td>\n",
              "      <td>NaN</td>\n",
              "      <td>NaN</td>\n",
              "      <td>NaN</td>\n",
              "      <td>NaN</td>\n",
              "      <td>NaN</td>\n",
              "      <td>NaN</td>\n",
              "    </tr>\n",
              "    <tr>\n",
              "      <th>99997</th>\n",
              "      <td>FEMALE</td>\n",
              "      <td>Married</td>\n",
              "      <td>31.0</td>\n",
              "      <td>316.0</td>\n",
              "      <td>11842.0</td>\n",
              "      <td>1987.0</td>\n",
              "      <td>NaN</td>\n",
              "      <td>NaN</td>\n",
              "      <td>NaN</td>\n",
              "      <td>NaN</td>\n",
              "      <td>NaN</td>\n",
              "      <td>NaN</td>\n",
              "      <td>NaN</td>\n",
              "      <td>0.000046</td>\n",
              "      <td>0.000333</td>\n",
              "      <td>0.000482</td>\n",
              "      <td>0.0</td>\n",
              "      <td>0.0</td>\n",
              "      <td>2.0</td>\n",
              "      <td>2.0</td>\n",
              "      <td>0.000012</td>\n",
              "      <td>0.000163</td>\n",
              "      <td>0.000051</td>\n",
              "      <td>0</td>\n",
              "      <td>0</td>\n",
              "      <td>2</td>\n",
              "      <td>4</td>\n",
              "      <td>5.0</td>\n",
              "      <td>Giao dich chuyen khoan</td>\n",
              "      <td>9.0</td>\n",
              "      <td>0.000436</td>\n",
              "      <td>2.0</td>\n",
              "      <td>Giao dich chuyen khoan</td>\n",
              "      <td>3.0</td>\n",
              "      <td>0.000170</td>\n",
              "      <td>1436724790</td>\n",
              "      <td>0.064286</td>\n",
              "      <td>0.032927</td>\n",
              "      <td>14.0</td>\n",
              "      <td>15.0</td>\n",
              "      <td>0.010638</td>\n",
              "      <td>NaN</td>\n",
              "      <td>NaN</td>\n",
              "      <td>NaN</td>\n",
              "      <td>NaN</td>\n",
              "      <td>NaN</td>\n",
              "      <td>NaN</td>\n",
              "      <td>NaN</td>\n",
              "      <td>NaN</td>\n",
              "      <td>NaN</td>\n",
              "    </tr>\n",
              "    <tr>\n",
              "      <th>99998</th>\n",
              "      <td>MALE</td>\n",
              "      <td>Single</td>\n",
              "      <td>1.0</td>\n",
              "      <td>271.0</td>\n",
              "      <td>9706.0</td>\n",
              "      <td>2002.0</td>\n",
              "      <td>NaN</td>\n",
              "      <td>NaN</td>\n",
              "      <td>NaN</td>\n",
              "      <td>NaN</td>\n",
              "      <td>NaN</td>\n",
              "      <td>NaN</td>\n",
              "      <td>NaN</td>\n",
              "      <td>NaN</td>\n",
              "      <td>NaN</td>\n",
              "      <td>NaN</td>\n",
              "      <td>NaN</td>\n",
              "      <td>NaN</td>\n",
              "      <td>NaN</td>\n",
              "      <td>NaN</td>\n",
              "      <td>NaN</td>\n",
              "      <td>NaN</td>\n",
              "      <td>NaN</td>\n",
              "      <td>0</td>\n",
              "      <td>0</td>\n",
              "      <td>1</td>\n",
              "      <td>1</td>\n",
              "      <td>29.0</td>\n",
              "      <td>Giao dich chuyen khoan</td>\n",
              "      <td>36.0</td>\n",
              "      <td>0.000090</td>\n",
              "      <td>12.0</td>\n",
              "      <td>Giao dich chuyen khoan</td>\n",
              "      <td>13.0</td>\n",
              "      <td>0.000143</td>\n",
              "      <td>685139231</td>\n",
              "      <td>NaN</td>\n",
              "      <td>0.000793</td>\n",
              "      <td>12.0</td>\n",
              "      <td>38.0</td>\n",
              "      <td>0.010638</td>\n",
              "      <td>NaN</td>\n",
              "      <td>NaN</td>\n",
              "      <td>NaN</td>\n",
              "      <td>NaN</td>\n",
              "      <td>NaN</td>\n",
              "      <td>NaN</td>\n",
              "      <td>NaN</td>\n",
              "      <td>NaN</td>\n",
              "      <td>NaN</td>\n",
              "    </tr>\n",
              "    <tr>\n",
              "      <th>99999</th>\n",
              "      <td>MALE</td>\n",
              "      <td>Single</td>\n",
              "      <td>26.0</td>\n",
              "      <td>251.0</td>\n",
              "      <td>9070.0</td>\n",
              "      <td>2001.0</td>\n",
              "      <td>NaN</td>\n",
              "      <td>NaN</td>\n",
              "      <td>NaN</td>\n",
              "      <td>0.0</td>\n",
              "      <td>0.0</td>\n",
              "      <td>1.0</td>\n",
              "      <td>1.0</td>\n",
              "      <td>NaN</td>\n",
              "      <td>NaN</td>\n",
              "      <td>NaN</td>\n",
              "      <td>0.0</td>\n",
              "      <td>0.0</td>\n",
              "      <td>1.0</td>\n",
              "      <td>1.0</td>\n",
              "      <td>NaN</td>\n",
              "      <td>NaN</td>\n",
              "      <td>NaN</td>\n",
              "      <td>0</td>\n",
              "      <td>0</td>\n",
              "      <td>1</td>\n",
              "      <td>1</td>\n",
              "      <td>6.0</td>\n",
              "      <td>Giao dich chuyen khoan</td>\n",
              "      <td>8.0</td>\n",
              "      <td>0.000019</td>\n",
              "      <td>19.0</td>\n",
              "      <td>Giao dich chuyen khoan</td>\n",
              "      <td>22.0</td>\n",
              "      <td>0.000109</td>\n",
              "      <td>1470216807</td>\n",
              "      <td>NaN</td>\n",
              "      <td>0.000366</td>\n",
              "      <td>8.0</td>\n",
              "      <td>13.0</td>\n",
              "      <td>0.021277</td>\n",
              "      <td>NaN</td>\n",
              "      <td>NaN</td>\n",
              "      <td>NaN</td>\n",
              "      <td>NaN</td>\n",
              "      <td>NaN</td>\n",
              "      <td>NaN</td>\n",
              "      <td>NaN</td>\n",
              "      <td>NaN</td>\n",
              "      <td>NaN</td>\n",
              "    </tr>\n",
              "  </tbody>\n",
              "</table>\n",
              "</div>\n",
              "      <button class=\"colab-df-convert\" onclick=\"convertToInteractive('df-b52118a4-5d4e-4913-b1af-28fa2dede6b9')\"\n",
              "              title=\"Convert this dataframe to an interactive table.\"\n",
              "              style=\"display:none;\">\n",
              "        \n",
              "  <svg xmlns=\"http://www.w3.org/2000/svg\" height=\"24px\"viewBox=\"0 0 24 24\"\n",
              "       width=\"24px\">\n",
              "    <path d=\"M0 0h24v24H0V0z\" fill=\"none\"/>\n",
              "    <path d=\"M18.56 5.44l.94 2.06.94-2.06 2.06-.94-2.06-.94-.94-2.06-.94 2.06-2.06.94zm-11 1L8.5 8.5l.94-2.06 2.06-.94-2.06-.94L8.5 2.5l-.94 2.06-2.06.94zm10 10l.94 2.06.94-2.06 2.06-.94-2.06-.94-.94-2.06-.94 2.06-2.06.94z\"/><path d=\"M17.41 7.96l-1.37-1.37c-.4-.4-.92-.59-1.43-.59-.52 0-1.04.2-1.43.59L10.3 9.45l-7.72 7.72c-.78.78-.78 2.05 0 2.83L4 21.41c.39.39.9.59 1.41.59.51 0 1.02-.2 1.41-.59l7.78-7.78 2.81-2.81c.8-.78.8-2.07 0-2.86zM5.41 20L4 18.59l7.72-7.72 1.47 1.35L5.41 20z\"/>\n",
              "  </svg>\n",
              "      </button>\n",
              "      \n",
              "  <style>\n",
              "    .colab-df-container {\n",
              "      display:flex;\n",
              "      flex-wrap:wrap;\n",
              "      gap: 12px;\n",
              "    }\n",
              "\n",
              "    .colab-df-convert {\n",
              "      background-color: #E8F0FE;\n",
              "      border: none;\n",
              "      border-radius: 50%;\n",
              "      cursor: pointer;\n",
              "      display: none;\n",
              "      fill: #1967D2;\n",
              "      height: 32px;\n",
              "      padding: 0 0 0 0;\n",
              "      width: 32px;\n",
              "    }\n",
              "\n",
              "    .colab-df-convert:hover {\n",
              "      background-color: #E2EBFA;\n",
              "      box-shadow: 0px 1px 2px rgba(60, 64, 67, 0.3), 0px 1px 3px 1px rgba(60, 64, 67, 0.15);\n",
              "      fill: #174EA6;\n",
              "    }\n",
              "\n",
              "    [theme=dark] .colab-df-convert {\n",
              "      background-color: #3B4455;\n",
              "      fill: #D2E3FC;\n",
              "    }\n",
              "\n",
              "    [theme=dark] .colab-df-convert:hover {\n",
              "      background-color: #434B5C;\n",
              "      box-shadow: 0px 1px 3px 1px rgba(0, 0, 0, 0.15);\n",
              "      filter: drop-shadow(0px 1px 2px rgba(0, 0, 0, 0.3));\n",
              "      fill: #FFFFFF;\n",
              "    }\n",
              "  </style>\n",
              "\n",
              "      <script>\n",
              "        const buttonEl =\n",
              "          document.querySelector('#df-b52118a4-5d4e-4913-b1af-28fa2dede6b9 button.colab-df-convert');\n",
              "        buttonEl.style.display =\n",
              "          google.colab.kernel.accessAllowed ? 'block' : 'none';\n",
              "\n",
              "        async function convertToInteractive(key) {\n",
              "          const element = document.querySelector('#df-b52118a4-5d4e-4913-b1af-28fa2dede6b9');\n",
              "          const dataTable =\n",
              "            await google.colab.kernel.invokeFunction('convertToInteractive',\n",
              "                                                     [key], {});\n",
              "          if (!dataTable) return;\n",
              "\n",
              "          const docLinkHtml = 'Like what you see? Visit the ' +\n",
              "            '<a target=\"_blank\" href=https://colab.research.google.com/notebooks/data_table.ipynb>data table notebook</a>'\n",
              "            + ' to learn more about interactive tables.';\n",
              "          element.innerHTML = '';\n",
              "          dataTable['output_type'] = 'display_data';\n",
              "          await google.colab.output.renderOutput(dataTable, element);\n",
              "          const docLink = document.createElement('div');\n",
              "          docLink.innerHTML = docLinkHtml;\n",
              "          element.appendChild(docLink);\n",
              "        }\n",
              "      </script>\n",
              "    </div>\n",
              "  </div>\n",
              "  "
            ]
          },
          "metadata": {},
          "execution_count": 5
        }
      ],
      "source": [
        "# View the data of bottom 5 rows to take a glimps of the data\n",
        "df.tail()"
      ]
    },
    {
      "cell_type": "code",
      "execution_count": null,
      "metadata": {
        "colab": {
          "base_uri": "https://localhost:8080/"
        },
        "id": "CaENeaIxHH0k",
        "outputId": "3c35f7d2-5a2b-4a55-e375-0062087245f5"
      },
      "outputs": [
        {
          "output_type": "execute_result",
          "data": {
            "text/plain": [
              "(100000, 50)"
            ]
          },
          "metadata": {},
          "execution_count": 7
        }
      ],
      "source": [
        "#Getting the shape of dataset with rows and columns\n",
        "df.shape"
      ]
    },
    {
      "cell_type": "code",
      "execution_count": null,
      "metadata": {
        "colab": {
          "base_uri": "https://localhost:8080/"
        },
        "id": "wvjxGa6bHbzC",
        "outputId": "30a6b140-5298-40f5-97c1-57c45d8501bd"
      },
      "outputs": [
        {
          "output_type": "stream",
          "name": "stdout",
          "text": [
            "<class 'pandas.core.frame.DataFrame'>\n",
            "RangeIndex: 100000 entries, 0 to 99999\n",
            "Data columns (total 50 columns):\n",
            " #   Column                        Non-Null Count   Dtype  \n",
            "---  ------                        --------------   -----  \n",
            " 0   local_ref_1                   97266 non-null   object \n",
            " 1   vn_marital_status             96971 non-null   object \n",
            " 2   resid_province                93431 non-null   float64\n",
            " 3   resid_district                93435 non-null   float64\n",
            " 4   resid_wards                   93433 non-null   float64\n",
            " 5   birth_incorp_date             99990 non-null   float64\n",
            " 6    amount_week                  54800 non-null   float64\n",
            " 7   max_amount_week               54800 non-null   float64\n",
            " 8   min_amount_week               54800 non-null   float64\n",
            " 9   distinct_payment_code_week    56850 non-null   float64\n",
            " 10  count_payment_code_week       56850 non-null   float64\n",
            " 11  distinct_trans_group_week     56850 non-null   float64\n",
            " 12  distinct_ref_no_week          56850 non-null   float64\n",
            " 13  amount_month                  77000 non-null   float64\n",
            " 14  max_amount_month              77000 non-null   float64\n",
            " 15  min_amount_month              77000 non-null   float64\n",
            " 16  distinct_payment_code_month   82223 non-null   float64\n",
            " 17  count_payment_code_month      82223 non-null   float64\n",
            " 18  distinct_trans_group_month    82223 non-null   float64\n",
            " 19  distinct_ref_no_month         82223 non-null   float64\n",
            " 20  amount_3month                 86520 non-null   float64\n",
            " 21  max_amount_3month             86520 non-null   float64\n",
            " 22  min_amount_3month             86520 non-null   float64\n",
            " 23  distinct_payment_code_3month  100000 non-null  int64  \n",
            " 24  count_payment_code_3month     100000 non-null  int64  \n",
            " 25  distinct_trans_group_3month   100000 non-null  int64  \n",
            " 26  distinct_ref_no_3month        100000 non-null  int64  \n",
            " 27  most_act_mar2021_count        73477 non-null   float64\n",
            " 28  most_act_mar2021              73476 non-null   object \n",
            " 29  total_act_mar2021             73477 non-null   float64\n",
            " 30   total_amt_mar2021            72855 non-null   float64\n",
            " 31  most_act_juin2021_count       71377 non-null   float64\n",
            " 32  most_act_juin2021             71375 non-null   object \n",
            " 33  total_act_juin2021            71377 non-null   float64\n",
            " 34  total_amt_juin2021            70664 non-null   float64\n",
            " 35  rd_id                         100000 non-null  int64  \n",
            " 36  savingValueMar2021_heoSo      5039 non-null    float64\n",
            " 37  savingValueJuin2021_heoSo     7146 non-null    float64\n",
            " 38  totalLoginMar2021_heoSo       7315 non-null    float64\n",
            " 39  totalLoginJuin2021_heoSo      7571 non-null    float64\n",
            " 40  totalSavings2021_heoSo        7592 non-null    float64\n",
            " 41  balanceJuin2021               29956 non-null   float64\n",
            " 42  nominal_interestJuin2021      29956 non-null   float64\n",
            " 43  real_interestJuin2021         29956 non-null   float64\n",
            " 44  nhomno_xhtdJuin2021           29956 non-null   float64\n",
            " 45  categoryJuin2021              29956 non-null   float64\n",
            " 46  sub_productJuin2021           20750 non-null   float64\n",
            " 47  loaikyhanJuin2021             29956 non-null   object \n",
            " 48  sectorJuin2021                29956 non-null   float64\n",
            " 49  product_codeJuin2021          29956 non-null   float64\n",
            "dtypes: float64(40), int64(5), object(5)\n",
            "memory usage: 38.1+ MB\n"
          ]
        }
      ],
      "source": [
        "#check details about the data set\n",
        "df.info()"
      ]
    },
    {
      "cell_type": "markdown",
      "source": [
        "#### Unique values"
      ],
      "metadata": {
        "id": "h4csSzpLM7jG"
      }
    },
    {
      "cell_type": "code",
      "execution_count": null,
      "metadata": {
        "colab": {
          "base_uri": "https://localhost:8080/"
        },
        "id": "wmVSzDRNHkvs",
        "outputId": "0b219020-6629-4507-db8d-9df6069bee76"
      },
      "outputs": [
        {
          "output_type": "execute_result",
          "data": {
            "text/plain": [
              "local_ref_1                          2\n",
              "vn_marital_status                    7\n",
              "resid_province                      64\n",
              "resid_district                     704\n",
              "resid_wards                       8782\n",
              "birth_incorp_date                   86\n",
              " amount_week                        20\n",
              "max_amount_week                   6044\n",
              "min_amount_week                   3284\n",
              "distinct_payment_code_week           6\n",
              "count_payment_code_week             43\n",
              "distinct_trans_group_week            6\n",
              "distinct_ref_no_week               143\n",
              "amount_month                     29957\n",
              "max_amount_month                  8781\n",
              "min_amount_month                  3004\n",
              "distinct_payment_code_month          9\n",
              "count_payment_code_month            81\n",
              "distinct_trans_group_month           7\n",
              "distinct_ref_no_month              368\n",
              "amount_3month                    29754\n",
              "max_amount_3month                 9280\n",
              "min_amount_3month                 2805\n",
              "distinct_payment_code_3month        10\n",
              "count_payment_code_3month          116\n",
              "distinct_trans_group_3month          7\n",
              "distinct_ref_no_3month             685\n",
              "most_act_mar2021_count             362\n",
              "most_act_mar2021                     6\n",
              "total_act_mar2021                  359\n",
              " total_amt_mar2021               41371\n",
              "most_act_juin2021_count            362\n",
              "most_act_juin2021                    7\n",
              "total_act_juin2021                 374\n",
              "total_amt_juin2021               37725\n",
              "rd_id                           100000\n",
              "savingValueMar2021_heoSo           493\n",
              "savingValueJuin2021_heoSo          754\n",
              "totalLoginMar2021_heoSo            149\n",
              "totalLoginJuin2021_heoSo           203\n",
              "totalSavings2021_heoSo              22\n",
              "balanceJuin2021                  11001\n",
              "nominal_interestJuin2021         13122\n",
              "real_interestJuin2021            11453\n",
              "nhomno_xhtdJuin2021                  5\n",
              "categoryJuin2021                    14\n",
              "sub_productJuin2021                 44\n",
              "loaikyhanJuin2021                    3\n",
              "sectorJuin2021                      29\n",
              "product_codeJuin2021                35\n",
              "dtype: int64"
            ]
          },
          "metadata": {},
          "execution_count": 10
        }
      ],
      "source": [
        "#print the unique value\n",
        "df.nunique()"
      ]
    },
    {
      "cell_type": "code",
      "source": [
        "#Looking for the description of the dataset to get insights of the data\n",
        "df.describe()"
      ],
      "metadata": {
        "id": "c0Ilpb_7kghJ",
        "colab": {
          "base_uri": "https://localhost:8080/",
          "height": 364
        },
        "outputId": "ce306d32-1c28-44f8-fb68-dd8dbb355c5f"
      },
      "execution_count": null,
      "outputs": [
        {
          "output_type": "execute_result",
          "data": {
            "text/plain": [
              "       resid_province  resid_district   resid_wards  birth_incorp_date  \\\n",
              "count    93431.000000    93435.000000  93433.000000       99990.000000   \n",
              "mean        32.143379      339.395291  12481.062130        1988.480668   \n",
              "std         29.360372      278.936947  10064.755806           9.474698   \n",
              "min          0.000000        0.000000      0.000000        1073.000000   \n",
              "25%          1.000000       21.000000    637.000000        1983.000000   \n",
              "50%         30.000000      298.000000  11077.000000        1990.000000   \n",
              "75%         51.000000      532.000000  21385.000000        1995.000000   \n",
              "max         96.000000      973.000000  99999.000000        2020.000000   \n",
              "\n",
              "        amount_week   max_amount_week  min_amount_week  \\\n",
              "count    54800.00000     5.480000e+04     54800.000000   \n",
              "mean         0.00059     1.223446e-03         0.000669   \n",
              "std          0.00615     6.287416e-03         0.007529   \n",
              "min          0.00000     2.040000e-09         0.000000   \n",
              "25%          0.00000     3.060000e-05         0.000011   \n",
              "50%          0.00000     1.551020e-04         0.000045   \n",
              "75%          0.00000     7.297960e-04         0.000182   \n",
              "max          1.00000     1.000000e+00         1.000000   \n",
              "\n",
              "       distinct_payment_code_week  count_payment_code_week  \\\n",
              "count                56850.000000             56850.000000   \n",
              "mean                     0.336851                 0.577766   \n",
              "std                      0.526343                 2.857005   \n",
              "min                      0.000000                 0.000000   \n",
              "25%                      0.000000                 0.000000   \n",
              "50%                      0.000000                 0.000000   \n",
              "75%                      1.000000                 1.000000   \n",
              "max                      5.000000               331.000000   \n",
              "\n",
              "       distinct_trans_group_week  distinct_ref_no_week  amount_month  \\\n",
              "count               56850.000000          56850.000000  7.700000e+04   \n",
              "mean                    1.489921              6.178276  1.238261e-03   \n",
              "std                     0.706985             11.763902  7.281018e-03   \n",
              "min                     1.000000              0.000000  2.800000e-10   \n",
              "25%                     1.000000              1.000000  2.400000e-05   \n",
              "50%                     1.000000              3.000000  1.017675e-04   \n",
              "75%                     2.000000              7.000000  5.404727e-04   \n",
              "max                     6.000000           1128.000000  1.000000e+00   \n",
              "\n",
              "       max_amount_month  min_amount_month  distinct_payment_code_month  \\\n",
              "count      7.700000e+04      77000.000000                 82223.000000   \n",
              "mean       1.974828e-03          0.000121                     0.744184   \n",
              "std        8.754136e-03          0.004095                     0.870959   \n",
              "min        2.040000e-09          0.000000                     0.000000   \n",
              "25%        8.160000e-05          0.000002                     0.000000   \n",
              "50%        3.040205e-04          0.000004                     1.000000   \n",
              "75%        1.224490e-03          0.000012                     1.000000   \n",
              "max        1.000000e+00          1.000000                     8.000000   \n",
              "\n",
              "       count_payment_code_month  distinct_trans_group_month  \\\n",
              "count              82223.000000                82223.000000   \n",
              "mean                   1.837539                    2.023461   \n",
              "std                    5.174273                    0.979911   \n",
              "min                    0.000000                    1.000000   \n",
              "25%                    0.000000                    1.000000   \n",
              "50%                    1.000000                    2.000000   \n",
              "75%                    3.000000                    3.000000   \n",
              "max                  390.000000                    7.000000   \n",
              "\n",
              "       distinct_ref_no_month  amount_3month  max_amount_3month  \\\n",
              "count           82223.000000   8.652000e+04       8.652000e+04   \n",
              "mean               18.274339   6.747963e-04       1.372041e-03   \n",
              "std                41.825200   4.872849e-03       6.238066e-03   \n",
              "min                 0.000000   6.570000e-11       1.000000e-09   \n",
              "25%                 3.000000   1.280000e-05       6.300000e-05   \n",
              "50%                 9.000000   5.740000e-05       2.020645e-04   \n",
              "75%                20.000000   2.978360e-04       1.000000e-03   \n",
              "max              5800.000000   1.000000e+00       1.000000e+00   \n",
              "\n",
              "       min_amount_3month  distinct_payment_code_3month  \\\n",
              "count       86520.000000                 100000.000000   \n",
              "mean            0.000150                      0.861720   \n",
              "std             0.004568                      0.998603   \n",
              "min             0.000000                      0.000000   \n",
              "25%             0.000001                      0.000000   \n",
              "50%             0.000003                      1.000000   \n",
              "75%             0.000006                      1.000000   \n",
              "max             1.000000                      9.000000   \n",
              "\n",
              "       count_payment_code_3month  distinct_trans_group_3month  \\\n",
              "count              100000.000000                100000.000000   \n",
              "mean                    4.051670                     2.431310   \n",
              "std                     8.794302                     1.161273   \n",
              "min                     0.000000                     1.000000   \n",
              "25%                     0.000000                     1.000000   \n",
              "50%                     1.000000                     2.000000   \n",
              "75%                     6.000000                     3.000000   \n",
              "max                  1225.000000                     7.000000   \n",
              "\n",
              "       distinct_ref_no_3month  most_act_mar2021_count  total_act_mar2021  \\\n",
              "count            100000.00000            73477.000000       73477.000000   \n",
              "mean                 40.06861               16.329436          19.152252   \n",
              "std                  90.35093               36.292739          37.629618   \n",
              "min                   0.00000                1.000000           1.000000   \n",
              "25%                   4.00000                3.000000           4.000000   \n",
              "50%                  17.00000                7.000000          10.000000   \n",
              "75%                  45.00000               18.000000          22.000000   \n",
              "max                8106.00000             3321.000000        3328.000000   \n",
              "\n",
              "        total_amt_mar2021   most_act_juin2021_count  total_act_juin2021  \\\n",
              "count         7.285500e+04             71377.000000        71377.000000   \n",
              "mean          1.370018e-03                16.359696           19.396963   \n",
              "std           9.134551e-03                33.845842           35.468908   \n",
              "min           1.100000e-08                 1.000000            1.000000   \n",
              "25%           2.737600e-05                 3.000000            4.000000   \n",
              "50%           1.098480e-04                 8.000000           10.000000   \n",
              "75%           5.530240e-04                19.000000           23.000000   \n",
              "max           1.000000e+00              2574.000000         2574.000000   \n",
              "\n",
              "       total_amt_juin2021         rd_id  savingValueMar2021_heoSo  \\\n",
              "count        70664.000000  1.000000e+05               5039.000000   \n",
              "mean             0.003563  9.975362e+08                  0.016161   \n",
              "std              0.018221  5.782695e+08                  0.060268   \n",
              "min              0.000000  1.200300e+04                  0.000000   \n",
              "25%              0.000084  4.954611e+08                  0.001190   \n",
              "50%              0.000319  9.965913e+08                  0.002619   \n",
              "75%              0.001555  1.496152e+09                  0.010123   \n",
              "max              1.000000  1.999959e+09                  1.000000   \n",
              "\n",
              "       savingValueJuin2021_heoSo  totalLoginMar2021_heoSo  \\\n",
              "count                7146.000000              7315.000000   \n",
              "mean                    0.009473                20.119207   \n",
              "std                     0.036145                43.930013   \n",
              "min                     0.000000                 1.000000   \n",
              "25%                     0.000610                 5.000000   \n",
              "50%                     0.001585                10.000000   \n",
              "75%                     0.006098                23.000000   \n",
              "max                     1.000000              1088.000000   \n",
              "\n",
              "       totalLoginJuin2021_heoSo  totalSavings2021_heoSo  balanceJuin2021  \\\n",
              "count               7571.000000             7592.000000     29956.000000   \n",
              "mean                  29.372606                0.016666         0.003399   \n",
              "std                   56.832050                0.021570         0.016369   \n",
              "min                    1.000000                0.010638         0.000000   \n",
              "25%                    8.000000                0.010638         0.000000   \n",
              "50%                   16.000000                0.010638         0.000029   \n",
              "75%                   34.000000                0.010638         0.001500   \n",
              "max                 1361.000000                1.000000         1.000000   \n",
              "\n",
              "       nominal_interestJuin2021  real_interestJuin2021  nhomno_xhtdJuin2021  \\\n",
              "count              29956.000000           29956.000000         29956.000000   \n",
              "mean                   0.005937               0.003274             1.780111   \n",
              "std                    0.027024               0.017217             1.033548   \n",
              "min                    0.000000              -0.136527             1.000000   \n",
              "25%                    0.000000               0.000000             1.000000   \n",
              "50%                    0.000094               0.000000             1.000000   \n",
              "75%                    0.003556               0.001684             2.000000   \n",
              "max                    1.000000               1.000000             5.000000   \n",
              "\n",
              "       categoryJuin2021  sub_productJuin2021  sectorJuin2021  \\\n",
              "count      29956.000000         20750.000000    29956.000000   \n",
              "mean       17776.982574           407.920916     1803.790292   \n",
              "std         5929.056978            44.138990       77.447833   \n",
              "min         1005.000000           306.000000     1690.000000   \n",
              "25%        17002.000000           379.000000     1740.000000   \n",
              "50%        21061.000000           386.000000     1830.000000   \n",
              "75%        21064.000000           462.000000     1890.000000   \n",
              "max        21071.000000           750.000000     1918.000000   \n",
              "\n",
              "       product_codeJuin2021  \n",
              "count          29956.000000  \n",
              "mean           24257.601716  \n",
              "std             1963.354679  \n",
              "min            21113.000000  \n",
              "25%            23212.000000  \n",
              "50%            23231.000000  \n",
              "75%            26111.000000  \n",
              "max            51811.000000  "
            ],
            "text/html": [
              "\n",
              "  <div id=\"df-6df1c294-143e-4703-8ded-a469bc350283\">\n",
              "    <div class=\"colab-df-container\">\n",
              "      <div>\n",
              "<style scoped>\n",
              "    .dataframe tbody tr th:only-of-type {\n",
              "        vertical-align: middle;\n",
              "    }\n",
              "\n",
              "    .dataframe tbody tr th {\n",
              "        vertical-align: top;\n",
              "    }\n",
              "\n",
              "    .dataframe thead th {\n",
              "        text-align: right;\n",
              "    }\n",
              "</style>\n",
              "<table border=\"1\" class=\"dataframe\">\n",
              "  <thead>\n",
              "    <tr style=\"text-align: right;\">\n",
              "      <th></th>\n",
              "      <th>resid_province</th>\n",
              "      <th>resid_district</th>\n",
              "      <th>resid_wards</th>\n",
              "      <th>birth_incorp_date</th>\n",
              "      <th>amount_week</th>\n",
              "      <th>max_amount_week</th>\n",
              "      <th>min_amount_week</th>\n",
              "      <th>distinct_payment_code_week</th>\n",
              "      <th>count_payment_code_week</th>\n",
              "      <th>distinct_trans_group_week</th>\n",
              "      <th>distinct_ref_no_week</th>\n",
              "      <th>amount_month</th>\n",
              "      <th>max_amount_month</th>\n",
              "      <th>min_amount_month</th>\n",
              "      <th>distinct_payment_code_month</th>\n",
              "      <th>count_payment_code_month</th>\n",
              "      <th>distinct_trans_group_month</th>\n",
              "      <th>distinct_ref_no_month</th>\n",
              "      <th>amount_3month</th>\n",
              "      <th>max_amount_3month</th>\n",
              "      <th>min_amount_3month</th>\n",
              "      <th>distinct_payment_code_3month</th>\n",
              "      <th>count_payment_code_3month</th>\n",
              "      <th>distinct_trans_group_3month</th>\n",
              "      <th>distinct_ref_no_3month</th>\n",
              "      <th>most_act_mar2021_count</th>\n",
              "      <th>total_act_mar2021</th>\n",
              "      <th>total_amt_mar2021</th>\n",
              "      <th>most_act_juin2021_count</th>\n",
              "      <th>total_act_juin2021</th>\n",
              "      <th>total_amt_juin2021</th>\n",
              "      <th>rd_id</th>\n",
              "      <th>savingValueMar2021_heoSo</th>\n",
              "      <th>savingValueJuin2021_heoSo</th>\n",
              "      <th>totalLoginMar2021_heoSo</th>\n",
              "      <th>totalLoginJuin2021_heoSo</th>\n",
              "      <th>totalSavings2021_heoSo</th>\n",
              "      <th>balanceJuin2021</th>\n",
              "      <th>nominal_interestJuin2021</th>\n",
              "      <th>real_interestJuin2021</th>\n",
              "      <th>nhomno_xhtdJuin2021</th>\n",
              "      <th>categoryJuin2021</th>\n",
              "      <th>sub_productJuin2021</th>\n",
              "      <th>sectorJuin2021</th>\n",
              "      <th>product_codeJuin2021</th>\n",
              "    </tr>\n",
              "  </thead>\n",
              "  <tbody>\n",
              "    <tr>\n",
              "      <th>count</th>\n",
              "      <td>93431.000000</td>\n",
              "      <td>93435.000000</td>\n",
              "      <td>93433.000000</td>\n",
              "      <td>99990.000000</td>\n",
              "      <td>54800.00000</td>\n",
              "      <td>5.480000e+04</td>\n",
              "      <td>54800.000000</td>\n",
              "      <td>56850.000000</td>\n",
              "      <td>56850.000000</td>\n",
              "      <td>56850.000000</td>\n",
              "      <td>56850.000000</td>\n",
              "      <td>7.700000e+04</td>\n",
              "      <td>7.700000e+04</td>\n",
              "      <td>77000.000000</td>\n",
              "      <td>82223.000000</td>\n",
              "      <td>82223.000000</td>\n",
              "      <td>82223.000000</td>\n",
              "      <td>82223.000000</td>\n",
              "      <td>8.652000e+04</td>\n",
              "      <td>8.652000e+04</td>\n",
              "      <td>86520.000000</td>\n",
              "      <td>100000.000000</td>\n",
              "      <td>100000.000000</td>\n",
              "      <td>100000.000000</td>\n",
              "      <td>100000.00000</td>\n",
              "      <td>73477.000000</td>\n",
              "      <td>73477.000000</td>\n",
              "      <td>7.285500e+04</td>\n",
              "      <td>71377.000000</td>\n",
              "      <td>71377.000000</td>\n",
              "      <td>70664.000000</td>\n",
              "      <td>1.000000e+05</td>\n",
              "      <td>5039.000000</td>\n",
              "      <td>7146.000000</td>\n",
              "      <td>7315.000000</td>\n",
              "      <td>7571.000000</td>\n",
              "      <td>7592.000000</td>\n",
              "      <td>29956.000000</td>\n",
              "      <td>29956.000000</td>\n",
              "      <td>29956.000000</td>\n",
              "      <td>29956.000000</td>\n",
              "      <td>29956.000000</td>\n",
              "      <td>20750.000000</td>\n",
              "      <td>29956.000000</td>\n",
              "      <td>29956.000000</td>\n",
              "    </tr>\n",
              "    <tr>\n",
              "      <th>mean</th>\n",
              "      <td>32.143379</td>\n",
              "      <td>339.395291</td>\n",
              "      <td>12481.062130</td>\n",
              "      <td>1988.480668</td>\n",
              "      <td>0.00059</td>\n",
              "      <td>1.223446e-03</td>\n",
              "      <td>0.000669</td>\n",
              "      <td>0.336851</td>\n",
              "      <td>0.577766</td>\n",
              "      <td>1.489921</td>\n",
              "      <td>6.178276</td>\n",
              "      <td>1.238261e-03</td>\n",
              "      <td>1.974828e-03</td>\n",
              "      <td>0.000121</td>\n",
              "      <td>0.744184</td>\n",
              "      <td>1.837539</td>\n",
              "      <td>2.023461</td>\n",
              "      <td>18.274339</td>\n",
              "      <td>6.747963e-04</td>\n",
              "      <td>1.372041e-03</td>\n",
              "      <td>0.000150</td>\n",
              "      <td>0.861720</td>\n",
              "      <td>4.051670</td>\n",
              "      <td>2.431310</td>\n",
              "      <td>40.06861</td>\n",
              "      <td>16.329436</td>\n",
              "      <td>19.152252</td>\n",
              "      <td>1.370018e-03</td>\n",
              "      <td>16.359696</td>\n",
              "      <td>19.396963</td>\n",
              "      <td>0.003563</td>\n",
              "      <td>9.975362e+08</td>\n",
              "      <td>0.016161</td>\n",
              "      <td>0.009473</td>\n",
              "      <td>20.119207</td>\n",
              "      <td>29.372606</td>\n",
              "      <td>0.016666</td>\n",
              "      <td>0.003399</td>\n",
              "      <td>0.005937</td>\n",
              "      <td>0.003274</td>\n",
              "      <td>1.780111</td>\n",
              "      <td>17776.982574</td>\n",
              "      <td>407.920916</td>\n",
              "      <td>1803.790292</td>\n",
              "      <td>24257.601716</td>\n",
              "    </tr>\n",
              "    <tr>\n",
              "      <th>std</th>\n",
              "      <td>29.360372</td>\n",
              "      <td>278.936947</td>\n",
              "      <td>10064.755806</td>\n",
              "      <td>9.474698</td>\n",
              "      <td>0.00615</td>\n",
              "      <td>6.287416e-03</td>\n",
              "      <td>0.007529</td>\n",
              "      <td>0.526343</td>\n",
              "      <td>2.857005</td>\n",
              "      <td>0.706985</td>\n",
              "      <td>11.763902</td>\n",
              "      <td>7.281018e-03</td>\n",
              "      <td>8.754136e-03</td>\n",
              "      <td>0.004095</td>\n",
              "      <td>0.870959</td>\n",
              "      <td>5.174273</td>\n",
              "      <td>0.979911</td>\n",
              "      <td>41.825200</td>\n",
              "      <td>4.872849e-03</td>\n",
              "      <td>6.238066e-03</td>\n",
              "      <td>0.004568</td>\n",
              "      <td>0.998603</td>\n",
              "      <td>8.794302</td>\n",
              "      <td>1.161273</td>\n",
              "      <td>90.35093</td>\n",
              "      <td>36.292739</td>\n",
              "      <td>37.629618</td>\n",
              "      <td>9.134551e-03</td>\n",
              "      <td>33.845842</td>\n",
              "      <td>35.468908</td>\n",
              "      <td>0.018221</td>\n",
              "      <td>5.782695e+08</td>\n",
              "      <td>0.060268</td>\n",
              "      <td>0.036145</td>\n",
              "      <td>43.930013</td>\n",
              "      <td>56.832050</td>\n",
              "      <td>0.021570</td>\n",
              "      <td>0.016369</td>\n",
              "      <td>0.027024</td>\n",
              "      <td>0.017217</td>\n",
              "      <td>1.033548</td>\n",
              "      <td>5929.056978</td>\n",
              "      <td>44.138990</td>\n",
              "      <td>77.447833</td>\n",
              "      <td>1963.354679</td>\n",
              "    </tr>\n",
              "    <tr>\n",
              "      <th>min</th>\n",
              "      <td>0.000000</td>\n",
              "      <td>0.000000</td>\n",
              "      <td>0.000000</td>\n",
              "      <td>1073.000000</td>\n",
              "      <td>0.00000</td>\n",
              "      <td>2.040000e-09</td>\n",
              "      <td>0.000000</td>\n",
              "      <td>0.000000</td>\n",
              "      <td>0.000000</td>\n",
              "      <td>1.000000</td>\n",
              "      <td>0.000000</td>\n",
              "      <td>2.800000e-10</td>\n",
              "      <td>2.040000e-09</td>\n",
              "      <td>0.000000</td>\n",
              "      <td>0.000000</td>\n",
              "      <td>0.000000</td>\n",
              "      <td>1.000000</td>\n",
              "      <td>0.000000</td>\n",
              "      <td>6.570000e-11</td>\n",
              "      <td>1.000000e-09</td>\n",
              "      <td>0.000000</td>\n",
              "      <td>0.000000</td>\n",
              "      <td>0.000000</td>\n",
              "      <td>1.000000</td>\n",
              "      <td>0.00000</td>\n",
              "      <td>1.000000</td>\n",
              "      <td>1.000000</td>\n",
              "      <td>1.100000e-08</td>\n",
              "      <td>1.000000</td>\n",
              "      <td>1.000000</td>\n",
              "      <td>0.000000</td>\n",
              "      <td>1.200300e+04</td>\n",
              "      <td>0.000000</td>\n",
              "      <td>0.000000</td>\n",
              "      <td>1.000000</td>\n",
              "      <td>1.000000</td>\n",
              "      <td>0.010638</td>\n",
              "      <td>0.000000</td>\n",
              "      <td>0.000000</td>\n",
              "      <td>-0.136527</td>\n",
              "      <td>1.000000</td>\n",
              "      <td>1005.000000</td>\n",
              "      <td>306.000000</td>\n",
              "      <td>1690.000000</td>\n",
              "      <td>21113.000000</td>\n",
              "    </tr>\n",
              "    <tr>\n",
              "      <th>25%</th>\n",
              "      <td>1.000000</td>\n",
              "      <td>21.000000</td>\n",
              "      <td>637.000000</td>\n",
              "      <td>1983.000000</td>\n",
              "      <td>0.00000</td>\n",
              "      <td>3.060000e-05</td>\n",
              "      <td>0.000011</td>\n",
              "      <td>0.000000</td>\n",
              "      <td>0.000000</td>\n",
              "      <td>1.000000</td>\n",
              "      <td>1.000000</td>\n",
              "      <td>2.400000e-05</td>\n",
              "      <td>8.160000e-05</td>\n",
              "      <td>0.000002</td>\n",
              "      <td>0.000000</td>\n",
              "      <td>0.000000</td>\n",
              "      <td>1.000000</td>\n",
              "      <td>3.000000</td>\n",
              "      <td>1.280000e-05</td>\n",
              "      <td>6.300000e-05</td>\n",
              "      <td>0.000001</td>\n",
              "      <td>0.000000</td>\n",
              "      <td>0.000000</td>\n",
              "      <td>1.000000</td>\n",
              "      <td>4.00000</td>\n",
              "      <td>3.000000</td>\n",
              "      <td>4.000000</td>\n",
              "      <td>2.737600e-05</td>\n",
              "      <td>3.000000</td>\n",
              "      <td>4.000000</td>\n",
              "      <td>0.000084</td>\n",
              "      <td>4.954611e+08</td>\n",
              "      <td>0.001190</td>\n",
              "      <td>0.000610</td>\n",
              "      <td>5.000000</td>\n",
              "      <td>8.000000</td>\n",
              "      <td>0.010638</td>\n",
              "      <td>0.000000</td>\n",
              "      <td>0.000000</td>\n",
              "      <td>0.000000</td>\n",
              "      <td>1.000000</td>\n",
              "      <td>17002.000000</td>\n",
              "      <td>379.000000</td>\n",
              "      <td>1740.000000</td>\n",
              "      <td>23212.000000</td>\n",
              "    </tr>\n",
              "    <tr>\n",
              "      <th>50%</th>\n",
              "      <td>30.000000</td>\n",
              "      <td>298.000000</td>\n",
              "      <td>11077.000000</td>\n",
              "      <td>1990.000000</td>\n",
              "      <td>0.00000</td>\n",
              "      <td>1.551020e-04</td>\n",
              "      <td>0.000045</td>\n",
              "      <td>0.000000</td>\n",
              "      <td>0.000000</td>\n",
              "      <td>1.000000</td>\n",
              "      <td>3.000000</td>\n",
              "      <td>1.017675e-04</td>\n",
              "      <td>3.040205e-04</td>\n",
              "      <td>0.000004</td>\n",
              "      <td>1.000000</td>\n",
              "      <td>1.000000</td>\n",
              "      <td>2.000000</td>\n",
              "      <td>9.000000</td>\n",
              "      <td>5.740000e-05</td>\n",
              "      <td>2.020645e-04</td>\n",
              "      <td>0.000003</td>\n",
              "      <td>1.000000</td>\n",
              "      <td>1.000000</td>\n",
              "      <td>2.000000</td>\n",
              "      <td>17.00000</td>\n",
              "      <td>7.000000</td>\n",
              "      <td>10.000000</td>\n",
              "      <td>1.098480e-04</td>\n",
              "      <td>8.000000</td>\n",
              "      <td>10.000000</td>\n",
              "      <td>0.000319</td>\n",
              "      <td>9.965913e+08</td>\n",
              "      <td>0.002619</td>\n",
              "      <td>0.001585</td>\n",
              "      <td>10.000000</td>\n",
              "      <td>16.000000</td>\n",
              "      <td>0.010638</td>\n",
              "      <td>0.000029</td>\n",
              "      <td>0.000094</td>\n",
              "      <td>0.000000</td>\n",
              "      <td>1.000000</td>\n",
              "      <td>21061.000000</td>\n",
              "      <td>386.000000</td>\n",
              "      <td>1830.000000</td>\n",
              "      <td>23231.000000</td>\n",
              "    </tr>\n",
              "    <tr>\n",
              "      <th>75%</th>\n",
              "      <td>51.000000</td>\n",
              "      <td>532.000000</td>\n",
              "      <td>21385.000000</td>\n",
              "      <td>1995.000000</td>\n",
              "      <td>0.00000</td>\n",
              "      <td>7.297960e-04</td>\n",
              "      <td>0.000182</td>\n",
              "      <td>1.000000</td>\n",
              "      <td>1.000000</td>\n",
              "      <td>2.000000</td>\n",
              "      <td>7.000000</td>\n",
              "      <td>5.404727e-04</td>\n",
              "      <td>1.224490e-03</td>\n",
              "      <td>0.000012</td>\n",
              "      <td>1.000000</td>\n",
              "      <td>3.000000</td>\n",
              "      <td>3.000000</td>\n",
              "      <td>20.000000</td>\n",
              "      <td>2.978360e-04</td>\n",
              "      <td>1.000000e-03</td>\n",
              "      <td>0.000006</td>\n",
              "      <td>1.000000</td>\n",
              "      <td>6.000000</td>\n",
              "      <td>3.000000</td>\n",
              "      <td>45.00000</td>\n",
              "      <td>18.000000</td>\n",
              "      <td>22.000000</td>\n",
              "      <td>5.530240e-04</td>\n",
              "      <td>19.000000</td>\n",
              "      <td>23.000000</td>\n",
              "      <td>0.001555</td>\n",
              "      <td>1.496152e+09</td>\n",
              "      <td>0.010123</td>\n",
              "      <td>0.006098</td>\n",
              "      <td>23.000000</td>\n",
              "      <td>34.000000</td>\n",
              "      <td>0.010638</td>\n",
              "      <td>0.001500</td>\n",
              "      <td>0.003556</td>\n",
              "      <td>0.001684</td>\n",
              "      <td>2.000000</td>\n",
              "      <td>21064.000000</td>\n",
              "      <td>462.000000</td>\n",
              "      <td>1890.000000</td>\n",
              "      <td>26111.000000</td>\n",
              "    </tr>\n",
              "    <tr>\n",
              "      <th>max</th>\n",
              "      <td>96.000000</td>\n",
              "      <td>973.000000</td>\n",
              "      <td>99999.000000</td>\n",
              "      <td>2020.000000</td>\n",
              "      <td>1.00000</td>\n",
              "      <td>1.000000e+00</td>\n",
              "      <td>1.000000</td>\n",
              "      <td>5.000000</td>\n",
              "      <td>331.000000</td>\n",
              "      <td>6.000000</td>\n",
              "      <td>1128.000000</td>\n",
              "      <td>1.000000e+00</td>\n",
              "      <td>1.000000e+00</td>\n",
              "      <td>1.000000</td>\n",
              "      <td>8.000000</td>\n",
              "      <td>390.000000</td>\n",
              "      <td>7.000000</td>\n",
              "      <td>5800.000000</td>\n",
              "      <td>1.000000e+00</td>\n",
              "      <td>1.000000e+00</td>\n",
              "      <td>1.000000</td>\n",
              "      <td>9.000000</td>\n",
              "      <td>1225.000000</td>\n",
              "      <td>7.000000</td>\n",
              "      <td>8106.00000</td>\n",
              "      <td>3321.000000</td>\n",
              "      <td>3328.000000</td>\n",
              "      <td>1.000000e+00</td>\n",
              "      <td>2574.000000</td>\n",
              "      <td>2574.000000</td>\n",
              "      <td>1.000000</td>\n",
              "      <td>1.999959e+09</td>\n",
              "      <td>1.000000</td>\n",
              "      <td>1.000000</td>\n",
              "      <td>1088.000000</td>\n",
              "      <td>1361.000000</td>\n",
              "      <td>1.000000</td>\n",
              "      <td>1.000000</td>\n",
              "      <td>1.000000</td>\n",
              "      <td>1.000000</td>\n",
              "      <td>5.000000</td>\n",
              "      <td>21071.000000</td>\n",
              "      <td>750.000000</td>\n",
              "      <td>1918.000000</td>\n",
              "      <td>51811.000000</td>\n",
              "    </tr>\n",
              "  </tbody>\n",
              "</table>\n",
              "</div>\n",
              "      <button class=\"colab-df-convert\" onclick=\"convertToInteractive('df-6df1c294-143e-4703-8ded-a469bc350283')\"\n",
              "              title=\"Convert this dataframe to an interactive table.\"\n",
              "              style=\"display:none;\">\n",
              "        \n",
              "  <svg xmlns=\"http://www.w3.org/2000/svg\" height=\"24px\"viewBox=\"0 0 24 24\"\n",
              "       width=\"24px\">\n",
              "    <path d=\"M0 0h24v24H0V0z\" fill=\"none\"/>\n",
              "    <path d=\"M18.56 5.44l.94 2.06.94-2.06 2.06-.94-2.06-.94-.94-2.06-.94 2.06-2.06.94zm-11 1L8.5 8.5l.94-2.06 2.06-.94-2.06-.94L8.5 2.5l-.94 2.06-2.06.94zm10 10l.94 2.06.94-2.06 2.06-.94-2.06-.94-.94-2.06-.94 2.06-2.06.94z\"/><path d=\"M17.41 7.96l-1.37-1.37c-.4-.4-.92-.59-1.43-.59-.52 0-1.04.2-1.43.59L10.3 9.45l-7.72 7.72c-.78.78-.78 2.05 0 2.83L4 21.41c.39.39.9.59 1.41.59.51 0 1.02-.2 1.41-.59l7.78-7.78 2.81-2.81c.8-.78.8-2.07 0-2.86zM5.41 20L4 18.59l7.72-7.72 1.47 1.35L5.41 20z\"/>\n",
              "  </svg>\n",
              "      </button>\n",
              "      \n",
              "  <style>\n",
              "    .colab-df-container {\n",
              "      display:flex;\n",
              "      flex-wrap:wrap;\n",
              "      gap: 12px;\n",
              "    }\n",
              "\n",
              "    .colab-df-convert {\n",
              "      background-color: #E8F0FE;\n",
              "      border: none;\n",
              "      border-radius: 50%;\n",
              "      cursor: pointer;\n",
              "      display: none;\n",
              "      fill: #1967D2;\n",
              "      height: 32px;\n",
              "      padding: 0 0 0 0;\n",
              "      width: 32px;\n",
              "    }\n",
              "\n",
              "    .colab-df-convert:hover {\n",
              "      background-color: #E2EBFA;\n",
              "      box-shadow: 0px 1px 2px rgba(60, 64, 67, 0.3), 0px 1px 3px 1px rgba(60, 64, 67, 0.15);\n",
              "      fill: #174EA6;\n",
              "    }\n",
              "\n",
              "    [theme=dark] .colab-df-convert {\n",
              "      background-color: #3B4455;\n",
              "      fill: #D2E3FC;\n",
              "    }\n",
              "\n",
              "    [theme=dark] .colab-df-convert:hover {\n",
              "      background-color: #434B5C;\n",
              "      box-shadow: 0px 1px 3px 1px rgba(0, 0, 0, 0.15);\n",
              "      filter: drop-shadow(0px 1px 2px rgba(0, 0, 0, 0.3));\n",
              "      fill: #FFFFFF;\n",
              "    }\n",
              "  </style>\n",
              "\n",
              "      <script>\n",
              "        const buttonEl =\n",
              "          document.querySelector('#df-6df1c294-143e-4703-8ded-a469bc350283 button.colab-df-convert');\n",
              "        buttonEl.style.display =\n",
              "          google.colab.kernel.accessAllowed ? 'block' : 'none';\n",
              "\n",
              "        async function convertToInteractive(key) {\n",
              "          const element = document.querySelector('#df-6df1c294-143e-4703-8ded-a469bc350283');\n",
              "          const dataTable =\n",
              "            await google.colab.kernel.invokeFunction('convertToInteractive',\n",
              "                                                     [key], {});\n",
              "          if (!dataTable) return;\n",
              "\n",
              "          const docLinkHtml = 'Like what you see? Visit the ' +\n",
              "            '<a target=\"_blank\" href=https://colab.research.google.com/notebooks/data_table.ipynb>data table notebook</a>'\n",
              "            + ' to learn more about interactive tables.';\n",
              "          element.innerHTML = '';\n",
              "          dataTable['output_type'] = 'display_data';\n",
              "          await google.colab.output.renderOutput(dataTable, element);\n",
              "          const docLink = document.createElement('div');\n",
              "          docLink.innerHTML = docLinkHtml;\n",
              "          element.appendChild(docLink);\n",
              "        }\n",
              "      </script>\n",
              "    </div>\n",
              "  </div>\n",
              "  "
            ]
          },
          "metadata": {},
          "execution_count": 11
        }
      ]
    },
    {
      "cell_type": "markdown",
      "source": [
        "#### Missing values"
      ],
      "metadata": {
        "id": "9ahJsn-bM2gr"
      }
    },
    {
      "cell_type": "code",
      "execution_count": null,
      "metadata": {
        "colab": {
          "base_uri": "https://localhost:8080/"
        },
        "id": "W-dD9bBFH5OU",
        "outputId": "7ec6f4bf-e7e2-4bc7-dee2-cbda85ca7b87"
      },
      "outputs": [
        {
          "output_type": "execute_result",
          "data": {
            "text/plain": [
              "local_ref_1                      2734\n",
              "vn_marital_status                3029\n",
              "resid_province                   6569\n",
              "resid_district                   6565\n",
              "resid_wards                      6567\n",
              "birth_incorp_date                  10\n",
              " amount_week                    45200\n",
              "max_amount_week                 45200\n",
              "min_amount_week                 45200\n",
              "distinct_payment_code_week      43150\n",
              "count_payment_code_week         43150\n",
              "distinct_trans_group_week       43150\n",
              "distinct_ref_no_week            43150\n",
              "amount_month                    23000\n",
              "max_amount_month                23000\n",
              "min_amount_month                23000\n",
              "distinct_payment_code_month     17777\n",
              "count_payment_code_month        17777\n",
              "distinct_trans_group_month      17777\n",
              "distinct_ref_no_month           17777\n",
              "amount_3month                   13480\n",
              "max_amount_3month               13480\n",
              "min_amount_3month               13480\n",
              "distinct_payment_code_3month        0\n",
              "count_payment_code_3month           0\n",
              "distinct_trans_group_3month         0\n",
              "distinct_ref_no_3month              0\n",
              "most_act_mar2021_count          26523\n",
              "most_act_mar2021                26524\n",
              "total_act_mar2021               26523\n",
              " total_amt_mar2021              27145\n",
              "most_act_juin2021_count         28623\n",
              "most_act_juin2021               28625\n",
              "total_act_juin2021              28623\n",
              "total_amt_juin2021              29336\n",
              "rd_id                               0\n",
              "savingValueMar2021_heoSo        94961\n",
              "savingValueJuin2021_heoSo       92854\n",
              "totalLoginMar2021_heoSo         92685\n",
              "totalLoginJuin2021_heoSo        92429\n",
              "totalSavings2021_heoSo          92408\n",
              "balanceJuin2021                 70044\n",
              "nominal_interestJuin2021        70044\n",
              "real_interestJuin2021           70044\n",
              "nhomno_xhtdJuin2021             70044\n",
              "categoryJuin2021                70044\n",
              "sub_productJuin2021             79250\n",
              "loaikyhanJuin2021               70044\n",
              "sectorJuin2021                  70044\n",
              "product_codeJuin2021            70044\n",
              "dtype: int64"
            ]
          },
          "metadata": {},
          "execution_count": 6
        }
      ],
      "source": [
        "#check for count of missing values in each column.\n",
        "df.isnull().sum()"
      ]
    },
    {
      "cell_type": "code",
      "execution_count": null,
      "metadata": {
        "id": "q3fjSZZJINUi"
      },
      "outputs": [],
      "source": [
        "# Calculate the percentage of missing values\n",
        "missing = pd.DataFrame((df.isnull().sum())/df.shape[0]).reset_index()\n",
        "missing = missing.rename(columns={0:'pct'})"
      ]
    },
    {
      "cell_type": "code",
      "execution_count": null,
      "metadata": {
        "colab": {
          "base_uri": "https://localhost:8080/",
          "height": 546
        },
        "id": "dprswYe4fPak",
        "outputId": "5466c15a-3d17-4358-9ac1-66b2a9be24bb"
      },
      "outputs": [
        {
          "output_type": "display_data",
          "data": {
            "text/plain": [
              "<Figure size 2000x800 with 1 Axes>"
            ],
            "image/png": "[encoded data removed]"
          },
          "metadata": {}
        }
      ],
      "source": [
        "# Draw chart describing percentage of missing values\n",
        "plt.figure(figsize=(20,8))\n",
        "ax = sns.pointplot(x='index',y='pct',data=missing)\n",
        "plt.xticks(rotation =90,fontsize =7)\n",
        "plt.title(\"Percentage of Missing values\")\n",
        "plt.ylabel(\"PERCENTAGE\")\n",
        "plt.show()"
      ]
    },
    {
      "cell_type": "markdown",
      "metadata": {
        "id": "QWIG1Ufg2vNE"
      },
      "source": [
        "## III. Data Cleanning "
      ]
    },
    {
      "cell_type": "markdown",
      "metadata": {
        "id": "TB37qYiZEswJ"
      },
      "source": [
        "### Rename"
      ]
    },
    {
      "cell_type": "code",
      "execution_count": 35,
      "metadata": {
        "colab": {
          "base_uri": "https://localhost:8080/",
          "height": 387
        },
        "id": "R_JtVE-gE0SS",
        "outputId": "98e97c17-bdce-434e-e882-d1ea11432deb"
      },
      "outputs": [
        {
          "output_type": "execute_result",
          "data": {
            "text/plain": [
              "  gender marital_status  resid_province  resid_district  resid_wards  \\\n",
              "0   MALE        Married            27.0           262.0       9436.0   \n",
              "1   MALE         Single            79.0           769.0      27097.0   \n",
              "2   MALE        Married             1.0           250.0       8989.0   \n",
              "3   MALE         Single            40.0           431.0      18055.0   \n",
              "4   MALE        Married            49.0           512.0      20758.0   \n",
              "\n",
              "   birth_of_date   amount_week   max_week  min_week  service_code_week  \\\n",
              "0         1992.0            NaN       NaN       NaN                0.0   \n",
              "1         1986.0            NaN       NaN       NaN                NaN   \n",
              "2         1980.0            NaN       NaN       NaN                NaN   \n",
              "3         2001.0            NaN       NaN       NaN                NaN   \n",
              "4         1989.0            0.0  0.000114  0.000636                0.0   \n",
              "\n",
              "   service_no_week  trans_group_week  ref_no_week  amount_month  max_month  \\\n",
              "0              0.0               1.0          1.0      0.000056   0.000204   \n",
              "1              NaN               NaN          NaN      0.000019   0.000140   \n",
              "2              NaN               NaN          NaN      0.000030   0.000122   \n",
              "3              NaN               NaN          NaN           NaN        NaN   \n",
              "4              0.0               1.0          1.0      0.000097   0.000247   \n",
              "\n",
              "   min_month  service_code_month  service_no_month  trans_group_month  \\\n",
              "0   0.000008                 0.0               0.0                2.0   \n",
              "1   0.000203                 0.0               0.0                1.0   \n",
              "2   0.000143                 0.0               0.0                1.0   \n",
              "3        NaN                 NaN               NaN                NaN   \n",
              "4   0.000001                 1.0               5.0                3.0   \n",
              "\n",
              "   ref_no_month  amount_3month  max_3month    min_3month  service_code_3month  \\\n",
              "0          12.0       0.000073    0.000400  5.920000e-06                    0   \n",
              "1           1.0       0.000014    0.000068  1.103180e-04                    0   \n",
              "2           2.0       0.000016    0.000060  2.100000e-05                    2   \n",
              "3           NaN            NaN         NaN           NaN                    0   \n",
              "4          12.0       0.000074    0.000380  5.920000e-07                    1   \n",
              "\n",
              "   service_no_3month  trans_group_3month  distinct_ref_no_3month  \\\n",
              "0                  0                   2                      33   \n",
              "1                  0                   2                       5   \n",
              "2                  3                   2                       7   \n",
              "3                  0                   1                       1   \n",
              "4                 11                   3                      24   \n",
              "\n",
              "   count_most_act_3              most_act_3  total_act_3   total_amt_mar2021   \\\n",
              "0               5.0  Giao dich chuyen khoan          5.0             0.000016   \n",
              "1               NaN                     NaN          NaN                  NaN   \n",
              "2               4.0  Giao dich chuyen khoan          6.0             0.000046   \n",
              "3               NaN                     NaN          NaN                  NaN   \n",
              "4               9.0  Giao dich chuyen khoan         10.0             0.000170   \n",
              "\n",
              "   count_most_act_6              most_act_6  total_act_6  total_amt_6  \\\n",
              "0              14.0  Giao dich chuyen khoan         17.0     0.006543   \n",
              "1               1.0    Giao dich thanh toan          1.0     0.000062   \n",
              "2               1.0  Giao dich chuyen khoan          2.0     0.000071   \n",
              "3               NaN                     NaN          NaN          NaN   \n",
              "4              17.0  Giao dich chuyen khoan         19.0     0.000575   \n",
              "\n",
              "        rd_id  saving_value_3  saving_value_6  total_login_3  total_login_6  \\\n",
              "0  1542621943             NaN             NaN            NaN            NaN   \n",
              "1  1570544787             NaN             NaN            NaN            NaN   \n",
              "2   636921018             NaN             NaN            NaN            NaN   \n",
              "3   642516181             NaN             NaN            NaN            NaN   \n",
              "4  1308443119             NaN             NaN            NaN            NaN   \n",
              "\n",
              "   total_login_heoso   balance   nominal  real_interest  loan  category  \\\n",
              "0                NaN       NaN       NaN            NaN   NaN       NaN   \n",
              "1                NaN  0.003666  0.006953       0.004128   1.0   21061.0   \n",
              "2                NaN       NaN       NaN            NaN   NaN       NaN   \n",
              "3                NaN       NaN       NaN            NaN   NaN       NaN   \n",
              "4                NaN       NaN       NaN            NaN   NaN       NaN   \n",
              "\n",
              "   sub_product deposite  sector  product_code  \n",
              "0          NaN      NaN     NaN           NaN  \n",
              "1        365.0       DH  1890.0       22321.0  \n",
              "2          NaN      NaN     NaN           NaN  \n",
              "3          NaN      NaN     NaN           NaN  \n",
              "4          NaN      NaN     NaN           NaN  "
            ],
            "text/html": [
              "\n",
              "  <div id=\"df-d75b76d6-340a-4507-aabe-d9f0098a266a\">\n",
              "    <div class=\"colab-df-container\">\n",
              "      <div>\n",
              "<style scoped>\n",
              "    .dataframe tbody tr th:only-of-type {\n",
              "        vertical-align: middle;\n",
              "    }\n",
              "\n",
              "    .dataframe tbody tr th {\n",
              "        vertical-align: top;\n",
              "    }\n",
              "\n",
              "    .dataframe thead th {\n",
              "        text-align: right;\n",
              "    }\n",
              "</style>\n",
              "<table border=\"1\" class=\"dataframe\">\n",
              "  <thead>\n",
              "    <tr style=\"text-align: right;\">\n",
              "      <th></th>\n",
              "      <th>gender</th>\n",
              "      <th>marital_status</th>\n",
              "      <th>resid_province</th>\n",
              "      <th>resid_district</th>\n",
              "      <th>resid_wards</th>\n",
              "      <th>birth_of_date</th>\n",
              "      <th>amount_week</th>\n",
              "      <th>max_week</th>\n",
              "      <th>min_week</th>\n",
              "      <th>service_code_week</th>\n",
              "      <th>service_no_week</th>\n",
              "      <th>trans_group_week</th>\n",
              "      <th>ref_no_week</th>\n",
              "      <th>amount_month</th>\n",
              "      <th>max_month</th>\n",
              "      <th>min_month</th>\n",
              "      <th>service_code_month</th>\n",
              "      <th>service_no_month</th>\n",
              "      <th>trans_group_month</th>\n",
              "      <th>ref_no_month</th>\n",
              "      <th>amount_3month</th>\n",
              "      <th>max_3month</th>\n",
              "      <th>min_3month</th>\n",
              "      <th>service_code_3month</th>\n",
              "      <th>service_no_3month</th>\n",
              "      <th>trans_group_3month</th>\n",
              "      <th>distinct_ref_no_3month</th>\n",
              "      <th>count_most_act_3</th>\n",
              "      <th>most_act_3</th>\n",
              "      <th>total_act_3</th>\n",
              "      <th>total_amt_mar2021</th>\n",
              "      <th>count_most_act_6</th>\n",
              "      <th>most_act_6</th>\n",
              "      <th>total_act_6</th>\n",
              "      <th>total_amt_6</th>\n",
              "      <th>rd_id</th>\n",
              "      <th>saving_value_3</th>\n",
              "      <th>saving_value_6</th>\n",
              "      <th>total_login_3</th>\n",
              "      <th>total_login_6</th>\n",
              "      <th>total_login_heoso</th>\n",
              "      <th>balance</th>\n",
              "      <th>nominal</th>\n",
              "      <th>real_interest</th>\n",
              "      <th>loan</th>\n",
              "      <th>category</th>\n",
              "      <th>sub_product</th>\n",
              "      <th>deposite</th>\n",
              "      <th>sector</th>\n",
              "      <th>product_code</th>\n",
              "    </tr>\n",
              "  </thead>\n",
              "  <tbody>\n",
              "    <tr>\n",
              "      <th>0</th>\n",
              "      <td>MALE</td>\n",
              "      <td>Married</td>\n",
              "      <td>27.0</td>\n",
              "      <td>262.0</td>\n",
              "      <td>9436.0</td>\n",
              "      <td>1992.0</td>\n",
              "      <td>NaN</td>\n",
              "      <td>NaN</td>\n",
              "      <td>NaN</td>\n",
              "      <td>0.0</td>\n",
              "      <td>0.0</td>\n",
              "      <td>1.0</td>\n",
              "      <td>1.0</td>\n",
              "      <td>0.000056</td>\n",
              "      <td>0.000204</td>\n",
              "      <td>0.000008</td>\n",
              "      <td>0.0</td>\n",
              "      <td>0.0</td>\n",
              "      <td>2.0</td>\n",
              "      <td>12.0</td>\n",
              "      <td>0.000073</td>\n",
              "      <td>0.000400</td>\n",
              "      <td>5.920000e-06</td>\n",
              "      <td>0</td>\n",
              "      <td>0</td>\n",
              "      <td>2</td>\n",
              "      <td>33</td>\n",
              "      <td>5.0</td>\n",
              "      <td>Giao dich chuyen khoan</td>\n",
              "      <td>5.0</td>\n",
              "      <td>0.000016</td>\n",
              "      <td>14.0</td>\n",
              "      <td>Giao dich chuyen khoan</td>\n",
              "      <td>17.0</td>\n",
              "      <td>0.006543</td>\n",
              "      <td>1542621943</td>\n",
              "      <td>NaN</td>\n",
              "      <td>NaN</td>\n",
              "      <td>NaN</td>\n",
              "      <td>NaN</td>\n",
              "      <td>NaN</td>\n",
              "      <td>NaN</td>\n",
              "      <td>NaN</td>\n",
              "      <td>NaN</td>\n",
              "      <td>NaN</td>\n",
              "      <td>NaN</td>\n",
              "      <td>NaN</td>\n",
              "      <td>NaN</td>\n",
              "      <td>NaN</td>\n",
              "      <td>NaN</td>\n",
              "    </tr>\n",
              "    <tr>\n",
              "      <th>1</th>\n",
              "      <td>MALE</td>\n",
              "      <td>Single</td>\n",
              "      <td>79.0</td>\n",
              "      <td>769.0</td>\n",
              "      <td>27097.0</td>\n",
              "      <td>1986.0</td>\n",
              "      <td>NaN</td>\n",
              "      <td>NaN</td>\n",
              "      <td>NaN</td>\n",
              "      <td>NaN</td>\n",
              "      <td>NaN</td>\n",
              "      <td>NaN</td>\n",
              "      <td>NaN</td>\n",
              "      <td>0.000019</td>\n",
              "      <td>0.000140</td>\n",
              "      <td>0.000203</td>\n",
              "      <td>0.0</td>\n",
              "      <td>0.0</td>\n",
              "      <td>1.0</td>\n",
              "      <td>1.0</td>\n",
              "      <td>0.000014</td>\n",
              "      <td>0.000068</td>\n",
              "      <td>1.103180e-04</td>\n",
              "      <td>0</td>\n",
              "      <td>0</td>\n",
              "      <td>2</td>\n",
              "      <td>5</td>\n",
              "      <td>NaN</td>\n",
              "      <td>NaN</td>\n",
              "      <td>NaN</td>\n",
              "      <td>NaN</td>\n",
              "      <td>1.0</td>\n",
              "      <td>Giao dich thanh toan</td>\n",
              "      <td>1.0</td>\n",
              "      <td>0.000062</td>\n",
              "      <td>1570544787</td>\n",
              "      <td>NaN</td>\n",
              "      <td>NaN</td>\n",
              "      <td>NaN</td>\n",
              "      <td>NaN</td>\n",
              "      <td>NaN</td>\n",
              "      <td>0.003666</td>\n",
              "      <td>0.006953</td>\n",
              "      <td>0.004128</td>\n",
              "      <td>1.0</td>\n",
              "      <td>21061.0</td>\n",
              "      <td>365.0</td>\n",
              "      <td>DH</td>\n",
              "      <td>1890.0</td>\n",
              "      <td>22321.0</td>\n",
              "    </tr>\n",
              "    <tr>\n",
              "      <th>2</th>\n",
              "      <td>MALE</td>\n",
              "      <td>Married</td>\n",
              "      <td>1.0</td>\n",
              "      <td>250.0</td>\n",
              "      <td>8989.0</td>\n",
              "      <td>1980.0</td>\n",
              "      <td>NaN</td>\n",
              "      <td>NaN</td>\n",
              "      <td>NaN</td>\n",
              "      <td>NaN</td>\n",
              "      <td>NaN</td>\n",
              "      <td>NaN</td>\n",
              "      <td>NaN</td>\n",
              "      <td>0.000030</td>\n",
              "      <td>0.000122</td>\n",
              "      <td>0.000143</td>\n",
              "      <td>0.0</td>\n",
              "      <td>0.0</td>\n",
              "      <td>1.0</td>\n",
              "      <td>2.0</td>\n",
              "      <td>0.000016</td>\n",
              "      <td>0.000060</td>\n",
              "      <td>2.100000e-05</td>\n",
              "      <td>2</td>\n",
              "      <td>3</td>\n",
              "      <td>2</td>\n",
              "      <td>7</td>\n",
              "      <td>4.0</td>\n",
              "      <td>Giao dich chuyen khoan</td>\n",
              "      <td>6.0</td>\n",
              "      <td>0.000046</td>\n",
              "      <td>1.0</td>\n",
              "      <td>Giao dich chuyen khoan</td>\n",
              "      <td>2.0</td>\n",
              "      <td>0.000071</td>\n",
              "      <td>636921018</td>\n",
              "      <td>NaN</td>\n",
              "      <td>NaN</td>\n",
              "      <td>NaN</td>\n",
              "      <td>NaN</td>\n",
              "      <td>NaN</td>\n",
              "      <td>NaN</td>\n",
              "      <td>NaN</td>\n",
              "      <td>NaN</td>\n",
              "      <td>NaN</td>\n",
              "      <td>NaN</td>\n",
              "      <td>NaN</td>\n",
              "      <td>NaN</td>\n",
              "      <td>NaN</td>\n",
              "      <td>NaN</td>\n",
              "    </tr>\n",
              "    <tr>\n",
              "      <th>3</th>\n",
              "      <td>MALE</td>\n",
              "      <td>Single</td>\n",
              "      <td>40.0</td>\n",
              "      <td>431.0</td>\n",
              "      <td>18055.0</td>\n",
              "      <td>2001.0</td>\n",
              "      <td>NaN</td>\n",
              "      <td>NaN</td>\n",
              "      <td>NaN</td>\n",
              "      <td>NaN</td>\n",
              "      <td>NaN</td>\n",
              "      <td>NaN</td>\n",
              "      <td>NaN</td>\n",
              "      <td>NaN</td>\n",
              "      <td>NaN</td>\n",
              "      <td>NaN</td>\n",
              "      <td>NaN</td>\n",
              "      <td>NaN</td>\n",
              "      <td>NaN</td>\n",
              "      <td>NaN</td>\n",
              "      <td>NaN</td>\n",
              "      <td>NaN</td>\n",
              "      <td>NaN</td>\n",
              "      <td>0</td>\n",
              "      <td>0</td>\n",
              "      <td>1</td>\n",
              "      <td>1</td>\n",
              "      <td>NaN</td>\n",
              "      <td>NaN</td>\n",
              "      <td>NaN</td>\n",
              "      <td>NaN</td>\n",
              "      <td>NaN</td>\n",
              "      <td>NaN</td>\n",
              "      <td>NaN</td>\n",
              "      <td>NaN</td>\n",
              "      <td>642516181</td>\n",
              "      <td>NaN</td>\n",
              "      <td>NaN</td>\n",
              "      <td>NaN</td>\n",
              "      <td>NaN</td>\n",
              "      <td>NaN</td>\n",
              "      <td>NaN</td>\n",
              "      <td>NaN</td>\n",
              "      <td>NaN</td>\n",
              "      <td>NaN</td>\n",
              "      <td>NaN</td>\n",
              "      <td>NaN</td>\n",
              "      <td>NaN</td>\n",
              "      <td>NaN</td>\n",
              "      <td>NaN</td>\n",
              "    </tr>\n",
              "    <tr>\n",
              "      <th>4</th>\n",
              "      <td>MALE</td>\n",
              "      <td>Married</td>\n",
              "      <td>49.0</td>\n",
              "      <td>512.0</td>\n",
              "      <td>20758.0</td>\n",
              "      <td>1989.0</td>\n",
              "      <td>0.0</td>\n",
              "      <td>0.000114</td>\n",
              "      <td>0.000636</td>\n",
              "      <td>0.0</td>\n",
              "      <td>0.0</td>\n",
              "      <td>1.0</td>\n",
              "      <td>1.0</td>\n",
              "      <td>0.000097</td>\n",
              "      <td>0.000247</td>\n",
              "      <td>0.000001</td>\n",
              "      <td>1.0</td>\n",
              "      <td>5.0</td>\n",
              "      <td>3.0</td>\n",
              "      <td>12.0</td>\n",
              "      <td>0.000074</td>\n",
              "      <td>0.000380</td>\n",
              "      <td>5.920000e-07</td>\n",
              "      <td>1</td>\n",
              "      <td>11</td>\n",
              "      <td>3</td>\n",
              "      <td>24</td>\n",
              "      <td>9.0</td>\n",
              "      <td>Giao dich chuyen khoan</td>\n",
              "      <td>10.0</td>\n",
              "      <td>0.000170</td>\n",
              "      <td>17.0</td>\n",
              "      <td>Giao dich chuyen khoan</td>\n",
              "      <td>19.0</td>\n",
              "      <td>0.000575</td>\n",
              "      <td>1308443119</td>\n",
              "      <td>NaN</td>\n",
              "      <td>NaN</td>\n",
              "      <td>NaN</td>\n",
              "      <td>NaN</td>\n",
              "      <td>NaN</td>\n",
              "      <td>NaN</td>\n",
              "      <td>NaN</td>\n",
              "      <td>NaN</td>\n",
              "      <td>NaN</td>\n",
              "      <td>NaN</td>\n",
              "      <td>NaN</td>\n",
              "      <td>NaN</td>\n",
              "      <td>NaN</td>\n",
              "      <td>NaN</td>\n",
              "    </tr>\n",
              "  </tbody>\n",
              "</table>\n",
              "</div>\n",
              "      <button class=\"colab-df-convert\" onclick=\"convertToInteractive('df-d75b76d6-340a-4507-aabe-d9f0098a266a')\"\n",
              "              title=\"Convert this dataframe to an interactive table.\"\n",
              "              style=\"display:none;\">\n",
              "        \n",
              "  <svg xmlns=\"http://www.w3.org/2000/svg\" height=\"24px\"viewBox=\"0 0 24 24\"\n",
              "       width=\"24px\">\n",
              "    <path d=\"M0 0h24v24H0V0z\" fill=\"none\"/>\n",
              "    <path d=\"M18.56 5.44l.94 2.06.94-2.06 2.06-.94-2.06-.94-.94-2.06-.94 2.06-2.06.94zm-11 1L8.5 8.5l.94-2.06 2.06-.94-2.06-.94L8.5 2.5l-.94 2.06-2.06.94zm10 10l.94 2.06.94-2.06 2.06-.94-2.06-.94-.94-2.06-.94 2.06-2.06.94z\"/><path d=\"M17.41 7.96l-1.37-1.37c-.4-.4-.92-.59-1.43-.59-.52 0-1.04.2-1.43.59L10.3 9.45l-7.72 7.72c-.78.78-.78 2.05 0 2.83L4 21.41c.39.39.9.59 1.41.59.51 0 1.02-.2 1.41-.59l7.78-7.78 2.81-2.81c.8-.78.8-2.07 0-2.86zM5.41 20L4 18.59l7.72-7.72 1.47 1.35L5.41 20z\"/>\n",
              "  </svg>\n",
              "      </button>\n",
              "      \n",
              "  <style>\n",
              "    .colab-df-container {\n",
              "      display:flex;\n",
              "      flex-wrap:wrap;\n",
              "      gap: 12px;\n",
              "    }\n",
              "\n",
              "    .colab-df-convert {\n",
              "      background-color: #E8F0FE;\n",
              "      border: none;\n",
              "      border-radius: 50%;\n",
              "      cursor: pointer;\n",
              "      display: none;\n",
              "      fill: #1967D2;\n",
              "      height: 32px;\n",
              "      padding: 0 0 0 0;\n",
              "      width: 32px;\n",
              "    }\n",
              "\n",
              "    .colab-df-convert:hover {\n",
              "      background-color: #E2EBFA;\n",
              "      box-shadow: 0px 1px 2px rgba(60, 64, 67, 0.3), 0px 1px 3px 1px rgba(60, 64, 67, 0.15);\n",
              "      fill: #174EA6;\n",
              "    }\n",
              "\n",
              "    [theme=dark] .colab-df-convert {\n",
              "      background-color: #3B4455;\n",
              "      fill: #D2E3FC;\n",
              "    }\n",
              "\n",
              "    [theme=dark] .colab-df-convert:hover {\n",
              "      background-color: #434B5C;\n",
              "      box-shadow: 0px 1px 3px 1px rgba(0, 0, 0, 0.15);\n",
              "      filter: drop-shadow(0px 1px 2px rgba(0, 0, 0, 0.3));\n",
              "      fill: #FFFFFF;\n",
              "    }\n",
              "  </style>\n",
              "\n",
              "      <script>\n",
              "        const buttonEl =\n",
              "          document.querySelector('#df-d75b76d6-340a-4507-aabe-d9f0098a266a button.colab-df-convert');\n",
              "        buttonEl.style.display =\n",
              "          google.colab.kernel.accessAllowed ? 'block' : 'none';\n",
              "\n",
              "        async function convertToInteractive(key) {\n",
              "          const element = document.querySelector('#df-d75b76d6-340a-4507-aabe-d9f0098a266a');\n",
              "          const dataTable =\n",
              "            await google.colab.kernel.invokeFunction('convertToInteractive',\n",
              "                                                     [key], {});\n",
              "          if (!dataTable) return;\n",
              "\n",
              "          const docLinkHtml = 'Like what you see? Visit the ' +\n",
              "            '<a target=\"_blank\" href=https://colab.research.google.com/notebooks/data_table.ipynb>data table notebook</a>'\n",
              "            + ' to learn more about interactive tables.';\n",
              "          element.innerHTML = '';\n",
              "          dataTable['output_type'] = 'display_data';\n",
              "          await google.colab.output.renderOutput(dataTable, element);\n",
              "          const docLink = document.createElement('div');\n",
              "          docLink.innerHTML = docLinkHtml;\n",
              "          element.appendChild(docLink);\n",
              "        }\n",
              "      </script>\n",
              "    </div>\n",
              "  </div>\n",
              "  "
            ]
          },
          "metadata": {},
          "execution_count": 35
        }
      ],
      "source": [
        "df.rename(columns={'local_ref_1': 'gender',\n",
        "                   'vn_marital_status':'marital_status',\n",
        "                   'birth_incorp_date':'birth_of_date',\n",
        "                   'max_amount_week':'max_week',\n",
        "                   'min_amount_week':'min_week', \n",
        "                   'distinct_payment_code_week':'service_code_week',\n",
        "                   'count_payment_code_week':'service_no_week', \n",
        "                   'distinct_trans_group_week':'trans_group_week',\n",
        "                   'distinct_ref_no_week': 'ref_no_week', \n",
        "                   'max_amount_month':'max_month', \n",
        "                   'min_amount_month':'min_month',\n",
        "                   'distinct_payment_code_month':'service_code_month', \n",
        "                   'count_payment_code_month':'service_no_month',\n",
        "                   'distinct_trans_group_month':'trans_group_month', \n",
        "                   'distinct_ref_no_month':'ref_no_month',\n",
        "                   'max_amount_3month':'max_3month', \n",
        "                   'min_amount_3month':'min_3month', \n",
        "                   'distinct_payment_code_3month':'service_code_3month',\n",
        "                   'count_payment_code_3month':'service_no_3month',\n",
        "                   'distinct_trans_group_3month':'trans_group_3month',\n",
        "                   'distinct_ref_no_3month ':'ref_no_3month',\n",
        "                   'most_act_mar2021_count':'count_most_act_3',\n",
        "                   'most_act_mar2021':'most_act_3',\n",
        "                   'total_act_mar2021':'total_act_3',\n",
        "                   'total_amt_mar2021':'total_amt_3',\n",
        "                   'most_act_juin2021_count':'count_most_act_6',\n",
        "                   'most_act_juin2021':'most_act_6',\n",
        "                   'total_act_juin2021':'total_act_6',\n",
        "                   'total_amt_juin2021':'total_amt_6',\n",
        "                   'savingValueMar2021_heoSo':'saving_value_3',\n",
        "                   'savingValueJuin2021_heoSo':'saving_value_6',\n",
        "                   'totalLoginMar2021_heoSo':'total_login_3',\n",
        "                   'totalLoginJuin2021_heoSo':'total_login_6',\n",
        "                   'totalSavings2021_heoSo':'total_login_heoso',\n",
        "                   'balanceJuin2021':'balance',\n",
        "                   'nominal_interestJuin2021':'nominal',\n",
        "                   'real_interestJuin2021':'real_interest',\n",
        "                   'nhomno_xhtdJuin2021':'loan',\n",
        "                   'categoryJuin2021':'category',\n",
        "                   'sub_productJuin2021':'sub_product',\n",
        "                   'loaikyhanJuin2021':'deposite',\n",
        "                   'sectorJuin2021':'sector',\n",
        "                   'product_codeJuin2021':'product_code'}, inplace=True)\n",
        "df.head()"
      ]
    },
    {
      "cell_type": "code",
      "source": [
        "#Xóa bỏ các space bị thừa xung quanh tên các trường\n",
        "df.columns = df.columns.str.strip(' ') "
      ],
      "metadata": {
        "id": "zBMpp6ldnEmq"
      },
      "execution_count": 36,
      "outputs": []
    },
    {
      "cell_type": "markdown",
      "source": [
        "###Drop unnecessary columns "
      ],
      "metadata": {
        "id": "tVlHZBENJWbF"
      }
    },
    {
      "cell_type": "code",
      "source": [
        "df1 = df.drop(['resid_district',\n",
        "       'resid_wards', 'max_week', 'min_week', 'trans_group_week',\n",
        "       'max_month', 'min_month','trans_group_month',\n",
        "       'max_3month', 'min_3month',\n",
        "       'service_code_3month', 'service_no_3month',\n",
        "       'distinct_ref_no_3month', 'count_most_act_3',\n",
        "       'count_most_act_6', 'deposite', 'rd_id','category',\n",
        "       'sub_product', 'sector', 'product_code','balance','nominal','real_interest','loan', 'deposite'], axis =1)"
      ],
      "metadata": {
        "id": "roiaZdO4JAPG"
      },
      "execution_count": 37,
      "outputs": []
    },
    {
      "cell_type": "code",
      "source": [
        "df1.columns"
      ],
      "metadata": {
        "id": "qWVmmpfPJc8U",
        "outputId": "2d46d82e-27e8-4c17-eb45-f5b6b4bb5ce1",
        "colab": {
          "base_uri": "https://localhost:8080/"
        }
      },
      "execution_count": 38,
      "outputs": [
        {
          "output_type": "execute_result",
          "data": {
            "text/plain": [
              "Index(['gender', 'marital_status', 'resid_province', 'birth_of_date',\n",
              "       'amount_week', 'service_code_week', 'service_no_week', 'ref_no_week',\n",
              "       'amount_month', 'service_code_month', 'service_no_month',\n",
              "       'ref_no_month', 'amount_3month', 'trans_group_3month', 'most_act_3',\n",
              "       'total_act_3', 'total_amt_mar2021', 'most_act_6', 'total_act_6',\n",
              "       'total_amt_6', 'saving_value_3', 'saving_value_6', 'total_login_3',\n",
              "       'total_login_6', 'total_login_heoso'],\n",
              "      dtype='object')"
            ]
          },
          "metadata": {},
          "execution_count": 38
        }
      ]
    },
    {
      "cell_type": "markdown",
      "metadata": {
        "id": "SUJozsJ3HCdQ"
      },
      "source": [
        "### Labeling data"
      ]
    },
    {
      "cell_type": "markdown",
      "source": [
        "#### Labeling churn"
      ],
      "metadata": {
        "id": "N_8PkZNHPMiD"
      }
    },
    {
      "cell_type": "markdown",
      "metadata": {
        "id": "NIRZToGuHItY"
      },
      "source": [
        "Quan sát những trường liên quan tới app **Heo Số**:\n",
        "\n",
        "* `saving_value_3`: Tổng số dư trong app tháng 3\n",
        "* `saving_value_6`: Tổng số dư trong app tháng 6\n",
        "* `total_login_3`: Tổng số lần đăng nhập app tháng 3\n",
        "* `total_login_6`: Tổng số lần đăng nhập app tháng 6\n",
        "* `total_savings`: Tổng số dư từ trước cho đến nay\n",
        "\n",
        "Ta sẽ có những logic về liệu khách hàng đó Churn hay không: \n",
        "* Thứ nhất, khách hàng Churn thì trước tiên người đó phải đã hoặc đang sử dụng app Heo Số. Ta sẽ chọn ra những khách hàng đó bằng cách là lựa chọn những khách hàng mà tổng số dư trong app là một giá trị không `NULL`:\n",
        "\n"
      ]
    },
    {
      "cell_type": "code",
      "execution_count": 39,
      "metadata": {
        "id": "rpiwDCzSKzSJ"
      },
      "outputs": [],
      "source": [
        "df = df[df['total_login_heoso'].notnull()].reset_index()"
      ]
    },
    {
      "cell_type": "markdown",
      "metadata": {
        "id": "4uL9Wxn-LK1z"
      },
      "source": [
        "* Thứ hai, những khách hàng **Churn** khả năng cao là những khách hàng không ghi nhận s**ố dư tiết kiệm** trong cả tháng 3 và tháng 6. Do đó ta sẽ có điều kiện `churn_cond_0` và `churn_cond_1` như sau:\n"
      ]
    },
    {
      "cell_type": "code",
      "execution_count": 40,
      "metadata": {
        "id": "XYnt4LY-Itut"
      },
      "outputs": [],
      "source": [
        "churn_cond_0 = (df[\"saving_value_3\"] == 0) & (df[\"saving_value_6\"] == 0)\n",
        "churn_cond_1 = df[\"saving_value_3\"].isnull() & df[\"saving_value_6\"].isnull()"
      ]
    },
    {
      "cell_type": "markdown",
      "metadata": {
        "id": "gnrCkT0xCb8P"
      },
      "source": [
        "* Thứ ba, những khách hàng **Churn** khả năng cao là những khách hàng không ghi nhận **lượt login** nào vào app Heo Số trong cả tháng 3 và tháng 6. Do đó ta sẽ có điều kiện `churn_cond_2` như sau:\n"
      ]
    },
    {
      "cell_type": "code",
      "execution_count": 41,
      "metadata": {
        "id": "RKM_hAENCp7V"
      },
      "outputs": [],
      "source": [
        "churn_cond_2 = (df['total_login_3'] == 0) & (df['total_login_6'] == 0)"
      ]
    },
    {
      "cell_type": "markdown",
      "metadata": {
        "id": "P9bl_AX4wiGP"
      },
      "source": [
        " Nhóm cũng đã kiểm tra các điều kiện khác \"tự nhiên hơn\" để xác định **khách hàng Churn**, tuy nhiên những trường hợp đó lại không xảy ra với bộ data này:"
      ]
    },
    {
      "cell_type": "code",
      "execution_count": 42,
      "metadata": {
        "id": "Z1rbrIrDvw9G",
        "colab": {
          "base_uri": "https://localhost:8080/"
        },
        "outputId": "01fbce86-400b-40f9-b394-f07f310340a8"
      },
      "outputs": [
        {
          "output_type": "stream",
          "name": "stdout",
          "text": [
            "Có 0 khách hàng ghi nhận số dư vào tháng 3 nhưng không ghi nhận số dư vào tháng 6\n"
          ]
        }
      ],
      "source": [
        "# Ghi nhận số dư vào tháng 3 nhưng không ghi nhận số dư vào tháng 6:\n",
        "count_cond = (df[\"saving_value_3\"].notnull() & df[\"saving_value_6\"].isnull()).sum()\n",
        "\n",
        "print(f'Có {count_cond} khách hàng ghi nhận số dư vào tháng 3 nhưng không ghi nhận số dư vào tháng 6')"
      ]
    },
    {
      "cell_type": "markdown",
      "metadata": {
        "id": "65ZUcWUyI53G"
      },
      "source": [
        "Kết hợp hai điều kiện `churn_cond_0`, `churn_cond_1` và `churn_cound_2`, ta sẽ tạo label `is_churn`:"
      ]
    },
    {
      "cell_type": "code",
      "execution_count": 43,
      "metadata": {
        "id": "5kiRMQQ1JKUS"
      },
      "outputs": [],
      "source": [
        "df1['is_churn'] = (churn_cond_0 | churn_cond_1 | churn_cond_2).astype('int')"
      ]
    },
    {
      "cell_type": "markdown",
      "source": [
        "- is_churn = 0: Khách hàng vẫn tiếp tục sử dụng Heo số\n",
        "- is_churn = 1: Khách hàng rời bỏ "
      ],
      "metadata": {
        "id": "kTk_13fcJzZS"
      }
    },
    {
      "cell_type": "markdown",
      "metadata": {
        "id": "ijWaNSwjOpV6"
      },
      "source": [
        "#### Check for the distribution of Churn status:"
      ]
    },
    {
      "cell_type": "code",
      "execution_count": 19,
      "metadata": {
        "id": "PBf3tSfnHXlz",
        "colab": {
          "base_uri": "https://localhost:8080/",
          "height": 418
        },
        "outputId": "8c50e0be-e41d-4259-fb64-d563eb03ec10"
      },
      "outputs": [
        {
          "output_type": "display_data",
          "data": {
            "text/plain": [
              "<Figure size 500x400 with 1 Axes>"
            ],
            "image/png": "[encoded data removed]"
          },
          "metadata": {}
        }
      ],
      "source": [
        "df1['is_churn'].value_counts().plot(kind='bar',\n",
        "                                   xlabel='Churn Status',\n",
        "                                   ylabel='Count',\n",
        "                                   title='Churn status distribution',\n",
        "                                   figsize=(5,4),\n",
        "                                   fontsize=10)\n",
        "plt.show()"
      ]
    },
    {
      "cell_type": "code",
      "execution_count": 44,
      "metadata": {
        "colab": {
          "base_uri": "https://localhost:8080/"
        },
        "id": "tAqByHDEqyj8",
        "outputId": "b5280631-94c5-43d6-da93-3cf1c7f977f7"
      },
      "outputs": [
        {
          "output_type": "execute_result",
          "data": {
            "text/plain": [
              "0.0    7143\n",
              "1.0     449\n",
              "Name: is_churn, dtype: int64"
            ]
          },
          "metadata": {},
          "execution_count": 44
        }
      ],
      "source": [
        "#Số lượng khách hàng rời bỏ và khách hàng tiếp tục sử dụng \n",
        "df1['is_churn'].value_counts()"
      ]
    },
    {
      "cell_type": "markdown",
      "metadata": {
        "id": "q2Fm3oNUznLY"
      },
      "source": [
        "Label ở đây dang khá là chênh lệch, do đó trong phần mô hình hóa, nhóm sẽ phải sử dụng các kĩ thuật imbalance modelling như **SMOTE**"
      ]
    },
    {
      "cell_type": "markdown",
      "source": [
        "### Loại bỏ các trường không sử dụng"
      ],
      "metadata": {
        "id": "AlUDNMieqYxs"
      }
    },
    {
      "cell_type": "code",
      "source": [
        "df1.isnull().sum()"
      ],
      "metadata": {
        "colab": {
          "base_uri": "https://localhost:8080/"
        },
        "id": "1vVXs7Auq_Qn",
        "outputId": "bbeadd92-acd3-4c18-94bf-0022e1d8b4c8"
      },
      "execution_count": 45,
      "outputs": [
        {
          "output_type": "execute_result",
          "data": {
            "text/plain": [
              "gender                 2734\n",
              "marital_status         3029\n",
              "resid_province         6569\n",
              "birth_of_date            10\n",
              "amount_week           45200\n",
              "service_code_week     43150\n",
              "service_no_week       43150\n",
              "ref_no_week           43150\n",
              "amount_month          23000\n",
              "service_code_month    17777\n",
              "service_no_month      17777\n",
              "ref_no_month          17777\n",
              "amount_3month         13480\n",
              "trans_group_3month        0\n",
              "most_act_3            26524\n",
              "total_act_3           26523\n",
              "total_amt_mar2021     27145\n",
              "most_act_6            28625\n",
              "total_act_6           28623\n",
              "total_amt_6           29336\n",
              "saving_value_3        94961\n",
              "saving_value_6        92854\n",
              "total_login_3         92685\n",
              "total_login_6         92429\n",
              "total_login_heoso     92408\n",
              "is_churn              92408\n",
              "dtype: int64"
            ]
          },
          "metadata": {},
          "execution_count": 45
        }
      ]
    },
    {
      "cell_type": "markdown",
      "metadata": {
        "id": "IzaXD5Oo3BQg"
      },
      "source": [
        "### Handle missing values"
      ]
    },
    {
      "cell_type": "markdown",
      "source": [
        "Biến numeric"
      ],
      "metadata": {
        "id": "3Ye6HojsvO0d"
      }
    },
    {
      "cell_type": "code",
      "source": [
        "columns_to_fill = ['amount_week', 'ref_no_week', 'amount_month', 'ref_no_month',\n",
        "                   'saving_value_3', 'saving_value_6', 'total_login_3', 'total_login_6',\n",
        "                   'amount_3month']\n",
        "df1[columns_to_fill] = df1[columns_to_fill].fillna(0)"
      ],
      "metadata": {
        "id": "A6vymA4vvLOm"
      },
      "execution_count": 46,
      "outputs": []
    },
    {
      "cell_type": "markdown",
      "source": [
        "Biến Categorical"
      ],
      "metadata": {
        "id": "2r_jzjGYdE_6"
      }
    },
    {
      "cell_type": "code",
      "source": [
        "# Tìm giá trị có tần suất xuất hiện nhiều nhất\n",
        "most_frequent_gender = df1[\"gender\"].mode()[0]\n",
        "most_frequent_status = df1[\"marital_status\"].mode()[0]\n",
        "most_frequent_act3 = df1[\"most_act_3\"].mode()[0]\n",
        "most_frequent_act6 = df1[\"most_act_6\"].mode()[0]\n",
        "\n",
        "# Điền giá trị thiếu bằng giá trị có tần suất xuất hiện nhiều nhất\n",
        "df1[\"gender\"].fillna(most_frequent_gender, inplace=True)\n",
        "df1[\"marital_status\"].fillna(most_frequent_status, inplace=True)\n",
        "df1[\"most_act_3\"].fillna(most_frequent_act3, inplace=True)\n",
        "df1[\"most_act_6\"].fillna(most_frequent_act6, inplace=True)"
      ],
      "metadata": {
        "id": "XlU2d_iibdYa"
      },
      "execution_count": 47,
      "outputs": []
    },
    {
      "cell_type": "markdown",
      "source": [
        "Đối với các cặp biến loại giao dịch - số lần giao dịch nhóm sẽ drop những giá trị missing value"
      ],
      "metadata": {
        "id": "nNLv1Yrl2S5O"
      }
    },
    {
      "cell_type": "code",
      "source": [
        "df1.dropna(axis = 0, inplace = True)"
      ],
      "metadata": {
        "id": "LorIBjnz2coL"
      },
      "execution_count": 48,
      "outputs": []
    },
    {
      "cell_type": "code",
      "source": [
        "df1.isnull().sum() "
      ],
      "metadata": {
        "id": "BuSrW-fj0pmw",
        "colab": {
          "base_uri": "https://localhost:8080/"
        },
        "outputId": "fca43e67-0468-4bff-8d84-dffb25f16857"
      },
      "execution_count": 49,
      "outputs": [
        {
          "output_type": "execute_result",
          "data": {
            "text/plain": [
              "gender                0\n",
              "marital_status        0\n",
              "resid_province        0\n",
              "birth_of_date         0\n",
              "amount_week           0\n",
              "service_code_week     0\n",
              "service_no_week       0\n",
              "ref_no_week           0\n",
              "amount_month          0\n",
              "service_code_month    0\n",
              "service_no_month      0\n",
              "ref_no_month          0\n",
              "amount_3month         0\n",
              "trans_group_3month    0\n",
              "most_act_3            0\n",
              "total_act_3           0\n",
              "total_amt_mar2021     0\n",
              "most_act_6            0\n",
              "total_act_6           0\n",
              "total_amt_6           0\n",
              "saving_value_3        0\n",
              "saving_value_6        0\n",
              "total_login_3         0\n",
              "total_login_6         0\n",
              "total_login_heoso     0\n",
              "is_churn              0\n",
              "dtype: int64"
            ]
          },
          "metadata": {},
          "execution_count": 49
        }
      ]
    },
    {
      "cell_type": "markdown",
      "source": [
        "### Handling special features"
      ],
      "metadata": {
        "id": "8zBk3DSR5Ya1"
      }
    },
    {
      "cell_type": "markdown",
      "source": [
        "#### Tạo cột \"Age\""
      ],
      "metadata": {
        "id": "ZTtTTPe_QUJR"
      }
    },
    {
      "cell_type": "code",
      "source": [
        "df1['age']=2020-df1['birth_of_date']\n",
        "df1.drop('birth_of_date', axis=1, inplace=True)"
      ],
      "metadata": {
        "id": "LsN4IhzO5Mqt"
      },
      "execution_count": 50,
      "outputs": []
    },
    {
      "cell_type": "code",
      "source": [
        "df1.columns"
      ],
      "metadata": {
        "colab": {
          "base_uri": "https://localhost:8080/"
        },
        "id": "a_iPLd096FNw",
        "outputId": "f06f9251-518f-435f-df56-80c7fb9e8d7a"
      },
      "execution_count": 51,
      "outputs": [
        {
          "output_type": "execute_result",
          "data": {
            "text/plain": [
              "Index(['gender', 'marital_status', 'resid_province', 'amount_week',\n",
              "       'service_code_week', 'service_no_week', 'ref_no_week', 'amount_month',\n",
              "       'service_code_month', 'service_no_month', 'ref_no_month',\n",
              "       'amount_3month', 'trans_group_3month', 'most_act_3', 'total_act_3',\n",
              "       'total_amt_mar2021', 'most_act_6', 'total_act_6', 'total_amt_6',\n",
              "       'saving_value_3', 'saving_value_6', 'total_login_3', 'total_login_6',\n",
              "       'total_login_heoso', 'is_churn', 'age'],\n",
              "      dtype='object')"
            ]
          },
          "metadata": {},
          "execution_count": 51
        }
      ]
    },
    {
      "cell_type": "markdown",
      "source": [
        "#### Marriage_status"
      ],
      "metadata": {
        "id": "2DU4XNVhSLxh"
      }
    },
    {
      "cell_type": "code",
      "source": [
        "# Phân nhóm cột marital_status thành 3 nhóm: 'Married', 'Single', 'Other'\n",
        "df1 = df1.replace({'Partner': 'Other', 'Divorced': 'Other', 'Widow': 'Other', 'Seperated': 'Other'})"
      ],
      "metadata": {
        "id": "U_sKVPHfBAZu"
      },
      "execution_count": 52,
      "outputs": []
    },
    {
      "cell_type": "markdown",
      "source": [
        "#### Most_act_3 & Most_act_6"
      ],
      "metadata": {
        "id": "jvCYLC1eSZVC"
      }
    },
    {
      "cell_type": "code",
      "source": [
        "object_columns = df1.select_dtypes(include=['object']).columns\n",
        "for col in object_columns:\n",
        "  unique_val = df1[col].unique()\n",
        "  count = len(unique_val)\n",
        "  print(f'{col} ({count} distinct values): {unique_val} \\n')"
      ],
      "metadata": {
        "id": "fpzO2aJ-2un2",
        "colab": {
          "base_uri": "https://localhost:8080/"
        },
        "outputId": "5da938dd-4f24-4a15-b65c-373b1a4d328b"
      },
      "execution_count": null,
      "outputs": [
        {
          "output_type": "stream",
          "name": "stdout",
          "text": [
            "gender (2 distinct values): ['FEMALE' 'MALE'] \n",
            "\n",
            "marital_status (3 distinct values): ['Married' 'Single' 'Other'] \n",
            "\n",
            "most_act_3 (6 distinct values): ['Giao dich chuyen khoan' 'Giao dich thanh toan' 'GIAO DICH TIET KIEM'\n",
            " 'GIAO DICH RUT TIEN ATM' 'GIAO DICH PHI TAI CHINH' 'GIAO DICH THANH TOAN'] \n",
            "\n",
            "most_act_6 (6 distinct values): ['Giao dich chuyen khoan' 'GIAO DICH PHI TAI CHINH' 'Giao dich thanh toan'\n",
            " 'GIAO DICH RUT TIEN ATM' 'GIAO DICH TIET KIEM' 'GIAO DICH THANH TOAN'] \n",
            "\n"
          ]
        }
      ]
    },
    {
      "cell_type": "code",
      "source": [
        "# Đồng nhất kiểu chữ các giá trị trong cột \"most_act_3\"\n",
        "df1['most_act_Mar'] = df1['most_act_3'].apply(lambda x: str(x).title())\n",
        "df1.drop(['most_act_3'], axis=1, inplace=True)\n",
        "print(df1['most_act_Mar'].head())"
      ],
      "metadata": {
        "id": "wXAxp_Mu3dNW",
        "colab": {
          "base_uri": "https://localhost:8080/"
        },
        "outputId": "c497e56d-4036-4ad8-afb6-e2b654306fb1"
      },
      "execution_count": null,
      "outputs": [
        {
          "output_type": "stream",
          "name": "stdout",
          "text": [
            "0    Giao Dich Chuyen Khoan\n",
            "1    Giao Dich Chuyen Khoan\n",
            "2    Giao Dich Chuyen Khoan\n",
            "3    Giao Dich Chuyen Khoan\n",
            "4    Giao Dich Chuyen Khoan\n",
            "Name: most_act_Mar, dtype: object\n"
          ]
        }
      ]
    },
    {
      "cell_type": "code",
      "source": [
        "# Đồng nhất kiểu chữ các giá trị trong cột \"most_act_6\"\n",
        "df1['most_act_Juin'] = df1['most_act_6'].apply(lambda x: str(x).title())\n",
        "df1.drop(['most_act_6'], axis=1, inplace=True)\n",
        "print(df1['most_act_Juin'].head())"
      ],
      "metadata": {
        "id": "JDuiVVKx3x9R",
        "colab": {
          "base_uri": "https://localhost:8080/"
        },
        "outputId": "140c2b6c-9d48-46f8-9069-1a5e5a4e1bc9"
      },
      "execution_count": null,
      "outputs": [
        {
          "output_type": "stream",
          "name": "stdout",
          "text": [
            "0     Giao Dich Chuyen Khoan\n",
            "1     Giao Dich Chuyen Khoan\n",
            "2     Giao Dich Chuyen Khoan\n",
            "3     Giao Dich Chuyen Khoan\n",
            "4    Giao Dich Phi Tai Chinh\n",
            "Name: most_act_Juin, dtype: object\n"
          ]
        }
      ]
    },
    {
      "cell_type": "markdown",
      "source": [
        "\n",
        "Xử lí các giá trị ở cột \"most_act_3\" và cột \"most_act_6\" vì các giá trị viết hoa, viết thường không đồng nhất"
      ],
      "metadata": {
        "id": "wJkUyxvh24Rj"
      }
    },
    {
      "cell_type": "markdown",
      "metadata": {
        "id": "2k1o7KsykUyw"
      },
      "source": [
        "### Handling outliers"
      ]
    },
    {
      "cell_type": "code",
      "source": [
        "import numpy as np\n",
        "\n",
        "def Zscore_outlier(col):\n",
        "    out = {col: 0}\n",
        "    m = np.mean(df1[col])\n",
        "    sd = np.std(df1[col])\n",
        "    for i in df1[col]: \n",
        "        z = (i - m) / sd\n",
        "        if np.abs(z) > 3.0: # Nhóm định nghĩa Outliers có z-score > 3.0\n",
        "            out[col] += 1\n",
        "    return out\n",
        "\n",
        "# Numeric features\n",
        "numeric_columns = df1.select_dtypes(include=['number']).drop(['service_code_week', 'service_code_month', 'is_churn'], axis=1)\n",
        "\n",
        "for col in numeric_columns:\n",
        "    print(Zscore_outlier(col))\n"
      ],
      "metadata": {
        "colab": {
          "base_uri": "https://localhost:8080/"
        },
        "id": "61vJ8v-D8koB",
        "outputId": "7491e628-f45e-473c-b96e-8cbc0a18ff3b"
      },
      "execution_count": null,
      "outputs": [
        {
          "output_type": "stream",
          "name": "stdout",
          "text": [
            "{'amount_week': 63}\n",
            "{'service_no_week': 45}\n",
            "{'ref_no_week': 102}\n",
            "{'amount_month': 132}\n",
            "{'service_no_month': 51}\n",
            "{'ref_no_month': 83}\n",
            "{'amount_3month': 72}\n",
            "{'trans_group_3month': 0}\n",
            "{'total_act_3': 84}\n",
            "{'total_amt_mar2021': 63}\n",
            "{'total_act_6': 116}\n",
            "{'total_amt_6': 56}\n",
            "{'saving_value_3': 56}\n",
            "{'saving_value_6': 76}\n",
            "{'total_login_3': 40}\n",
            "{'total_login_6': 58}\n",
            "{'total_login_heoso': 68}\n",
            "{'province': 0}\n",
            "{'age': 43}\n"
          ]
        }
      ]
    },
    {
      "cell_type": "code",
      "source": [
        "# Xóa các dòng chứa outlier\n",
        "for col in numeric_columns:\n",
        "    z_outliers = np.abs(stats.zscore(df1[col])) > 3.0\n",
        "    df1 = df1[~z_outliers]\n",
        "\n",
        "print(\"Số dòng sau khi loại bỏ outlier:\", len(df1))"
      ],
      "metadata": {
        "colab": {
          "base_uri": "https://localhost:8080/"
        },
        "id": "tZvGAeYlB4GX",
        "outputId": "0f45bf64-7a27-42ae-faaa-841bd1f54814"
      },
      "execution_count": null,
      "outputs": [
        {
          "output_type": "stream",
          "name": "stdout",
          "text": [
            "Số dòng sau khi loại bỏ outlier: 4747\n"
          ]
        }
      ]
    },
    {
      "cell_type": "markdown",
      "metadata": {
        "id": "iB0785z22_kG"
      },
      "source": [
        "## IV. Exploratory Data Analysis"
      ]
    },
    {
      "cell_type": "markdown",
      "source": [
        "###Describe the dataset"
      ],
      "metadata": {
        "id": "OAGa_hbzIpRN"
      }
    },
    {
      "cell_type": "code",
      "source": [
        "#Looking for the description of the dataset to get insights of the data\n",
        "df1.describe()"
      ],
      "metadata": {
        "id": "BCAqFBEkIjwE",
        "outputId": "e243fca0-f3bd-40c1-ddae-28dba5264e41",
        "colab": {
          "base_uri": "https://localhost:8080/",
          "height": 361
        }
      },
      "execution_count": 23,
      "outputs": [
        {
          "output_type": "execute_result",
          "data": {
            "text/plain": [
              "       birth_of_date  amount_week  service_code_week  service_no_week  \\\n",
              "count   99990.000000  54800.00000       56850.000000     56850.000000   \n",
              "mean     1988.480668      0.00059           0.336851         0.577766   \n",
              "std         9.474698      0.00615           0.526343         2.857005   \n",
              "min      1073.000000      0.00000           0.000000         0.000000   \n",
              "25%      1983.000000      0.00000           0.000000         0.000000   \n",
              "50%      1990.000000      0.00000           0.000000         0.000000   \n",
              "75%      1995.000000      0.00000           1.000000         1.000000   \n",
              "max      2020.000000      1.00000           5.000000       331.000000   \n",
              "\n",
              "        ref_no_week  amount_month  service_code_month  service_no_month  \\\n",
              "count  56850.000000  7.700000e+04        82223.000000      82223.000000   \n",
              "mean       6.178276  1.238261e-03            0.744184          1.837539   \n",
              "std       11.763902  7.281018e-03            0.870959          5.174273   \n",
              "min        0.000000  2.800000e-10            0.000000          0.000000   \n",
              "25%        1.000000  2.400000e-05            0.000000          0.000000   \n",
              "50%        3.000000  1.017675e-04            1.000000          1.000000   \n",
              "75%        7.000000  5.404727e-04            1.000000          3.000000   \n",
              "max     1128.000000  1.000000e+00            8.000000        390.000000   \n",
              "\n",
              "       ref_no_month  amount_3month  trans_group_3month   total_act_3  \\\n",
              "count  82223.000000   8.652000e+04       100000.000000  73477.000000   \n",
              "mean      18.274339   6.747963e-04            2.431310     19.152252   \n",
              "std       41.825200   4.872849e-03            1.161273     37.629618   \n",
              "min        0.000000   6.570000e-11            1.000000      1.000000   \n",
              "25%        3.000000   1.280000e-05            1.000000      4.000000   \n",
              "50%        9.000000   5.740000e-05            2.000000     10.000000   \n",
              "75%       20.000000   2.978360e-04            3.000000     22.000000   \n",
              "max     5800.000000   1.000000e+00            7.000000   3328.000000   \n",
              "\n",
              "        total_amt_3   total_act_6   total_amt_6  saving_value_3  \\\n",
              "count  7.285500e+04  71377.000000  70664.000000     5039.000000   \n",
              "mean   1.370018e-03     19.396963      0.003563        0.016161   \n",
              "std    9.134551e-03     35.468908      0.018221        0.060268   \n",
              "min    1.100000e-08      1.000000      0.000000        0.000000   \n",
              "25%    2.737600e-05      4.000000      0.000084        0.001190   \n",
              "50%    1.098480e-04     10.000000      0.000319        0.002619   \n",
              "75%    5.530240e-04     23.000000      0.001555        0.010123   \n",
              "max    1.000000e+00   2574.000000      1.000000        1.000000   \n",
              "\n",
              "       saving_value_6  total_login_3  total_login_6  total_login_heoso  \\\n",
              "count     7146.000000    7315.000000    7571.000000        7592.000000   \n",
              "mean         0.009473      20.119207      29.372606           0.016666   \n",
              "std          0.036145      43.930013      56.832050           0.021570   \n",
              "min          0.000000       1.000000       1.000000           0.010638   \n",
              "25%          0.000610       5.000000       8.000000           0.010638   \n",
              "50%          0.001585      10.000000      16.000000           0.010638   \n",
              "75%          0.006098      23.000000      34.000000           0.010638   \n",
              "max          1.000000    1088.000000    1361.000000           1.000000   \n",
              "\n",
              "          is_churn  \n",
              "count  7592.000000  \n",
              "mean      0.059141  \n",
              "std       0.235904  \n",
              "min       0.000000  \n",
              "25%       0.000000  \n",
              "50%       0.000000  \n",
              "75%       0.000000  \n",
              "max       1.000000  "
            ],
            "text/html": [
              "\n",
              "  <div id=\"df-b8bf8b84-0102-471f-9031-ffbcdb9335b6\">\n",
              "    <div class=\"colab-df-container\">\n",
              "      <div>\n",
              "<style scoped>\n",
              "    .dataframe tbody tr th:only-of-type {\n",
              "        vertical-align: middle;\n",
              "    }\n",
              "\n",
              "    .dataframe tbody tr th {\n",
              "        vertical-align: top;\n",
              "    }\n",
              "\n",
              "    .dataframe thead th {\n",
              "        text-align: right;\n",
              "    }\n",
              "</style>\n",
              "<table border=\"1\" class=\"dataframe\">\n",
              "  <thead>\n",
              "    <tr style=\"text-align: right;\">\n",
              "      <th></th>\n",
              "      <th>birth_of_date</th>\n",
              "      <th>amount_week</th>\n",
              "      <th>service_code_week</th>\n",
              "      <th>service_no_week</th>\n",
              "      <th>ref_no_week</th>\n",
              "      <th>amount_month</th>\n",
              "      <th>service_code_month</th>\n",
              "      <th>service_no_month</th>\n",
              "      <th>ref_no_month</th>\n",
              "      <th>amount_3month</th>\n",
              "      <th>trans_group_3month</th>\n",
              "      <th>total_act_3</th>\n",
              "      <th>total_amt_3</th>\n",
              "      <th>total_act_6</th>\n",
              "      <th>total_amt_6</th>\n",
              "      <th>saving_value_3</th>\n",
              "      <th>saving_value_6</th>\n",
              "      <th>total_login_3</th>\n",
              "      <th>total_login_6</th>\n",
              "      <th>total_login_heoso</th>\n",
              "      <th>is_churn</th>\n",
              "    </tr>\n",
              "  </thead>\n",
              "  <tbody>\n",
              "    <tr>\n",
              "      <th>count</th>\n",
              "      <td>99990.000000</td>\n",
              "      <td>54800.00000</td>\n",
              "      <td>56850.000000</td>\n",
              "      <td>56850.000000</td>\n",
              "      <td>56850.000000</td>\n",
              "      <td>7.700000e+04</td>\n",
              "      <td>82223.000000</td>\n",
              "      <td>82223.000000</td>\n",
              "      <td>82223.000000</td>\n",
              "      <td>8.652000e+04</td>\n",
              "      <td>100000.000000</td>\n",
              "      <td>73477.000000</td>\n",
              "      <td>7.285500e+04</td>\n",
              "      <td>71377.000000</td>\n",
              "      <td>70664.000000</td>\n",
              "      <td>5039.000000</td>\n",
              "      <td>7146.000000</td>\n",
              "      <td>7315.000000</td>\n",
              "      <td>7571.000000</td>\n",
              "      <td>7592.000000</td>\n",
              "      <td>7592.000000</td>\n",
              "    </tr>\n",
              "    <tr>\n",
              "      <th>mean</th>\n",
              "      <td>1988.480668</td>\n",
              "      <td>0.00059</td>\n",
              "      <td>0.336851</td>\n",
              "      <td>0.577766</td>\n",
              "      <td>6.178276</td>\n",
              "      <td>1.238261e-03</td>\n",
              "      <td>0.744184</td>\n",
              "      <td>1.837539</td>\n",
              "      <td>18.274339</td>\n",
              "      <td>6.747963e-04</td>\n",
              "      <td>2.431310</td>\n",
              "      <td>19.152252</td>\n",
              "      <td>1.370018e-03</td>\n",
              "      <td>19.396963</td>\n",
              "      <td>0.003563</td>\n",
              "      <td>0.016161</td>\n",
              "      <td>0.009473</td>\n",
              "      <td>20.119207</td>\n",
              "      <td>29.372606</td>\n",
              "      <td>0.016666</td>\n",
              "      <td>0.059141</td>\n",
              "    </tr>\n",
              "    <tr>\n",
              "      <th>std</th>\n",
              "      <td>9.474698</td>\n",
              "      <td>0.00615</td>\n",
              "      <td>0.526343</td>\n",
              "      <td>2.857005</td>\n",
              "      <td>11.763902</td>\n",
              "      <td>7.281018e-03</td>\n",
              "      <td>0.870959</td>\n",
              "      <td>5.174273</td>\n",
              "      <td>41.825200</td>\n",
              "      <td>4.872849e-03</td>\n",
              "      <td>1.161273</td>\n",
              "      <td>37.629618</td>\n",
              "      <td>9.134551e-03</td>\n",
              "      <td>35.468908</td>\n",
              "      <td>0.018221</td>\n",
              "      <td>0.060268</td>\n",
              "      <td>0.036145</td>\n",
              "      <td>43.930013</td>\n",
              "      <td>56.832050</td>\n",
              "      <td>0.021570</td>\n",
              "      <td>0.235904</td>\n",
              "    </tr>\n",
              "    <tr>\n",
              "      <th>min</th>\n",
              "      <td>1073.000000</td>\n",
              "      <td>0.00000</td>\n",
              "      <td>0.000000</td>\n",
              "      <td>0.000000</td>\n",
              "      <td>0.000000</td>\n",
              "      <td>2.800000e-10</td>\n",
              "      <td>0.000000</td>\n",
              "      <td>0.000000</td>\n",
              "      <td>0.000000</td>\n",
              "      <td>6.570000e-11</td>\n",
              "      <td>1.000000</td>\n",
              "      <td>1.000000</td>\n",
              "      <td>1.100000e-08</td>\n",
              "      <td>1.000000</td>\n",
              "      <td>0.000000</td>\n",
              "      <td>0.000000</td>\n",
              "      <td>0.000000</td>\n",
              "      <td>1.000000</td>\n",
              "      <td>1.000000</td>\n",
              "      <td>0.010638</td>\n",
              "      <td>0.000000</td>\n",
              "    </tr>\n",
              "    <tr>\n",
              "      <th>25%</th>\n",
              "      <td>1983.000000</td>\n",
              "      <td>0.00000</td>\n",
              "      <td>0.000000</td>\n",
              "      <td>0.000000</td>\n",
              "      <td>1.000000</td>\n",
              "      <td>2.400000e-05</td>\n",
              "      <td>0.000000</td>\n",
              "      <td>0.000000</td>\n",
              "      <td>3.000000</td>\n",
              "      <td>1.280000e-05</td>\n",
              "      <td>1.000000</td>\n",
              "      <td>4.000000</td>\n",
              "      <td>2.737600e-05</td>\n",
              "      <td>4.000000</td>\n",
              "      <td>0.000084</td>\n",
              "      <td>0.001190</td>\n",
              "      <td>0.000610</td>\n",
              "      <td>5.000000</td>\n",
              "      <td>8.000000</td>\n",
              "      <td>0.010638</td>\n",
              "      <td>0.000000</td>\n",
              "    </tr>\n",
              "    <tr>\n",
              "      <th>50%</th>\n",
              "      <td>1990.000000</td>\n",
              "      <td>0.00000</td>\n",
              "      <td>0.000000</td>\n",
              "      <td>0.000000</td>\n",
              "      <td>3.000000</td>\n",
              "      <td>1.017675e-04</td>\n",
              "      <td>1.000000</td>\n",
              "      <td>1.000000</td>\n",
              "      <td>9.000000</td>\n",
              "      <td>5.740000e-05</td>\n",
              "      <td>2.000000</td>\n",
              "      <td>10.000000</td>\n",
              "      <td>1.098480e-04</td>\n",
              "      <td>10.000000</td>\n",
              "      <td>0.000319</td>\n",
              "      <td>0.002619</td>\n",
              "      <td>0.001585</td>\n",
              "      <td>10.000000</td>\n",
              "      <td>16.000000</td>\n",
              "      <td>0.010638</td>\n",
              "      <td>0.000000</td>\n",
              "    </tr>\n",
              "    <tr>\n",
              "      <th>75%</th>\n",
              "      <td>1995.000000</td>\n",
              "      <td>0.00000</td>\n",
              "      <td>1.000000</td>\n",
              "      <td>1.000000</td>\n",
              "      <td>7.000000</td>\n",
              "      <td>5.404727e-04</td>\n",
              "      <td>1.000000</td>\n",
              "      <td>3.000000</td>\n",
              "      <td>20.000000</td>\n",
              "      <td>2.978360e-04</td>\n",
              "      <td>3.000000</td>\n",
              "      <td>22.000000</td>\n",
              "      <td>5.530240e-04</td>\n",
              "      <td>23.000000</td>\n",
              "      <td>0.001555</td>\n",
              "      <td>0.010123</td>\n",
              "      <td>0.006098</td>\n",
              "      <td>23.000000</td>\n",
              "      <td>34.000000</td>\n",
              "      <td>0.010638</td>\n",
              "      <td>0.000000</td>\n",
              "    </tr>\n",
              "    <tr>\n",
              "      <th>max</th>\n",
              "      <td>2020.000000</td>\n",
              "      <td>1.00000</td>\n",
              "      <td>5.000000</td>\n",
              "      <td>331.000000</td>\n",
              "      <td>1128.000000</td>\n",
              "      <td>1.000000e+00</td>\n",
              "      <td>8.000000</td>\n",
              "      <td>390.000000</td>\n",
              "      <td>5800.000000</td>\n",
              "      <td>1.000000e+00</td>\n",
              "      <td>7.000000</td>\n",
              "      <td>3328.000000</td>\n",
              "      <td>1.000000e+00</td>\n",
              "      <td>2574.000000</td>\n",
              "      <td>1.000000</td>\n",
              "      <td>1.000000</td>\n",
              "      <td>1.000000</td>\n",
              "      <td>1088.000000</td>\n",
              "      <td>1361.000000</td>\n",
              "      <td>1.000000</td>\n",
              "      <td>1.000000</td>\n",
              "    </tr>\n",
              "  </tbody>\n",
              "</table>\n",
              "</div>\n",
              "      <button class=\"colab-df-convert\" onclick=\"convertToInteractive('df-b8bf8b84-0102-471f-9031-ffbcdb9335b6')\"\n",
              "              title=\"Convert this dataframe to an interactive table.\"\n",
              "              style=\"display:none;\">\n",
              "        \n",
              "  <svg xmlns=\"http://www.w3.org/2000/svg\" height=\"24px\"viewBox=\"0 0 24 24\"\n",
              "       width=\"24px\">\n",
              "    <path d=\"M0 0h24v24H0V0z\" fill=\"none\"/>\n",
              "    <path d=\"M18.56 5.44l.94 2.06.94-2.06 2.06-.94-2.06-.94-.94-2.06-.94 2.06-2.06.94zm-11 1L8.5 8.5l.94-2.06 2.06-.94-2.06-.94L8.5 2.5l-.94 2.06-2.06.94zm10 10l.94 2.06.94-2.06 2.06-.94-2.06-.94-.94-2.06-.94 2.06-2.06.94z\"/><path d=\"M17.41 7.96l-1.37-1.37c-.4-.4-.92-.59-1.43-.59-.52 0-1.04.2-1.43.59L10.3 9.45l-7.72 7.72c-.78.78-.78 2.05 0 2.83L4 21.41c.39.39.9.59 1.41.59.51 0 1.02-.2 1.41-.59l7.78-7.78 2.81-2.81c.8-.78.8-2.07 0-2.86zM5.41 20L4 18.59l7.72-7.72 1.47 1.35L5.41 20z\"/>\n",
              "  </svg>\n",
              "      </button>\n",
              "      \n",
              "  <style>\n",
              "    .colab-df-container {\n",
              "      display:flex;\n",
              "      flex-wrap:wrap;\n",
              "      gap: 12px;\n",
              "    }\n",
              "\n",
              "    .colab-df-convert {\n",
              "      background-color: #E8F0FE;\n",
              "      border: none;\n",
              "      border-radius: 50%;\n",
              "      cursor: pointer;\n",
              "      display: none;\n",
              "      fill: #1967D2;\n",
              "      height: 32px;\n",
              "      padding: 0 0 0 0;\n",
              "      width: 32px;\n",
              "    }\n",
              "\n",
              "    .colab-df-convert:hover {\n",
              "      background-color: #E2EBFA;\n",
              "      box-shadow: 0px 1px 2px rgba(60, 64, 67, 0.3), 0px 1px 3px 1px rgba(60, 64, 67, 0.15);\n",
              "      fill: #174EA6;\n",
              "    }\n",
              "\n",
              "    [theme=dark] .colab-df-convert {\n",
              "      background-color: #3B4455;\n",
              "      fill: #D2E3FC;\n",
              "    }\n",
              "\n",
              "    [theme=dark] .colab-df-convert:hover {\n",
              "      background-color: #434B5C;\n",
              "      box-shadow: 0px 1px 3px 1px rgba(0, 0, 0, 0.15);\n",
              "      filter: drop-shadow(0px 1px 2px rgba(0, 0, 0, 0.3));\n",
              "      fill: #FFFFFF;\n",
              "    }\n",
              "  </style>\n",
              "\n",
              "      <script>\n",
              "        const buttonEl =\n",
              "          document.querySelector('#df-b8bf8b84-0102-471f-9031-ffbcdb9335b6 button.colab-df-convert');\n",
              "        buttonEl.style.display =\n",
              "          google.colab.kernel.accessAllowed ? 'block' : 'none';\n",
              "\n",
              "        async function convertToInteractive(key) {\n",
              "          const element = document.querySelector('#df-b8bf8b84-0102-471f-9031-ffbcdb9335b6');\n",
              "          const dataTable =\n",
              "            await google.colab.kernel.invokeFunction('convertToInteractive',\n",
              "                                                     [key], {});\n",
              "          if (!dataTable) return;\n",
              "\n",
              "          const docLinkHtml = 'Like what you see? Visit the ' +\n",
              "            '<a target=\"_blank\" href=https://colab.research.google.com/notebooks/data_table.ipynb>data table notebook</a>'\n",
              "            + ' to learn more about interactive tables.';\n",
              "          element.innerHTML = '';\n",
              "          dataTable['output_type'] = 'display_data';\n",
              "          await google.colab.output.renderOutput(dataTable, element);\n",
              "          const docLink = document.createElement('div');\n",
              "          docLink.innerHTML = docLinkHtml;\n",
              "          element.appendChild(docLink);\n",
              "        }\n",
              "      </script>\n",
              "    </div>\n",
              "  </div>\n",
              "  "
            ]
          },
          "metadata": {},
          "execution_count": 23
        }
      ]
    },
    {
      "cell_type": "markdown",
      "source": [
        "### Tỉ lệ Churn theo giới tính"
      ],
      "metadata": {
        "id": "ycUFQArkKmtv"
      }
    },
    {
      "cell_type": "code",
      "source": [
        "churn_by_gender = df1.groupby('gender')['is_churn'].mean()\n",
        "churn_by_gender.plot(kind='bar')\n",
        "plt.xlabel('Gender')\n",
        "plt.ylabel('Churn Rate')\n",
        "plt.title('Churn Rate by Gender')\n",
        "plt.show()"
      ],
      "metadata": {
        "id": "ZhznRw08Kl5L",
        "outputId": "254677f9-a9e9-465f-a5dc-0110c1a1f788",
        "colab": {
          "base_uri": "https://localhost:8080/",
          "height": 512
        }
      },
      "execution_count": 22,
      "outputs": [
        {
          "output_type": "display_data",
          "data": {
            "text/plain": [
              "<Figure size 640x480 with 1 Axes>"
            ],
            "image/png": "[encoded data removed]"
          },
          "metadata": {}
        }
      ]
    },
    {
      "cell_type": "markdown",
      "source": [
        "Ở đây, có thể thấy tỉ lệ churn của khách hàng nữ trong tổng số khách hàng nữ ít hơn tỉ lệ churn của khách hàng nam trong tổng số khách hàng nam. Điều này có thể chỉ ra rằng khách hàng nữ có xu hướng ổn định hơn và ít có khả năng churn (hủy dịch vụ) so với khách hàng nam."
      ],
      "metadata": {
        "id": "DtXwhhTSK11a"
      }
    },
    {
      "cell_type": "markdown",
      "source": [
        "### Tỉ lệ Churn theo tình trạng hôn nhân"
      ],
      "metadata": {
        "id": "XxjcsOELOJb0"
      }
    },
    {
      "cell_type": "code",
      "source": [
        "# Phân bổ của 3 nhóm 'Married', 'Single', 'Other':\n",
        "churn_by_marital_status = df1.groupby('marital_status')['is_churn'].mean()\n",
        "plt.figure(figsize=(10, 6))\n",
        "df1['marital_status'].value_counts().plot(kind='bar')\n",
        "plt.xlabel('Marital Status')\n",
        "plt.ylabel('Churn Rate')\n",
        "plt.title(\"Comparsion betweeen Marital Status\")"
      ],
      "metadata": {
        "colab": {
          "base_uri": "https://localhost:8080/",
          "height": 620
        },
        "id": "oPU7BoVIpb_E",
        "outputId": "bf4fc2e6-2e69-4f0d-cab3-773bc264d665"
      },
      "execution_count": 53,
      "outputs": [
        {
          "output_type": "execute_result",
          "data": {
            "text/plain": [
              "Text(0.5, 1.0, 'Comparsion betweeen Marital Status')"
            ]
          },
          "metadata": {},
          "execution_count": 53
        },
        {
          "output_type": "display_data",
          "data": {
            "text/plain": [
              "<Figure size 1000x600 with 1 Axes>"
            ],
            "image/png": "[encoded data removed]"
          },
          "metadata": {}
        }
      ]
    },
    {
      "cell_type": "markdown",
      "source": [
        "### Tỉ lệ Churn theo Loại đô thị"
      ],
      "metadata": {
        "id": "5zhMgivFLUTG"
      }
    },
    {
      "cell_type": "code",
      "source": [
        "#Chia thành các loại đô thị khác nhau \n",
        "#0:Đô thị đặc biệt\n",
        "#1:Đô thị loại I\n",
        "#2:Đô thị loại II\n",
        "#3:Đô thị loại II\n",
        "province = []\n",
        "for i in range(len(df1['resid_province'])):\n",
        "    if df1['resid_province'][i] in [1,79]:\n",
        "        province.append(0)\n",
        "    elif df1['resid_province'][i] in [31, 48, 92, 19, 36, 25, 22, 27, 30, 38, 40, 46, 52, 56, 66, 64, 68, 77, 75, 74, 82, 89]:\n",
        "        province.append(1)\n",
        "    elif df1['resid_province'][i] in [6, 8, 26, 27, 45, 58, 67, 83, 84, 86, 93, 95]:\n",
        "        province.append(3)\n",
        "    else:\n",
        "        province.append(2)\n",
        "df1['province'] = province\n",
        "df1.head()"
      ],
      "metadata": {
        "id": "UYtd0b-HOdMm",
        "colab": {
          "base_uri": "https://localhost:8080/",
          "height": 494
        },
        "outputId": "8bfb5e04-61e9-46f2-d396-232ddb1f1182"
      },
      "execution_count": 55,
      "outputs": [
        {
          "output_type": "error",
          "ename": "KeyError",
          "evalue": "ignored",
          "traceback": [
            "\u001b[0;31m---------------------------------------------------------------------------\u001b[0m",
            "\u001b[0;31mKeyError\u001b[0m                                  Traceback (most recent call last)",
            "\u001b[0;32m/usr/local/lib/python3.10/dist-packages/pandas/core/indexes/base.py\u001b[0m in \u001b[0;36mget_loc\u001b[0;34m(self, key, method, tolerance)\u001b[0m\n\u001b[1;32m   3801\u001b[0m             \u001b[0;32mtry\u001b[0m\u001b[0;34m:\u001b[0m\u001b[0;34m\u001b[0m\u001b[0;34m\u001b[0m\u001b[0m\n\u001b[0;32m-> 3802\u001b[0;31m                 \u001b[0;32mreturn\u001b[0m \u001b[0mself\u001b[0m\u001b[0;34m.\u001b[0m\u001b[0m_engine\u001b[0m\u001b[0;34m.\u001b[0m\u001b[0mget_loc\u001b[0m\u001b[0;34m(\u001b[0m\u001b[0mcasted_key\u001b[0m\u001b[0;34m)\u001b[0m\u001b[0;34m\u001b[0m\u001b[0;34m\u001b[0m\u001b[0m\n\u001b[0m\u001b[1;32m   3803\u001b[0m             \u001b[0;32mexcept\u001b[0m \u001b[0mKeyError\u001b[0m \u001b[0;32mas\u001b[0m \u001b[0merr\u001b[0m\u001b[0;34m:\u001b[0m\u001b[0;34m\u001b[0m\u001b[0;34m\u001b[0m\u001b[0m\n",
            "\u001b[0;32m/usr/local/lib/python3.10/dist-packages/pandas/_libs/index.pyx\u001b[0m in \u001b[0;36mpandas._libs.index.IndexEngine.get_loc\u001b[0;34m()\u001b[0m\n",
            "\u001b[0;32m/usr/local/lib/python3.10/dist-packages/pandas/_libs/index.pyx\u001b[0m in \u001b[0;36mpandas._libs.index.IndexEngine.get_loc\u001b[0;34m()\u001b[0m\n",
            "\u001b[0;32mpandas/_libs/hashtable_class_helper.pxi\u001b[0m in \u001b[0;36mpandas._libs.hashtable.Int64HashTable.get_item\u001b[0;34m()\u001b[0m\n",
            "\u001b[0;32mpandas/_libs/hashtable_class_helper.pxi\u001b[0m in \u001b[0;36mpandas._libs.hashtable.Int64HashTable.get_item\u001b[0;34m()\u001b[0m\n",
            "\u001b[0;31mKeyError\u001b[0m: 0",
            "\nThe above exception was the direct cause of the following exception:\n",
            "\u001b[0;31mKeyError\u001b[0m                                  Traceback (most recent call last)",
            "\u001b[0;32m<ipython-input-55-6dd239f02e8d>\u001b[0m in \u001b[0;36m<cell line: 7>\u001b[0;34m()\u001b[0m\n\u001b[1;32m      6\u001b[0m \u001b[0mprovince\u001b[0m \u001b[0;34m=\u001b[0m \u001b[0;34m[\u001b[0m\u001b[0;34m]\u001b[0m\u001b[0;34m\u001b[0m\u001b[0;34m\u001b[0m\u001b[0m\n\u001b[1;32m      7\u001b[0m \u001b[0;32mfor\u001b[0m \u001b[0mi\u001b[0m \u001b[0;32min\u001b[0m \u001b[0mrange\u001b[0m\u001b[0;34m(\u001b[0m\u001b[0mlen\u001b[0m\u001b[0;34m(\u001b[0m\u001b[0mdf1\u001b[0m\u001b[0;34m[\u001b[0m\u001b[0;34m'resid_province'\u001b[0m\u001b[0;34m]\u001b[0m\u001b[0;34m)\u001b[0m\u001b[0;34m)\u001b[0m\u001b[0;34m:\u001b[0m\u001b[0;34m\u001b[0m\u001b[0;34m\u001b[0m\u001b[0m\n\u001b[0;32m----> 8\u001b[0;31m     \u001b[0;32mif\u001b[0m \u001b[0mdf1\u001b[0m\u001b[0;34m[\u001b[0m\u001b[0;34m'resid_province'\u001b[0m\u001b[0;34m]\u001b[0m\u001b[0;34m[\u001b[0m\u001b[0mi\u001b[0m\u001b[0;34m]\u001b[0m \u001b[0;32min\u001b[0m \u001b[0;34m[\u001b[0m\u001b[0;36m1\u001b[0m\u001b[0;34m,\u001b[0m\u001b[0;36m79\u001b[0m\u001b[0;34m]\u001b[0m\u001b[0;34m:\u001b[0m\u001b[0;34m\u001b[0m\u001b[0;34m\u001b[0m\u001b[0m\n\u001b[0m\u001b[1;32m      9\u001b[0m         \u001b[0mprovince\u001b[0m\u001b[0;34m.\u001b[0m\u001b[0mappend\u001b[0m\u001b[0;34m(\u001b[0m\u001b[0;36m0\u001b[0m\u001b[0;34m)\u001b[0m\u001b[0;34m\u001b[0m\u001b[0;34m\u001b[0m\u001b[0m\n\u001b[1;32m     10\u001b[0m     \u001b[0;32melif\u001b[0m \u001b[0mdf1\u001b[0m\u001b[0;34m[\u001b[0m\u001b[0;34m'resid_province'\u001b[0m\u001b[0;34m]\u001b[0m\u001b[0;34m[\u001b[0m\u001b[0mi\u001b[0m\u001b[0;34m]\u001b[0m \u001b[0;32min\u001b[0m \u001b[0;34m[\u001b[0m\u001b[0;36m31\u001b[0m\u001b[0;34m,\u001b[0m \u001b[0;36m48\u001b[0m\u001b[0;34m,\u001b[0m \u001b[0;36m92\u001b[0m\u001b[0;34m,\u001b[0m \u001b[0;36m19\u001b[0m\u001b[0;34m,\u001b[0m \u001b[0;36m36\u001b[0m\u001b[0;34m,\u001b[0m \u001b[0;36m25\u001b[0m\u001b[0;34m,\u001b[0m \u001b[0;36m22\u001b[0m\u001b[0;34m,\u001b[0m \u001b[0;36m27\u001b[0m\u001b[0;34m,\u001b[0m \u001b[0;36m30\u001b[0m\u001b[0;34m,\u001b[0m \u001b[0;36m38\u001b[0m\u001b[0;34m,\u001b[0m \u001b[0;36m40\u001b[0m\u001b[0;34m,\u001b[0m \u001b[0;36m46\u001b[0m\u001b[0;34m,\u001b[0m \u001b[0;36m52\u001b[0m\u001b[0;34m,\u001b[0m \u001b[0;36m56\u001b[0m\u001b[0;34m,\u001b[0m \u001b[0;36m66\u001b[0m\u001b[0;34m,\u001b[0m \u001b[0;36m64\u001b[0m\u001b[0;34m,\u001b[0m \u001b[0;36m68\u001b[0m\u001b[0;34m,\u001b[0m \u001b[0;36m77\u001b[0m\u001b[0;34m,\u001b[0m \u001b[0;36m75\u001b[0m\u001b[0;34m,\u001b[0m \u001b[0;36m74\u001b[0m\u001b[0;34m,\u001b[0m \u001b[0;36m82\u001b[0m\u001b[0;34m,\u001b[0m \u001b[0;36m89\u001b[0m\u001b[0;34m]\u001b[0m\u001b[0;34m:\u001b[0m\u001b[0;34m\u001b[0m\u001b[0;34m\u001b[0m\u001b[0m\n",
            "\u001b[0;32m/usr/local/lib/python3.10/dist-packages/pandas/core/series.py\u001b[0m in \u001b[0;36m__getitem__\u001b[0;34m(self, key)\u001b[0m\n\u001b[1;32m    979\u001b[0m \u001b[0;34m\u001b[0m\u001b[0m\n\u001b[1;32m    980\u001b[0m         \u001b[0;32melif\u001b[0m \u001b[0mkey_is_scalar\u001b[0m\u001b[0;34m:\u001b[0m\u001b[0;34m\u001b[0m\u001b[0;34m\u001b[0m\u001b[0m\n\u001b[0;32m--> 981\u001b[0;31m             \u001b[0;32mreturn\u001b[0m \u001b[0mself\u001b[0m\u001b[0;34m.\u001b[0m\u001b[0m_get_value\u001b[0m\u001b[0;34m(\u001b[0m\u001b[0mkey\u001b[0m\u001b[0;34m)\u001b[0m\u001b[0;34m\u001b[0m\u001b[0;34m\u001b[0m\u001b[0m\n\u001b[0m\u001b[1;32m    982\u001b[0m \u001b[0;34m\u001b[0m\u001b[0m\n\u001b[1;32m    983\u001b[0m         \u001b[0;32mif\u001b[0m \u001b[0mis_hashable\u001b[0m\u001b[0;34m(\u001b[0m\u001b[0mkey\u001b[0m\u001b[0;34m)\u001b[0m\u001b[0;34m:\u001b[0m\u001b[0;34m\u001b[0m\u001b[0;34m\u001b[0m\u001b[0m\n",
            "\u001b[0;32m/usr/local/lib/python3.10/dist-packages/pandas/core/series.py\u001b[0m in \u001b[0;36m_get_value\u001b[0;34m(self, label, takeable)\u001b[0m\n\u001b[1;32m   1087\u001b[0m \u001b[0;34m\u001b[0m\u001b[0m\n\u001b[1;32m   1088\u001b[0m         \u001b[0;31m# Similar to Index.get_value, but we do not fall back to positional\u001b[0m\u001b[0;34m\u001b[0m\u001b[0;34m\u001b[0m\u001b[0m\n\u001b[0;32m-> 1089\u001b[0;31m         \u001b[0mloc\u001b[0m \u001b[0;34m=\u001b[0m \u001b[0mself\u001b[0m\u001b[0;34m.\u001b[0m\u001b[0mindex\u001b[0m\u001b[0;34m.\u001b[0m\u001b[0mget_loc\u001b[0m\u001b[0;34m(\u001b[0m\u001b[0mlabel\u001b[0m\u001b[0;34m)\u001b[0m\u001b[0;34m\u001b[0m\u001b[0;34m\u001b[0m\u001b[0m\n\u001b[0m\u001b[1;32m   1090\u001b[0m         \u001b[0;32mreturn\u001b[0m \u001b[0mself\u001b[0m\u001b[0;34m.\u001b[0m\u001b[0mindex\u001b[0m\u001b[0;34m.\u001b[0m\u001b[0m_get_values_for_loc\u001b[0m\u001b[0;34m(\u001b[0m\u001b[0mself\u001b[0m\u001b[0;34m,\u001b[0m \u001b[0mloc\u001b[0m\u001b[0;34m,\u001b[0m \u001b[0mlabel\u001b[0m\u001b[0;34m)\u001b[0m\u001b[0;34m\u001b[0m\u001b[0;34m\u001b[0m\u001b[0m\n\u001b[1;32m   1091\u001b[0m \u001b[0;34m\u001b[0m\u001b[0m\n",
            "\u001b[0;32m/usr/local/lib/python3.10/dist-packages/pandas/core/indexes/base.py\u001b[0m in \u001b[0;36mget_loc\u001b[0;34m(self, key, method, tolerance)\u001b[0m\n\u001b[1;32m   3802\u001b[0m                 \u001b[0;32mreturn\u001b[0m \u001b[0mself\u001b[0m\u001b[0;34m.\u001b[0m\u001b[0m_engine\u001b[0m\u001b[0;34m.\u001b[0m\u001b[0mget_loc\u001b[0m\u001b[0;34m(\u001b[0m\u001b[0mcasted_key\u001b[0m\u001b[0;34m)\u001b[0m\u001b[0;34m\u001b[0m\u001b[0;34m\u001b[0m\u001b[0m\n\u001b[1;32m   3803\u001b[0m             \u001b[0;32mexcept\u001b[0m \u001b[0mKeyError\u001b[0m \u001b[0;32mas\u001b[0m \u001b[0merr\u001b[0m\u001b[0;34m:\u001b[0m\u001b[0;34m\u001b[0m\u001b[0;34m\u001b[0m\u001b[0m\n\u001b[0;32m-> 3804\u001b[0;31m                 \u001b[0;32mraise\u001b[0m \u001b[0mKeyError\u001b[0m\u001b[0;34m(\u001b[0m\u001b[0mkey\u001b[0m\u001b[0;34m)\u001b[0m \u001b[0;32mfrom\u001b[0m \u001b[0merr\u001b[0m\u001b[0;34m\u001b[0m\u001b[0;34m\u001b[0m\u001b[0m\n\u001b[0m\u001b[1;32m   3805\u001b[0m             \u001b[0;32mexcept\u001b[0m \u001b[0mTypeError\u001b[0m\u001b[0;34m:\u001b[0m\u001b[0;34m\u001b[0m\u001b[0;34m\u001b[0m\u001b[0m\n\u001b[1;32m   3806\u001b[0m                 \u001b[0;31m# If we have a listlike key, _check_indexing_error will raise\u001b[0m\u001b[0;34m\u001b[0m\u001b[0;34m\u001b[0m\u001b[0m\n",
            "\u001b[0;31mKeyError\u001b[0m: 0"
          ]
        }
      ]
    },
    {
      "cell_type": "code",
      "source": [
        "churn_by_province = df.groupby('province')['is_churn'].mean()\n",
        "churn_by_province.plot(kind='bar')\n",
        "plt.xlabel('Province')\n",
        "plt.ylabel('Churn Rate')\n",
        "plt.title('Churn Rate by Province')\n",
        "plt.show()"
      ],
      "metadata": {
        "colab": {
          "base_uri": "https://localhost:8080/",
          "height": 467
        },
        "id": "gNLDTyhiOujg",
        "outputId": "ac145a14-8391-41b6-8eb3-473d54acbd77"
      },
      "execution_count": null,
      "outputs": [
        {
          "output_type": "display_data",
          "data": {
            "text/plain": [
              "<Figure size 640x480 with 1 Axes>"
            ],
            "image/png": "[encoded data removed]"
          },
          "metadata": {}
        }
      ]
    },
    {
      "cell_type": "markdown",
      "metadata": {
        "id": "MZY39Jr6fYOi"
      },
      "source": [
        "### Categorical features"
      ]
    },
    {
      "cell_type": "markdown",
      "metadata": {
        "id": "Lz125lscedj3"
      },
      "source": [
        "#### Loại giao dịch"
      ]
    },
    {
      "cell_type": "code",
      "execution_count": null,
      "metadata": {
        "id": "phJyrM8Po_sg"
      },
      "outputs": [],
      "source": [
        "new_df = pd.DataFrame(data={'Mar' : df1['most_act_Juin'].value_counts().values, \n",
        "                               'June': df1['most_act_Mar'].value_counts().values},\n",
        "                      index=['Giao Dich Chuyen Khoan', 'Giao Dich Thanh Toan', 'Giao Dich Tiet Kiem','Giao Dich Phi Tai Chinh','Giao Dich Rut Tien Atm'])"
      ]
    },
    {
      "cell_type": "code",
      "execution_count": null,
      "metadata": {
        "colab": {
          "base_uri": "https://localhost:8080/",
          "height": 544
        },
        "id": "hLzIKCtUo_sg",
        "outputId": "50e4e340-d5e1-4ea4-a296-ddefa44a53e9"
      },
      "outputs": [
        {
          "output_type": "display_data",
          "data": {
            "text/plain": [
              "<Figure size 1500x600 with 1 Axes>"
            ],
            "image/png": "[encoded data removed]"
          },
          "metadata": {}
        }
      ],
      "source": [
        "fig, ax = plt.subplots(figsize = (15,6))\n",
        "x = np.arange(len(new_df.index))\n",
        "width = 0.35\n",
        "\n",
        "# Plotting the bars for 'Mar'\n",
        "rects1 = ax.bar(x - width/2, new_df['Mar'], width, label='Mar')\n",
        "\n",
        "# Plotting the bars for 'June'\n",
        "rects2 = ax.bar(x + width/2, new_df['June'], width, label='June')\n",
        "\n",
        "# Add some text for labels, title, and custom x-axis tick labels, etc.\n",
        "ax.set_ylabel('Số KH', fontsize = 14)\n",
        "ax.set_title('Số lượng khách hàng sử dụng các hình thức giao dịch sử dụng trong tháng Ba và tháng Sáu', fontsize = 14)\n",
        "ax.set_xticks(x)\n",
        "ax.set_ylim(0,7001)\n",
        "ax.set_xticklabels(new_df.index, rotation=45)\n",
        "ax.legend()\n",
        "plt.show()"
      ]
    },
    {
      "cell_type": "markdown",
      "metadata": {
        "id": "g5wyT2YabZIE"
      },
      "source": [
        "* Dựa vào hai biểu đồ trên, ta thấy được rằng người dùng ưa chụng hình thức \"Giao dịch chuyển khoản\" nhất với khoảng hơn 6500 người sử dụng, trong khi \"Giao dịch rút tiền Atm\" là hình thức có ít người sử dụng nhất, chiếm tỉ lệ rất nhỏ"
      ]
    },
    {
      "cell_type": "markdown",
      "metadata": {
        "id": "Ebi2rFmh3QeO"
      },
      "source": [
        "## V. Data preprocessing for Machine Learning "
      ]
    },
    {
      "cell_type": "markdown",
      "source": [
        "##Preprocessing"
      ],
      "metadata": {
        "id": "OkUzSWnwdUpN"
      }
    },
    {
      "cell_type": "markdown",
      "source": [
        "**Get dummies với các trường Categorical vì các trường đều có ít unique value nên không bị tạo ra quá nhiều cột và gặp phải hiện tượng tự tương quan**"
      ],
      "metadata": {
        "id": "5Sh9QEH8drpH"
      }
    },
    {
      "cell_type": "code",
      "source": [
        "object_columns = df1.select_dtypes(include=['object']).columns\n",
        "for col in object_columns:\n",
        "    data_dummy = pd.get_dummies(df1[col], prefix = col, drop_first = True)\n",
        "    df1.pop(col)\n",
        "    df1 = pd.concat([df1, data_dummy], axis =1)"
      ],
      "metadata": {
        "id": "sF1KrsDAdwOU"
      },
      "execution_count": 56,
      "outputs": []
    },
    {
      "cell_type": "code",
      "source": [
        "df1.columns"
      ],
      "metadata": {
        "colab": {
          "base_uri": "https://localhost:8080/"
        },
        "id": "GFtMCrQFeWXN",
        "outputId": "c182294b-c07d-49ca-931a-e7f585ded7e3"
      },
      "execution_count": 57,
      "outputs": [
        {
          "output_type": "execute_result",
          "data": {
            "text/plain": [
              "Index(['resid_province', 'amount_week', 'service_code_week', 'service_no_week',\n",
              "       'ref_no_week', 'amount_month', 'service_code_month', 'service_no_month',\n",
              "       'ref_no_month', 'amount_3month', 'trans_group_3month', 'total_act_3',\n",
              "       'total_amt_mar2021', 'total_act_6', 'total_amt_6', 'saving_value_3',\n",
              "       'saving_value_6', 'total_login_3', 'total_login_6', 'total_login_heoso',\n",
              "       'is_churn', 'age', 'gender_MALE', 'marital_status_Single',\n",
              "       'most_act_6_Giao dich chuyen khoan', 'most_act_6_Giao dich thanh toan'],\n",
              "      dtype='object')"
            ]
          },
          "metadata": {},
          "execution_count": 57
        }
      ]
    },
    {
      "cell_type": "markdown",
      "metadata": {
        "id": "g-c32eJl4Mj2"
      },
      "source": [
        "### Train - Test split"
      ]
    },
    {
      "cell_type": "code",
      "source": [
        "X = df1.drop(['is_churn','total_act_6', 'total_amt_6','saving_value_6','total_login_6'], axis=1)\n",
        "y = df1['is_churn']\n",
        "X_train, X_test, y_train, y_test = train_test_split(X, y, test_size=0.2, random_state=42,stratify = y)"
      ],
      "metadata": {
        "id": "QBR-gL4FOjIr"
      },
      "execution_count": 58,
      "outputs": []
    },
    {
      "cell_type": "markdown",
      "source": [
        "## Modeling"
      ],
      "metadata": {
        "id": "PA898c-gPUmC"
      }
    },
    {
      "cell_type": "markdown",
      "source": [
        "# XGBoost"
      ],
      "metadata": {
        "id": "j8MEGbzGWaKB"
      }
    },
    {
      "cell_type": "code",
      "source": [
        "xgb = XGBClassifier()\n",
        "accuracy= cross_val_score(xgb, X_train, y_train, cv=5, scoring='accuracy')\n",
        "precision = cross_val_score(xgb, X_train, y_train, cv=5, scoring='precision')\n",
        "recall = cross_val_score(xgb, X_train, y_train, cv=5, scoring='recall')\n",
        "f1 = cross_val_score(xgb, X_train, y_train, cv=5, scoring='f1')\n",
        "\n",
        "# Print the results\n",
        "print(\"XGBoost Classifier Metrics:\")\n",
        "print(\"Accuracy:\", round(accuracy.mean(), 5) * 100, \"%\")\n",
        "print(\"Precision:\", round(precision.mean(), 5) * 100, \"%\")\n",
        "print(\"Recall:\", round(recall.mean(), 5) * 100, \"%\")\n",
        "print(\"F1 Score:\", round(f1.mean(), 5) * 100, \"%\")"
      ],
      "metadata": {
        "colab": {
          "base_uri": "https://localhost:8080/"
        },
        "id": "5rzHgyVMO1fz",
        "outputId": "65432e83-8503-43df-8eda-8d33f2cbcc93"
      },
      "execution_count": null,
      "outputs": [
        {
          "output_type": "stream",
          "name": "stdout",
          "text": [
            "XGBoost Classifier Metrics:\n",
            "Accuracy: 95.57600000000001 %\n",
            "Precision: 70.896 %\n",
            "Recall: 35.449000000000005 %\n",
            "F1 Score: 46.777 %\n"
          ]
        }
      ]
    },
    {
      "cell_type": "markdown",
      "source": [
        "# Random Forest"
      ],
      "metadata": {
        "id": "p77r7pBXWn9I"
      }
    },
    {
      "cell_type": "code",
      "source": [
        "from sklearn.ensemble import RandomForestClassifier"
      ],
      "metadata": {
        "id": "Q9aEbseDsyoj"
      },
      "execution_count": null,
      "outputs": []
    },
    {
      "cell_type": "code",
      "source": [
        "rf = RandomForestClassifier()\n",
        "accuracy= cross_val_score(rf, X_train, y_train, cv=5, scoring='accuracy')\n",
        "precision = cross_val_score(rf, X_train, y_train, cv=5, scoring='precision')\n",
        "recall = cross_val_score(rf, X_train, y_train, cv=5, scoring='recall')\n",
        "f1 = cross_val_score(rf, X_train, y_train, cv=5, scoring='f1')\n",
        "\n",
        "# Print the results\n",
        "print(\"Random Forest Metrics:\")\n",
        "print(\"Accuracy:\", round(accuracy.mean(), 5) * 100, \"%\")\n",
        "print(\"Precision:\", round(precision.mean(), 5) * 100, \"%\")\n",
        "print(\"Recall:\", round(recall.mean(), 5) * 100, \"%\")\n",
        "print(\"F1 Score:\", round(f1.mean(), 5) * 100, \"%\")"
      ],
      "metadata": {
        "colab": {
          "base_uri": "https://localhost:8080/"
        },
        "id": "kTaVB_rTUg6B",
        "outputId": "3b228549-035a-4220-b801-70a58641b263"
      },
      "execution_count": null,
      "outputs": [
        {
          "output_type": "stream",
          "name": "stdout",
          "text": [
            "Random Forest Metrics:\n",
            "Accuracy: 96.155 %\n",
            "Precision: 96.017 %\n",
            "Recall: 30.244 %\n",
            "F1 Score: 47.608 %\n"
          ]
        }
      ]
    },
    {
      "cell_type": "code",
      "source": [
        "rf = RandomForestRegressor()\n",
        "rf.fit(X_train, y_train)\n",
        "#Evaluate model on train \n",
        "y_rf_pred_train = rf.predict(X_train)\n",
        "print('accuracy on train: ', accuracy_score(y_train,y_rf_pred_train))\n",
        "print('precision score on train: ',precision_score(y_train,y_rf_pred_train))\n",
        "print('recall score on train: ',recall_score(y_train,y_rf_pred_train))\n",
        "print('f1 score on train: ',f1_score(y_train,y_rf_pred_train))\n",
        "#Evaluate model on test\n",
        "y_rf_pred_test = rf.predict(X_test)\n",
        "print('accuracy on train: ', accuracy_score(y_test,y_rf_pred_test))\n",
        "print('precision score on train: ',precision_score(y_test,y_rf_pred_test))\n",
        "print('recall score on train: ',recall_score(y_test,y_rf_pred_test))\n",
        "print('f1 score on train: ',f1_score(y_test,y_rf_pred_test))"
      ],
      "metadata": {
        "id": "bucTJynu8X7H",
        "colab": {
          "base_uri": "https://localhost:8080/",
          "height": 449
        },
        "outputId": "5b0de897-e0ea-43bc-8a96-734d2e63005f"
      },
      "execution_count": null,
      "outputs": [
        {
          "output_type": "error",
          "ename": "ValueError",
          "evalue": "ignored",
          "traceback": [
            "\u001b[0;31m---------------------------------------------------------------------------\u001b[0m",
            "\u001b[0;31mValueError\u001b[0m                                Traceback (most recent call last)",
            "\u001b[0;32m<ipython-input-52-d7c76e74f72f>\u001b[0m in \u001b[0;36m<cell line: 5>\u001b[0;34m()\u001b[0m\n\u001b[1;32m      3\u001b[0m \u001b[0;31m#Evaluate model on train\u001b[0m\u001b[0;34m\u001b[0m\u001b[0;34m\u001b[0m\u001b[0m\n\u001b[1;32m      4\u001b[0m \u001b[0my_rf_pred_train\u001b[0m \u001b[0;34m=\u001b[0m \u001b[0mrf\u001b[0m\u001b[0;34m.\u001b[0m\u001b[0mpredict\u001b[0m\u001b[0;34m(\u001b[0m\u001b[0mX_train\u001b[0m\u001b[0;34m)\u001b[0m\u001b[0;34m\u001b[0m\u001b[0;34m\u001b[0m\u001b[0m\n\u001b[0;32m----> 5\u001b[0;31m \u001b[0mprint\u001b[0m\u001b[0;34m(\u001b[0m\u001b[0;34m'accuracy on train: '\u001b[0m\u001b[0;34m,\u001b[0m \u001b[0maccuracy_score\u001b[0m\u001b[0;34m(\u001b[0m\u001b[0my_train\u001b[0m\u001b[0;34m,\u001b[0m\u001b[0my_rf_pred_train\u001b[0m\u001b[0;34m)\u001b[0m\u001b[0;34m)\u001b[0m\u001b[0;34m\u001b[0m\u001b[0;34m\u001b[0m\u001b[0m\n\u001b[0m\u001b[1;32m      6\u001b[0m \u001b[0mprint\u001b[0m\u001b[0;34m(\u001b[0m\u001b[0;34m'precision score on train: '\u001b[0m\u001b[0;34m,\u001b[0m\u001b[0mprecision_score\u001b[0m\u001b[0;34m(\u001b[0m\u001b[0my_train\u001b[0m\u001b[0;34m,\u001b[0m\u001b[0my_rf_pred_train\u001b[0m\u001b[0;34m)\u001b[0m\u001b[0;34m)\u001b[0m\u001b[0;34m\u001b[0m\u001b[0;34m\u001b[0m\u001b[0m\n\u001b[1;32m      7\u001b[0m \u001b[0mprint\u001b[0m\u001b[0;34m(\u001b[0m\u001b[0;34m'recall score on train: '\u001b[0m\u001b[0;34m,\u001b[0m\u001b[0mrecall_score\u001b[0m\u001b[0;34m(\u001b[0m\u001b[0my_train\u001b[0m\u001b[0;34m,\u001b[0m\u001b[0my_rf_pred_train\u001b[0m\u001b[0;34m)\u001b[0m\u001b[0;34m)\u001b[0m\u001b[0;34m\u001b[0m\u001b[0;34m\u001b[0m\u001b[0m\n",
            "\u001b[0;32m/usr/local/lib/python3.10/dist-packages/sklearn/utils/_param_validation.py\u001b[0m in \u001b[0;36mwrapper\u001b[0;34m(*args, **kwargs)\u001b[0m\n\u001b[1;32m    190\u001b[0m \u001b[0;34m\u001b[0m\u001b[0m\n\u001b[1;32m    191\u001b[0m             \u001b[0;32mtry\u001b[0m\u001b[0;34m:\u001b[0m\u001b[0;34m\u001b[0m\u001b[0;34m\u001b[0m\u001b[0m\n\u001b[0;32m--> 192\u001b[0;31m                 \u001b[0;32mreturn\u001b[0m \u001b[0mfunc\u001b[0m\u001b[0;34m(\u001b[0m\u001b[0;34m*\u001b[0m\u001b[0margs\u001b[0m\u001b[0;34m,\u001b[0m \u001b[0;34m**\u001b[0m\u001b[0mkwargs\u001b[0m\u001b[0;34m)\u001b[0m\u001b[0;34m\u001b[0m\u001b[0;34m\u001b[0m\u001b[0m\n\u001b[0m\u001b[1;32m    193\u001b[0m             \u001b[0;32mexcept\u001b[0m \u001b[0mInvalidParameterError\u001b[0m \u001b[0;32mas\u001b[0m \u001b[0me\u001b[0m\u001b[0;34m:\u001b[0m\u001b[0;34m\u001b[0m\u001b[0;34m\u001b[0m\u001b[0m\n\u001b[1;32m    194\u001b[0m                 \u001b[0;31m# When the function is just a wrapper around an estimator, we allow\u001b[0m\u001b[0;34m\u001b[0m\u001b[0;34m\u001b[0m\u001b[0m\n",
            "\u001b[0;32m/usr/local/lib/python3.10/dist-packages/sklearn/metrics/_classification.py\u001b[0m in \u001b[0;36maccuracy_score\u001b[0;34m(y_true, y_pred, normalize, sample_weight)\u001b[0m\n\u001b[1;32m    219\u001b[0m \u001b[0;34m\u001b[0m\u001b[0m\n\u001b[1;32m    220\u001b[0m     \u001b[0;31m# Compute accuracy for each possible representation\u001b[0m\u001b[0;34m\u001b[0m\u001b[0;34m\u001b[0m\u001b[0m\n\u001b[0;32m--> 221\u001b[0;31m     \u001b[0my_type\u001b[0m\u001b[0;34m,\u001b[0m \u001b[0my_true\u001b[0m\u001b[0;34m,\u001b[0m \u001b[0my_pred\u001b[0m \u001b[0;34m=\u001b[0m \u001b[0m_check_targets\u001b[0m\u001b[0;34m(\u001b[0m\u001b[0my_true\u001b[0m\u001b[0;34m,\u001b[0m \u001b[0my_pred\u001b[0m\u001b[0;34m)\u001b[0m\u001b[0;34m\u001b[0m\u001b[0;34m\u001b[0m\u001b[0m\n\u001b[0m\u001b[1;32m    222\u001b[0m     \u001b[0mcheck_consistent_length\u001b[0m\u001b[0;34m(\u001b[0m\u001b[0my_true\u001b[0m\u001b[0;34m,\u001b[0m \u001b[0my_pred\u001b[0m\u001b[0;34m,\u001b[0m \u001b[0msample_weight\u001b[0m\u001b[0;34m)\u001b[0m\u001b[0;34m\u001b[0m\u001b[0;34m\u001b[0m\u001b[0m\n\u001b[1;32m    223\u001b[0m     \u001b[0;32mif\u001b[0m \u001b[0my_type\u001b[0m\u001b[0;34m.\u001b[0m\u001b[0mstartswith\u001b[0m\u001b[0;34m(\u001b[0m\u001b[0;34m\"multilabel\"\u001b[0m\u001b[0;34m)\u001b[0m\u001b[0;34m:\u001b[0m\u001b[0;34m\u001b[0m\u001b[0;34m\u001b[0m\u001b[0m\n",
            "\u001b[0;32m/usr/local/lib/python3.10/dist-packages/sklearn/metrics/_classification.py\u001b[0m in \u001b[0;36m_check_targets\u001b[0;34m(y_true, y_pred)\u001b[0m\n\u001b[1;32m     93\u001b[0m \u001b[0;34m\u001b[0m\u001b[0m\n\u001b[1;32m     94\u001b[0m     \u001b[0;32mif\u001b[0m \u001b[0mlen\u001b[0m\u001b[0;34m(\u001b[0m\u001b[0my_type\u001b[0m\u001b[0;34m)\u001b[0m \u001b[0;34m>\u001b[0m \u001b[0;36m1\u001b[0m\u001b[0;34m:\u001b[0m\u001b[0;34m\u001b[0m\u001b[0;34m\u001b[0m\u001b[0m\n\u001b[0;32m---> 95\u001b[0;31m         raise ValueError(\n\u001b[0m\u001b[1;32m     96\u001b[0m             \"Classification metrics can't handle a mix of {0} and {1} targets\".format(\n\u001b[1;32m     97\u001b[0m                 \u001b[0mtype_true\u001b[0m\u001b[0;34m,\u001b[0m \u001b[0mtype_pred\u001b[0m\u001b[0;34m\u001b[0m\u001b[0;34m\u001b[0m\u001b[0m\n",
            "\u001b[0;31mValueError\u001b[0m: Classification metrics can't handle a mix of binary and continuous targets"
          ]
        }
      ]
    },
    {
      "cell_type": "markdown",
      "source": [
        "# AdaBoost"
      ],
      "metadata": {
        "id": "X4o0hH50Wu1e"
      }
    },
    {
      "cell_type": "code",
      "source": [
        "from sklearn.metrics import precision_score"
      ],
      "metadata": {
        "id": "b60Svb75w2XG"
      },
      "execution_count": null,
      "outputs": []
    },
    {
      "cell_type": "code",
      "source": [
        "from sklearn.metrics import recall_score, f1_score"
      ],
      "metadata": {
        "id": "_ieY-lbkxFaS"
      },
      "execution_count": null,
      "outputs": []
    },
    {
      "cell_type": "markdown",
      "source": [
        "Xây dựng mô hình AdaBoost"
      ],
      "metadata": {
        "id": "aRR_Au4A6pal"
      }
    },
    {
      "cell_type": "code",
      "source": [
        "ada_clf = AdaBoostClassifier(\n",
        "  DecisionTreeClassifier(max_depth=1), n_estimators=20,\n",
        "  algorithm=\"SAMME.R\", learning_rate=0.5)\n",
        "ada_clf.fit(X_train, y_train)\n",
        "# Evaluate model on train\n",
        "y_ada_pred_train = ada_clf.predict(X_train)\n",
        "print('accuracy on train: ', accuracy_score(y_train,y_ada_pred_train))\n",
        "print('precision score on train: ',precision_score(y_train,y_ada_pred_train))\n",
        "print('recall score on train: ',recall_score(y_train,y_ada_pred_train))\n",
        "print('f1 score on train: ',f1_score(y_train,y_ada_pred_train))\n",
        "# Evaluate model on test\n",
        "y_ada_pred_test = ada_clf.predict(X_test)\n",
        "print('accuracy on test: ', accuracy_score(y_test,y_ada_pred_test))\n",
        "print('precision score on test: ',precision_score(y_test,y_ada_pred_test))\n",
        "print('recall score on test: ',recall_score(y_test,y_ada_pred_test))\n",
        "print('f1 score on test: ',f1_score(y_test,y_ada_pred_test))"
      ],
      "metadata": {
        "id": "uvFzSi4W6rvZ",
        "colab": {
          "base_uri": "https://localhost:8080/"
        },
        "outputId": "2801c36b-f18d-4057-efa7-463e3c9ac7cc"
      },
      "execution_count": null,
      "outputs": [
        {
          "output_type": "stream",
          "name": "stdout",
          "text": [
            "accuracy on train:  0.9478535686067948\n",
            "precision score on train:  1.0\n",
            "recall score on train:  0.0660377358490566\n",
            "f1 score on train:  0.1238938053097345\n",
            "accuracy on test:  0.9494736842105264\n",
            "precision score on test:  1.0\n",
            "recall score on test:  0.09433962264150944\n",
            "f1 score on test:  0.1724137931034483\n"
          ]
        }
      ]
    },
    {
      "cell_type": "code",
      "source": [
        "ada_clf = AdaBoostClassifier()\n",
        "accuracy= cross_val_score(ada_clf, X_train, y_train, cv=5, scoring='accuracy')\n",
        "precision = cross_val_score(ada_clf, X_train, y_train, cv=5, scoring='precision')\n",
        "recall = cross_val_score(ada_clf, X_train, y_train, cv=5, scoring='recall')\n",
        "f1 = cross_val_score(ada_clf, X_train, y_train, cv=5, scoring='f1')\n",
        "\n",
        "# Print the results\n",
        "print(\" AdaBoos Metrics:\")\n",
        "print(\"Accuracy:\", round(accuracy.mean(), 5) * 100, \"%\")\n",
        "print(\"Precision:\", round(precision.mean(), 5) * 100, \"%\")\n",
        "print(\"Recall:\", round(recall.mean(), 5) * 100, \"%\")\n",
        "print(\"F1 Score:\", round(f1.mean(), 5) * 100, \"%\")\n"
      ],
      "metadata": {
        "colab": {
          "base_uri": "https://localhost:8080/"
        },
        "id": "2wMrigvBXcrQ",
        "outputId": "29d20000-2881-4a51-9dbb-8eb800d31e76"
      },
      "execution_count": null,
      "outputs": [
        {
          "output_type": "stream",
          "name": "stdout",
          "text": [
            " AdaBoos Metrics:\n",
            "Accuracy: 94.706 %\n",
            "Precision: 61.529 %\n",
            "Recall: 15.082999999999998 %\n",
            "F1 Score: 23.980999999999998 %\n"
          ]
        }
      ]
    },
    {
      "cell_type": "markdown",
      "source": [
        "# Support Vector Machines (SVM)"
      ],
      "metadata": {
        "id": "rLlqOWwG0n7S"
      }
    },
    {
      "cell_type": "code",
      "source": [
        "from sklearn.svm import SVC"
      ],
      "metadata": {
        "id": "x3L3oFgg0qJT"
      },
      "execution_count": null,
      "outputs": []
    },
    {
      "cell_type": "code",
      "source": [
        "svc = SVC()\n",
        "svc.fit(X_train, y_train)\n",
        "#Evaluate model on train \n",
        "y_svc_pred_train = svc.predict(X_train)\n",
        "print('accuracy on train: ', accuracy_score(y_train,y_svc_pred_train))\n",
        "print('precision score on train: ',precision_score(y_train,y_svc_pred_train))\n",
        "print('recall score on train: ',recall_score(y_train,y_svc_pred_train))\n",
        "print('f1 score on train: ',f1_score(y_train,y_svc_pred_train))\n",
        "#Evaluate model on test\n",
        "y_svc_pred_test = svc.predict(X_test)\n",
        "print('accuracy on train: ', accuracy_score(y_test,y_svc_pred_test))\n",
        "print('precision score on train: ',precision_score(y_test,y_svc_pred_test))\n",
        "print('recall score on train: ',recall_score(y_test,y_svc_pred_test))\n",
        "print('f1 score on train: ',f1_score(y_test,y_svc_pred_test))"
      ],
      "metadata": {
        "id": "R5J_RgG31AgK",
        "colab": {
          "base_uri": "https://localhost:8080/"
        },
        "outputId": "7a53e855-d752-43e1-db48-5c51493345ca"
      },
      "execution_count": null,
      "outputs": [
        {
          "output_type": "stream",
          "name": "stdout",
          "text": [
            "accuracy on train:  0.9441664471951541\n",
            "precision score on train:  0.0\n",
            "recall score on train:  0.0\n",
            "f1 score on train:  0.0\n",
            "accuracy on train:  0.9442105263157895\n",
            "precision score on train:  0.0\n",
            "recall score on train:  0.0\n",
            "f1 score on train:  0.0\n"
          ]
        },
        {
          "output_type": "stream",
          "name": "stderr",
          "text": [
            "/usr/local/lib/python3.10/dist-packages/sklearn/metrics/_classification.py:1344: UndefinedMetricWarning: Precision is ill-defined and being set to 0.0 due to no predicted samples. Use `zero_division` parameter to control this behavior.\n",
            "  _warn_prf(average, modifier, msg_start, len(result))\n",
            "/usr/local/lib/python3.10/dist-packages/sklearn/metrics/_classification.py:1344: UndefinedMetricWarning: Precision is ill-defined and being set to 0.0 due to no predicted samples. Use `zero_division` parameter to control this behavior.\n",
            "  _warn_prf(average, modifier, msg_start, len(result))\n"
          ]
        }
      ]
    },
    {
      "cell_type": "code",
      "source": [
        "svc = SVC()\n",
        "accuracy= cross_val_score(svc, X_train, y_train, cv=3, scoring='accuracy')\n",
        "precision = cross_val_score(svc, X_train, y_train, cv=3, scoring='precision')\n",
        "recall = cross_val_score(svc, X_train, y_train, cv=3, scoring='recall')\n",
        "f1 = cross_val_score(svc, X_train, y_train, cv=3, scoring='f1')\n",
        "\n",
        "# Print the results\n",
        "print(\" SVC Metrics:\")\n",
        "print(\"Accuracy:\", round(accuracy.mean(), 5) * 100, \"%\")\n",
        "print(\"Precision:\", round(precision.mean(), 5) * 100, \"%\")\n",
        "print(\"Recall:\", round(recall.mean(), 5) * 100, \"%\")\n",
        "print(\"F1 Score:\", round(f1.mean(), 5) * 100, \"%\")"
      ],
      "metadata": {
        "id": "ydGVctjctcET",
        "outputId": "32b9a24f-ef88-41a6-96d9-240d8c427c8c",
        "colab": {
          "base_uri": "https://localhost:8080/"
        }
      },
      "execution_count": null,
      "outputs": [
        {
          "output_type": "stream",
          "name": "stderr",
          "text": [
            "/usr/local/lib/python3.10/dist-packages/sklearn/metrics/_classification.py:1344: UndefinedMetricWarning: Precision is ill-defined and being set to 0.0 due to no predicted samples. Use `zero_division` parameter to control this behavior.\n",
            "  _warn_prf(average, modifier, msg_start, len(result))\n",
            "/usr/local/lib/python3.10/dist-packages/sklearn/metrics/_classification.py:1344: UndefinedMetricWarning: Precision is ill-defined and being set to 0.0 due to no predicted samples. Use `zero_division` parameter to control this behavior.\n",
            "  _warn_prf(average, modifier, msg_start, len(result))\n",
            "/usr/local/lib/python3.10/dist-packages/sklearn/metrics/_classification.py:1344: UndefinedMetricWarning: Precision is ill-defined and being set to 0.0 due to no predicted samples. Use `zero_division` parameter to control this behavior.\n",
            "  _warn_prf(average, modifier, msg_start, len(result))\n"
          ]
        },
        {
          "output_type": "stream",
          "name": "stdout",
          "text": [
            " SVC Metrics:\n",
            "Accuracy: 94.417 %\n",
            "Precision: 0.0 %\n",
            "Recall: 0.0 %\n",
            "F1 Score: 0.0 %\n"
          ]
        }
      ]
    },
    {
      "cell_type": "markdown",
      "source": [
        "# KNeighborsClassifier(KNN)"
      ],
      "metadata": {
        "id": "unpdVEvNqHDX"
      }
    },
    {
      "cell_type": "code",
      "source": [
        "from sklearn.neighbors import KNeighborsClassifier\n",
        "from sklearn.model_selection import train_test_split\n",
        "from sklearn.metrics import accuracy_score\n",
        "# Khởi tạo mô hình KNN với k = 3\n",
        "knn = KNeighborsClassifier(n_neighbors=3)\n",
        "\n",
        "# Huấn luyện mô hình\n",
        "knn.fit(X_train, y_train)\n",
        "\n",
        "#estimate model on train\n",
        "y_knn_pred_train = knn.predict(X_train)\n",
        "print('accuracy on train: ', accuracy_score(y_train,y_knn_pred_train))\n",
        "print('precision score on train: ',precision_score(y_train,y_knn_pred_train))\n",
        "print('recall score on train: ',recall_score(y_train,y_knn_pred_train))\n",
        "print('f1 score on train: ',f1_score(y_train,y_knn_pred_train))\n",
        "#estimate model on test\n",
        "y_knn_pred_test = knn.predict(X_test)\n",
        "print('accuracy on test: ', accuracy_score(y_test,y_knn_pred_test))\n",
        "print('precision score on test: ',precision_score(y_test,y_knn_pred_test))\n",
        "print('recall score on test: ',recall_score(y_test,y_knn_pred_test))\n",
        "print('f1 score on test: ',f1_score(y_test,y_knn_pred_test))"
      ],
      "metadata": {
        "id": "5WJPLU4GpgDK",
        "colab": {
          "base_uri": "https://localhost:8080/"
        },
        "outputId": "1a9318b6-b056-4436-d6ae-19ddd61c5f3d"
      },
      "execution_count": null,
      "outputs": [
        {
          "output_type": "stream",
          "name": "stdout",
          "text": [
            "accuracy on train:  0.9657624440347643\n",
            "precision score on train:  0.8416666666666667\n",
            "recall score on train:  0.47641509433962265\n",
            "f1 score on train:  0.6084337349397589\n",
            "accuracy on train:  0.9442105263157895\n",
            "precision score on train:  0.5\n",
            "recall score on train:  0.18867924528301888\n",
            "f1 score on train:  0.27397260273972607\n"
          ]
        }
      ]
    },
    {
      "cell_type": "code",
      "source": [
        "from sklearn.neighbors import KNeighborsClassifier\n",
        "from sklearn.model_selection import train_test_split\n",
        "from sklearn.metrics import accuracy_score\n",
        "knn = KNeighborsClassifier(n_neighbors=3)\n",
        "accuracy= cross_val_score(knn, X_train, y_train, cv=5, scoring='accuracy')\n",
        "precision = cross_val_score(knn, X_train, y_train, cv=5, scoring='precision')\n",
        "recall = cross_val_score(knn, X_train, y_train, cv=5, scoring='recall')\n",
        "f1 = cross_val_score(knn, X_train, y_train, cv=5, scoring='f1')\n",
        "\n",
        "# Print the results\n",
        "print(\" KNN Metrics:\")\n",
        "print(\"Accuracy:\", round(accuracy.mean(), 5) * 100, \"%\")\n",
        "print(\"Precision:\", round(precision.mean(), 5) * 100, \"%\")\n",
        "print(\"Recall:\", round(recall.mean(), 5) * 100, \"%\")\n",
        "print(\"F1 Score:\", round(f1.mean(), 5) * 100, \"%\")\n"
      ],
      "metadata": {
        "id": "-6OBypaFxSq1",
        "outputId": "82521f30-ea84-48ba-862b-968146fd3b03",
        "colab": {
          "base_uri": "https://localhost:8080/"
        }
      },
      "execution_count": null,
      "outputs": [
        {
          "output_type": "stream",
          "name": "stdout",
          "text": [
            " KNN Metrics:\n",
            "Accuracy: 94.628 %\n",
            "Precision: 57.367999999999995 %\n",
            "Recall: 25.979999999999997 %\n",
            "F1 Score: 35.183 %\n"
          ]
        }
      ]
    },
    {
      "cell_type": "code",
      "source": [],
      "metadata": {
        "id": "8_aKZVK_uc_p"
      },
      "execution_count": null,
      "outputs": []
    },
    {
      "cell_type": "markdown",
      "source": [
        "## Tuning"
      ],
      "metadata": {
        "id": "0Fyw2BYzPZbZ"
      }
    },
    {
      "cell_type": "code",
      "source": [],
      "metadata": {
        "id": "rabQjKB0PaXJ"
      },
      "execution_count": null,
      "outputs": []
    },
    {
      "cell_type": "markdown",
      "source": [
        "## Predicting"
      ],
      "metadata": {
        "id": "jFDI0ZRrPcop"
      }
    },
    {
      "cell_type": "code",
      "source": [],
      "metadata": {
        "id": "pOXOjIEsPd4F"
      },
      "execution_count": null,
      "outputs": []
    },
    {
      "cell_type": "markdown",
      "source": [
        "# CONCLUSION AND RECOMMENDATION"
      ],
      "metadata": {
        "id": "puCU9U9NPj13"
      }
    },
    {
      "cell_type": "code",
      "source": [],
      "metadata": {
        "id": "pJP6tGUKPm4D"
      },
      "execution_count": null,
      "outputs": []
    }
  ],
  "metadata": {
    "colab": {
      "provenance": [],
      "gpuType": "T4",
      "toc_visible": true,
      "include_colab_link": true
    },
    "kernelspec": {
      "display_name": "Python 3",
      "name": "python3"
    },
    "language_info": {
      "codemirror_mode": {
        "name": "ipython",
        "version": 3
      },
      "file_extension": ".py",
      "mimetype": "text/x-python",
      "name": "python",
      "nbconvert_exporter": "python",
      "pygments_lexer": "ipython3",
      "version": "3.10.0"
    },
    "accelerator": "GPU",
    "gpuClass": "standard"
  },
  "nbformat": 4,
  "nbformat_minor": 0
}